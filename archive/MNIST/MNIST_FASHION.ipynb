{
 "cells": [
  {
   "cell_type": "code",
   "execution_count": 2,
   "id": "71d4bda9",
   "metadata": {
    "executionInfo": {
     "elapsed": 13837,
     "status": "ok",
     "timestamp": 1746431348525,
     "user": {
      "displayName": "Hind Azegrouz",
      "userId": "04469582049561885297"
     },
     "user_tz": -120
    },
    "id": "71d4bda9"
   },
   "outputs": [],
   "source": [
    "import numpy as np\n",
    "from tensorflow import keras\n",
    "from keras.datasets import mnist"
   ]
  },
  {
   "cell_type": "code",
   "execution_count": 3,
   "id": "e484a5b3",
   "metadata": {
    "colab": {
     "base_uri": "https://localhost:8080/"
    },
    "executionInfo": {
     "elapsed": 1128,
     "status": "ok",
     "timestamp": 1746431349667,
     "user": {
      "displayName": "Hind Azegrouz",
      "userId": "04469582049561885297"
     },
     "user_tz": -120
    },
    "id": "e484a5b3",
    "outputId": "3a17c5ee-1f22-499f-e9fc-e7826ec0683e"
   },
   "outputs": [],
   "source": [
    "(x_train, y_train), (x_test, y_test) = keras.datasets.fashion_mnist.load_data()"
   ]
  },
  {
   "cell_type": "code",
   "execution_count": 4,
   "id": "7fd2576b",
   "metadata": {
    "colab": {
     "base_uri": "https://localhost:8080/"
    },
    "executionInfo": {
     "elapsed": 36,
     "status": "ok",
     "timestamp": 1746431349708,
     "user": {
      "displayName": "Hind Azegrouz",
      "userId": "04469582049561885297"
     },
     "user_tz": -120
    },
    "id": "7fd2576b",
    "outputId": "c74767b2-d662-4c75-deb4-9879de883709"
   },
   "outputs": [
    {
     "name": "stdout",
     "output_type": "stream",
     "text": [
      "(60000, 28, 28) (60000,)\n",
      "(10000, 28, 28) (10000,)\n"
     ]
    }
   ],
   "source": [
    "print(x_train.shape, y_train.shape)\n",
    "print(x_test.shape, y_test.shape)"
   ]
  },
  {
   "cell_type": "code",
   "execution_count": 5,
   "id": "f8079421",
   "metadata": {
    "colab": {
     "base_uri": "https://localhost:8080/"
    },
    "collapsed": true,
    "executionInfo": {
     "elapsed": 627,
     "status": "ok",
     "timestamp": 1746431350337,
     "user": {
      "displayName": "Hind Azegrouz",
      "userId": "04469582049561885297"
     },
     "user_tz": -120
    },
    "id": "f8079421",
    "outputId": "5da645e8-2b82-4e45-f4e4-93e385a642a5"
   },
   "outputs": [
    {
     "name": "stdout",
     "output_type": "stream",
     "text": [
      "[[[  0   0   0   0   0   0   0   0   0   0   0   0   0   0   0   0   0\n",
      "     0   0   0   0   0   0   0   0   0   0   0]\n",
      "  [  0   0   0   0   0   0   0   0   0   0   0   0   0   0   0   0   0\n",
      "     0   0   0   0   0   0   0   0   0   0   0]\n",
      "  [  0   0   0   0   0   0   0   0   0   0   0   0   0   0   0   0   0\n",
      "     0   0   0   0   0   0   0   0   0   0   0]\n",
      "  [  0   0   0   0   0   0   0   0   0   0   0   0   1   0   0  13  73\n",
      "     0   0   1   4   0   0   0   0   1   1   0]\n",
      "  [  0   0   0   0   0   0   0   0   0   0   0   0   3   0  36 136 127\n",
      "    62  54   0   0   0   1   3   4   0   0   3]\n",
      "  [  0   0   0   0   0   0   0   0   0   0   0   0   6   0 102 204 176\n",
      "   134 144 123  23   0   0   0   0  12  10   0]\n",
      "  [  0   0   0   0   0   0   0   0   0   0   0   0   0   0 155 236 207\n",
      "   178 107 156 161 109  64  23  77 130  72  15]\n",
      "  [  0   0   0   0   0   0   0   0   0   0   0   1   0  69 207 223 218\n",
      "   216 216 163 127 121 122 146 141  88 172  66]\n",
      "  [  0   0   0   0   0   0   0   0   0   1   1   1   0 200 232 232 233\n",
      "   229 223 223 215 213 164 127 123 196 229   0]\n",
      "  [  0   0   0   0   0   0   0   0   0   0   0   0   0 183 225 216 223\n",
      "   228 235 227 224 222 224 221 223 245 173   0]\n",
      "  [  0   0   0   0   0   0   0   0   0   0   0   0   0 193 228 218 213\n",
      "   198 180 212 210 211 213 223 220 243 202   0]\n",
      "  [  0   0   0   0   0   0   0   0   0   1   3   0  12 219 220 212 218\n",
      "   192 169 227 208 218 224 212 226 197 209  52]\n",
      "  [  0   0   0   0   0   0   0   0   0   0   6   0  99 244 222 220 218\n",
      "   203 198 221 215 213 222 220 245 119 167  56]\n",
      "  [  0   0   0   0   0   0   0   0   0   4   0   0  55 236 228 230 228\n",
      "   240 232 213 218 223 234 217 217 209  92   0]\n",
      "  [  0   0   1   4   6   7   2   0   0   0   0   0 237 226 217 223 222\n",
      "   219 222 221 216 223 229 215 218 255  77   0]\n",
      "  [  0   3   0   0   0   0   0   0   0  62 145 204 228 207 213 221 218\n",
      "   208 211 218 224 223 219 215 224 244 159   0]\n",
      "  [  0   0   0   0  18  44  82 107 189 228 220 222 217 226 200 205 211\n",
      "   230 224 234 176 188 250 248 233 238 215   0]\n",
      "  [  0  57 187 208 224 221 224 208 204 214 208 209 200 159 245 193 206\n",
      "   223 255 255 221 234 221 211 220 232 246   0]\n",
      "  [  3 202 228 224 221 211 211 214 205 205 205 220 240  80 150 255 229\n",
      "   221 188 154 191 210 204 209 222 228 225   0]\n",
      "  [ 98 233 198 210 222 229 229 234 249 220 194 215 217 241  65  73 106\n",
      "   117 168 219 221 215 217 223 223 224 229  29]\n",
      "  [ 75 204 212 204 193 205 211 225 216 185 197 206 198 213 240 195 227\n",
      "   245 239 223 218 212 209 222 220 221 230  67]\n",
      "  [ 48 203 183 194 213 197 185 190 194 192 202 214 219 221 220 236 225\n",
      "   216 199 206 186 181 177 172 181 205 206 115]\n",
      "  [  0 122 219 193 179 171 183 196 204 210 213 207 211 210 200 196 194\n",
      "   191 195 191 198 192 176 156 167 177 210  92]\n",
      "  [  0   0  74 189 212 191 175 172 175 181 185 188 189 188 193 198 204\n",
      "   209 210 210 211 188 188 194 192 216 170   0]\n",
      "  [  2   0   0   0  66 200 222 237 239 242 246 243 244 221 220 193 191\n",
      "   179 182 182 181 176 166 168  99  58   0   0]\n",
      "  [  0   0   0   0   0   0   0  40  61  44  72  41  35   0   0   0   0\n",
      "     0   0   0   0   0   0   0   0   0   0   0]\n",
      "  [  0   0   0   0   0   0   0   0   0   0   0   0   0   0   0   0   0\n",
      "     0   0   0   0   0   0   0   0   0   0   0]\n",
      "  [  0   0   0   0   0   0   0   0   0   0   0   0   0   0   0   0   0\n",
      "     0   0   0   0   0   0   0   0   0   0   0]]]\n",
      "[[[0.         0.         0.         0.         0.         0.\n",
      "   0.         0.         0.         0.         0.         0.\n",
      "   0.         0.         0.         0.         0.         0.\n",
      "   0.         0.         0.         0.         0.         0.\n",
      "   0.         0.         0.         0.        ]\n",
      "  [0.         0.         0.         0.         0.         0.\n",
      "   0.         0.         0.         0.         0.         0.\n",
      "   0.         0.         0.         0.         0.         0.\n",
      "   0.         0.         0.         0.         0.         0.\n",
      "   0.         0.         0.         0.        ]\n",
      "  [0.         0.         0.         0.         0.         0.\n",
      "   0.         0.         0.         0.         0.         0.\n",
      "   0.         0.         0.         0.         0.         0.\n",
      "   0.         0.         0.         0.         0.         0.\n",
      "   0.         0.         0.         0.        ]\n",
      "  [0.         0.         0.         0.         0.         0.\n",
      "   0.         0.         0.         0.         0.         0.\n",
      "   0.00392157 0.         0.         0.05098039 0.28627451 0.\n",
      "   0.         0.00392157 0.01568627 0.         0.         0.\n",
      "   0.         0.00392157 0.00392157 0.        ]\n",
      "  [0.         0.         0.         0.         0.         0.\n",
      "   0.         0.         0.         0.         0.         0.\n",
      "   0.01176471 0.         0.14117647 0.53333333 0.49803922 0.24313725\n",
      "   0.21176471 0.         0.         0.         0.00392157 0.01176471\n",
      "   0.01568627 0.         0.         0.01176471]\n",
      "  [0.         0.         0.         0.         0.         0.\n",
      "   0.         0.         0.         0.         0.         0.\n",
      "   0.02352941 0.         0.4        0.8        0.69019608 0.5254902\n",
      "   0.56470588 0.48235294 0.09019608 0.         0.         0.\n",
      "   0.         0.04705882 0.03921569 0.        ]\n",
      "  [0.         0.         0.         0.         0.         0.\n",
      "   0.         0.         0.         0.         0.         0.\n",
      "   0.         0.         0.60784314 0.9254902  0.81176471 0.69803922\n",
      "   0.41960784 0.61176471 0.63137255 0.42745098 0.25098039 0.09019608\n",
      "   0.30196078 0.50980392 0.28235294 0.05882353]\n",
      "  [0.         0.         0.         0.         0.         0.\n",
      "   0.         0.         0.         0.         0.         0.00392157\n",
      "   0.         0.27058824 0.81176471 0.8745098  0.85490196 0.84705882\n",
      "   0.84705882 0.63921569 0.49803922 0.4745098  0.47843137 0.57254902\n",
      "   0.55294118 0.34509804 0.6745098  0.25882353]\n",
      "  [0.         0.         0.         0.         0.         0.\n",
      "   0.         0.         0.         0.00392157 0.00392157 0.00392157\n",
      "   0.         0.78431373 0.90980392 0.90980392 0.91372549 0.89803922\n",
      "   0.8745098  0.8745098  0.84313725 0.83529412 0.64313725 0.49803922\n",
      "   0.48235294 0.76862745 0.89803922 0.        ]\n",
      "  [0.         0.         0.         0.         0.         0.\n",
      "   0.         0.         0.         0.         0.         0.\n",
      "   0.         0.71764706 0.88235294 0.84705882 0.8745098  0.89411765\n",
      "   0.92156863 0.89019608 0.87843137 0.87058824 0.87843137 0.86666667\n",
      "   0.8745098  0.96078431 0.67843137 0.        ]\n",
      "  [0.         0.         0.         0.         0.         0.\n",
      "   0.         0.         0.         0.         0.         0.\n",
      "   0.         0.75686275 0.89411765 0.85490196 0.83529412 0.77647059\n",
      "   0.70588235 0.83137255 0.82352941 0.82745098 0.83529412 0.8745098\n",
      "   0.8627451  0.95294118 0.79215686 0.        ]\n",
      "  [0.         0.         0.         0.         0.         0.\n",
      "   0.         0.         0.         0.00392157 0.01176471 0.\n",
      "   0.04705882 0.85882353 0.8627451  0.83137255 0.85490196 0.75294118\n",
      "   0.6627451  0.89019608 0.81568627 0.85490196 0.87843137 0.83137255\n",
      "   0.88627451 0.77254902 0.81960784 0.20392157]\n",
      "  [0.         0.         0.         0.         0.         0.\n",
      "   0.         0.         0.         0.         0.02352941 0.\n",
      "   0.38823529 0.95686275 0.87058824 0.8627451  0.85490196 0.79607843\n",
      "   0.77647059 0.86666667 0.84313725 0.83529412 0.87058824 0.8627451\n",
      "   0.96078431 0.46666667 0.65490196 0.21960784]\n",
      "  [0.         0.         0.         0.         0.         0.\n",
      "   0.         0.         0.         0.01568627 0.         0.\n",
      "   0.21568627 0.9254902  0.89411765 0.90196078 0.89411765 0.94117647\n",
      "   0.90980392 0.83529412 0.85490196 0.8745098  0.91764706 0.85098039\n",
      "   0.85098039 0.81960784 0.36078431 0.        ]\n",
      "  [0.         0.         0.00392157 0.01568627 0.02352941 0.02745098\n",
      "   0.00784314 0.         0.         0.         0.         0.\n",
      "   0.92941176 0.88627451 0.85098039 0.8745098  0.87058824 0.85882353\n",
      "   0.87058824 0.86666667 0.84705882 0.8745098  0.89803922 0.84313725\n",
      "   0.85490196 1.         0.30196078 0.        ]\n",
      "  [0.         0.01176471 0.         0.         0.         0.\n",
      "   0.         0.         0.         0.24313725 0.56862745 0.8\n",
      "   0.89411765 0.81176471 0.83529412 0.86666667 0.85490196 0.81568627\n",
      "   0.82745098 0.85490196 0.87843137 0.8745098  0.85882353 0.84313725\n",
      "   0.87843137 0.95686275 0.62352941 0.        ]\n",
      "  [0.         0.         0.         0.         0.07058824 0.17254902\n",
      "   0.32156863 0.41960784 0.74117647 0.89411765 0.8627451  0.87058824\n",
      "   0.85098039 0.88627451 0.78431373 0.80392157 0.82745098 0.90196078\n",
      "   0.87843137 0.91764706 0.69019608 0.7372549  0.98039216 0.97254902\n",
      "   0.91372549 0.93333333 0.84313725 0.        ]\n",
      "  [0.         0.22352941 0.73333333 0.81568627 0.87843137 0.86666667\n",
      "   0.87843137 0.81568627 0.8        0.83921569 0.81568627 0.81960784\n",
      "   0.78431373 0.62352941 0.96078431 0.75686275 0.80784314 0.8745098\n",
      "   1.         1.         0.86666667 0.91764706 0.86666667 0.82745098\n",
      "   0.8627451  0.90980392 0.96470588 0.        ]\n",
      "  [0.01176471 0.79215686 0.89411765 0.87843137 0.86666667 0.82745098\n",
      "   0.82745098 0.83921569 0.80392157 0.80392157 0.80392157 0.8627451\n",
      "   0.94117647 0.31372549 0.58823529 1.         0.89803922 0.86666667\n",
      "   0.7372549  0.60392157 0.74901961 0.82352941 0.8        0.81960784\n",
      "   0.87058824 0.89411765 0.88235294 0.        ]\n",
      "  [0.38431373 0.91372549 0.77647059 0.82352941 0.87058824 0.89803922\n",
      "   0.89803922 0.91764706 0.97647059 0.8627451  0.76078431 0.84313725\n",
      "   0.85098039 0.94509804 0.25490196 0.28627451 0.41568627 0.45882353\n",
      "   0.65882353 0.85882353 0.86666667 0.84313725 0.85098039 0.8745098\n",
      "   0.8745098  0.87843137 0.89803922 0.11372549]\n",
      "  [0.29411765 0.8        0.83137255 0.8        0.75686275 0.80392157\n",
      "   0.82745098 0.88235294 0.84705882 0.7254902  0.77254902 0.80784314\n",
      "   0.77647059 0.83529412 0.94117647 0.76470588 0.89019608 0.96078431\n",
      "   0.9372549  0.8745098  0.85490196 0.83137255 0.81960784 0.87058824\n",
      "   0.8627451  0.86666667 0.90196078 0.2627451 ]\n",
      "  [0.18823529 0.79607843 0.71764706 0.76078431 0.83529412 0.77254902\n",
      "   0.7254902  0.74509804 0.76078431 0.75294118 0.79215686 0.83921569\n",
      "   0.85882353 0.86666667 0.8627451  0.9254902  0.88235294 0.84705882\n",
      "   0.78039216 0.80784314 0.72941176 0.70980392 0.69411765 0.6745098\n",
      "   0.70980392 0.80392157 0.80784314 0.45098039]\n",
      "  [0.         0.47843137 0.85882353 0.75686275 0.70196078 0.67058824\n",
      "   0.71764706 0.76862745 0.8        0.82352941 0.83529412 0.81176471\n",
      "   0.82745098 0.82352941 0.78431373 0.76862745 0.76078431 0.74901961\n",
      "   0.76470588 0.74901961 0.77647059 0.75294118 0.69019608 0.61176471\n",
      "   0.65490196 0.69411765 0.82352941 0.36078431]\n",
      "  [0.         0.         0.29019608 0.74117647 0.83137255 0.74901961\n",
      "   0.68627451 0.6745098  0.68627451 0.70980392 0.7254902  0.7372549\n",
      "   0.74117647 0.7372549  0.75686275 0.77647059 0.8        0.81960784\n",
      "   0.82352941 0.82352941 0.82745098 0.7372549  0.7372549  0.76078431\n",
      "   0.75294118 0.84705882 0.66666667 0.        ]\n",
      "  [0.00784314 0.         0.         0.         0.25882353 0.78431373\n",
      "   0.87058824 0.92941176 0.9372549  0.94901961 0.96470588 0.95294118\n",
      "   0.95686275 0.86666667 0.8627451  0.75686275 0.74901961 0.70196078\n",
      "   0.71372549 0.71372549 0.70980392 0.69019608 0.65098039 0.65882353\n",
      "   0.38823529 0.22745098 0.         0.        ]\n",
      "  [0.         0.         0.         0.         0.         0.\n",
      "   0.         0.15686275 0.23921569 0.17254902 0.28235294 0.16078431\n",
      "   0.1372549  0.         0.         0.         0.         0.\n",
      "   0.         0.         0.         0.         0.         0.\n",
      "   0.         0.         0.         0.        ]\n",
      "  [0.         0.         0.         0.         0.         0.\n",
      "   0.         0.         0.         0.         0.         0.\n",
      "   0.         0.         0.         0.         0.         0.\n",
      "   0.         0.         0.         0.         0.         0.\n",
      "   0.         0.         0.         0.        ]\n",
      "  [0.         0.         0.         0.         0.         0.\n",
      "   0.         0.         0.         0.         0.         0.\n",
      "   0.         0.         0.         0.         0.         0.\n",
      "   0.         0.         0.         0.         0.         0.\n",
      "   0.         0.         0.         0.        ]]]\n"
     ]
    }
   ],
   "source": [
    "print(x_train[:1])\n",
    "\n",
    "x_train = x_train/255\n",
    "print(x_train[:1])\n",
    "\n",
    "x_test = x_test/255"
   ]
  },
  {
   "cell_type": "code",
   "execution_count": 6,
   "id": "4a052995",
   "metadata": {
    "colab": {
     "base_uri": "https://localhost:8080/"
    },
    "executionInfo": {
     "elapsed": 220,
     "status": "ok",
     "timestamp": 1746431350553,
     "user": {
      "displayName": "Hind Azegrouz",
      "userId": "04469582049561885297"
     },
     "user_tz": -120
    },
    "id": "4a052995",
    "outputId": "729a1624-22f8-4501-bbdd-ee45b34e7c04"
   },
   "outputs": [
    {
     "name": "stdout",
     "output_type": "stream",
     "text": [
      "[9 0 0 3 0]\n",
      "[[0. 0. 0. 0. 0. 0. 0. 0. 0. 1.]\n",
      " [1. 0. 0. 0. 0. 0. 0. 0. 0. 0.]\n",
      " [1. 0. 0. 0. 0. 0. 0. 0. 0. 0.]\n",
      " [0. 0. 0. 1. 0. 0. 0. 0. 0. 0.]\n",
      " [1. 0. 0. 0. 0. 0. 0. 0. 0. 0.]]\n"
     ]
    }
   ],
   "source": [
    "print(y_train[:5])\n",
    "\n",
    "y_train = keras.utils.to_categorical(y_train, num_classes=10)\n",
    "print(y_train[:5])"
   ]
  },
  {
   "cell_type": "code",
   "execution_count": 7,
   "id": "a5c39694",
   "metadata": {
    "executionInfo": {
     "elapsed": 23,
     "status": "ok",
     "timestamp": 1746431350577,
     "user": {
      "displayName": "Hind Azegrouz",
      "userId": "04469582049561885297"
     },
     "user_tz": -120
    },
    "id": "a5c39694"
   },
   "outputs": [],
   "source": [
    "from keras.models import Model\n",
    "from keras import Sequential\n",
    "from keras.layers import Conv1D, BatchNormalization, Dense, Flatten, Dropout\n",
    "from keras import Input"
   ]
  },
  {
   "cell_type": "code",
   "execution_count": 8,
   "id": "315b0093",
   "metadata": {
    "executionInfo": {
     "elapsed": 572,
     "status": "ok",
     "timestamp": 1746431351153,
     "user": {
      "displayName": "Hind Azegrouz",
      "userId": "04469582049561885297"
     },
     "user_tz": -120
    },
    "id": "315b0093"
   },
   "outputs": [],
   "source": [
    "i_layer = Input(shape=(28,28))\n",
    "\n",
    "x = Conv1D(filters=32, kernel_size=3, strides=1, padding='same', activation='relu')(i_layer)\n",
    "x = BatchNormalization(momentum=0.9)(x)\n",
    "x = Dropout(0.2)(x)\n",
    "\n",
    "x = Conv1D(filters=32, kernel_size=3, strides=1, padding='same', activation='relu')(x)\n",
    "x = BatchNormalization(momentum=0.9)(x)\n",
    "x = Dropout(0.2)(x)\n",
    "\n",
    "x = Conv1D(filters=32, kernel_size=3, strides=1, padding='same', activation='relu')(x)\n",
    "x = BatchNormalization(momentum=0.9)(x)\n",
    "x = Dropout(0.2)(x)\n",
    "\n",
    "# Additional\n",
    "# x = Conv1D(filters = 32, kernel_size = 3, strides = 1, padding = 'same', activation = 'relu')(x)\n",
    "# x = BatchNormalization(momentum = 0.9)(x)\n",
    "# x = Dropout(0.2)(x)\n",
    "\n",
    "x = Flatten()(x)\n",
    "x = Dense(units=128, activation='relu')(x)\n",
    "x = Dropout(0.2)(x)\n",
    "\n",
    "o_layer = Dense(units=10, activation='softmax')(x)\n",
    "\n",
    "model = Model(i_layer, o_layer)"
   ]
  },
  {
   "cell_type": "code",
   "execution_count": 9,
   "id": "349449ec",
   "metadata": {
    "colab": {
     "base_uri": "https://localhost:8080/",
     "height": 625
    },
    "executionInfo": {
     "elapsed": 255,
     "status": "ok",
     "timestamp": 1746431351412,
     "user": {
      "displayName": "Hind Azegrouz",
      "userId": "04469582049561885297"
     },
     "user_tz": -120
    },
    "id": "349449ec",
    "outputId": "e99abed5-101f-4c5d-c13e-0e53769adc15"
   },
   "outputs": [
    {
     "data": {
      "text/html": [
       "<pre style=\"white-space:pre;overflow-x:auto;line-height:normal;font-family:Menlo,'DejaVu Sans Mono',consolas,'Courier New',monospace\"><span style=\"font-weight: bold\">Model: \"functional\"</span>\n",
       "</pre>\n"
      ],
      "text/plain": [
       "\u001b[1mModel: \"functional\"\u001b[0m\n"
      ]
     },
     "metadata": {},
     "output_type": "display_data"
    },
    {
     "data": {
      "text/html": [
       "<pre style=\"white-space:pre;overflow-x:auto;line-height:normal;font-family:Menlo,'DejaVu Sans Mono',consolas,'Courier New',monospace\">┏━━━━━━━━━━━━━━━━━━━━━━━━━━━━━━━━━┳━━━━━━━━━━━━━━━━━━━━━━━━┳━━━━━━━━━━━━━━━┓\n",
       "┃<span style=\"font-weight: bold\"> Layer (type)                    </span>┃<span style=\"font-weight: bold\"> Output Shape           </span>┃<span style=\"font-weight: bold\">       Param # </span>┃\n",
       "┡━━━━━━━━━━━━━━━━━━━━━━━━━━━━━━━━━╇━━━━━━━━━━━━━━━━━━━━━━━━╇━━━━━━━━━━━━━━━┩\n",
       "│ input_layer (<span style=\"color: #0087ff; text-decoration-color: #0087ff\">InputLayer</span>)        │ (<span style=\"color: #00d7ff; text-decoration-color: #00d7ff\">None</span>, <span style=\"color: #00af00; text-decoration-color: #00af00\">28</span>, <span style=\"color: #00af00; text-decoration-color: #00af00\">28</span>)         │             <span style=\"color: #00af00; text-decoration-color: #00af00\">0</span> │\n",
       "├─────────────────────────────────┼────────────────────────┼───────────────┤\n",
       "│ conv1d (<span style=\"color: #0087ff; text-decoration-color: #0087ff\">Conv1D</span>)                 │ (<span style=\"color: #00d7ff; text-decoration-color: #00d7ff\">None</span>, <span style=\"color: #00af00; text-decoration-color: #00af00\">28</span>, <span style=\"color: #00af00; text-decoration-color: #00af00\">32</span>)         │         <span style=\"color: #00af00; text-decoration-color: #00af00\">2,720</span> │\n",
       "├─────────────────────────────────┼────────────────────────┼───────────────┤\n",
       "│ batch_normalization             │ (<span style=\"color: #00d7ff; text-decoration-color: #00d7ff\">None</span>, <span style=\"color: #00af00; text-decoration-color: #00af00\">28</span>, <span style=\"color: #00af00; text-decoration-color: #00af00\">32</span>)         │           <span style=\"color: #00af00; text-decoration-color: #00af00\">128</span> │\n",
       "│ (<span style=\"color: #0087ff; text-decoration-color: #0087ff\">BatchNormalization</span>)            │                        │               │\n",
       "├─────────────────────────────────┼────────────────────────┼───────────────┤\n",
       "│ dropout (<span style=\"color: #0087ff; text-decoration-color: #0087ff\">Dropout</span>)               │ (<span style=\"color: #00d7ff; text-decoration-color: #00d7ff\">None</span>, <span style=\"color: #00af00; text-decoration-color: #00af00\">28</span>, <span style=\"color: #00af00; text-decoration-color: #00af00\">32</span>)         │             <span style=\"color: #00af00; text-decoration-color: #00af00\">0</span> │\n",
       "├─────────────────────────────────┼────────────────────────┼───────────────┤\n",
       "│ conv1d_1 (<span style=\"color: #0087ff; text-decoration-color: #0087ff\">Conv1D</span>)               │ (<span style=\"color: #00d7ff; text-decoration-color: #00d7ff\">None</span>, <span style=\"color: #00af00; text-decoration-color: #00af00\">28</span>, <span style=\"color: #00af00; text-decoration-color: #00af00\">32</span>)         │         <span style=\"color: #00af00; text-decoration-color: #00af00\">3,104</span> │\n",
       "├─────────────────────────────────┼────────────────────────┼───────────────┤\n",
       "│ batch_normalization_1           │ (<span style=\"color: #00d7ff; text-decoration-color: #00d7ff\">None</span>, <span style=\"color: #00af00; text-decoration-color: #00af00\">28</span>, <span style=\"color: #00af00; text-decoration-color: #00af00\">32</span>)         │           <span style=\"color: #00af00; text-decoration-color: #00af00\">128</span> │\n",
       "│ (<span style=\"color: #0087ff; text-decoration-color: #0087ff\">BatchNormalization</span>)            │                        │               │\n",
       "├─────────────────────────────────┼────────────────────────┼───────────────┤\n",
       "│ dropout_1 (<span style=\"color: #0087ff; text-decoration-color: #0087ff\">Dropout</span>)             │ (<span style=\"color: #00d7ff; text-decoration-color: #00d7ff\">None</span>, <span style=\"color: #00af00; text-decoration-color: #00af00\">28</span>, <span style=\"color: #00af00; text-decoration-color: #00af00\">32</span>)         │             <span style=\"color: #00af00; text-decoration-color: #00af00\">0</span> │\n",
       "├─────────────────────────────────┼────────────────────────┼───────────────┤\n",
       "│ conv1d_2 (<span style=\"color: #0087ff; text-decoration-color: #0087ff\">Conv1D</span>)               │ (<span style=\"color: #00d7ff; text-decoration-color: #00d7ff\">None</span>, <span style=\"color: #00af00; text-decoration-color: #00af00\">28</span>, <span style=\"color: #00af00; text-decoration-color: #00af00\">32</span>)         │         <span style=\"color: #00af00; text-decoration-color: #00af00\">3,104</span> │\n",
       "├─────────────────────────────────┼────────────────────────┼───────────────┤\n",
       "│ batch_normalization_2           │ (<span style=\"color: #00d7ff; text-decoration-color: #00d7ff\">None</span>, <span style=\"color: #00af00; text-decoration-color: #00af00\">28</span>, <span style=\"color: #00af00; text-decoration-color: #00af00\">32</span>)         │           <span style=\"color: #00af00; text-decoration-color: #00af00\">128</span> │\n",
       "│ (<span style=\"color: #0087ff; text-decoration-color: #0087ff\">BatchNormalization</span>)            │                        │               │\n",
       "├─────────────────────────────────┼────────────────────────┼───────────────┤\n",
       "│ dropout_2 (<span style=\"color: #0087ff; text-decoration-color: #0087ff\">Dropout</span>)             │ (<span style=\"color: #00d7ff; text-decoration-color: #00d7ff\">None</span>, <span style=\"color: #00af00; text-decoration-color: #00af00\">28</span>, <span style=\"color: #00af00; text-decoration-color: #00af00\">32</span>)         │             <span style=\"color: #00af00; text-decoration-color: #00af00\">0</span> │\n",
       "├─────────────────────────────────┼────────────────────────┼───────────────┤\n",
       "│ flatten (<span style=\"color: #0087ff; text-decoration-color: #0087ff\">Flatten</span>)               │ (<span style=\"color: #00d7ff; text-decoration-color: #00d7ff\">None</span>, <span style=\"color: #00af00; text-decoration-color: #00af00\">896</span>)            │             <span style=\"color: #00af00; text-decoration-color: #00af00\">0</span> │\n",
       "├─────────────────────────────────┼────────────────────────┼───────────────┤\n",
       "│ dense (<span style=\"color: #0087ff; text-decoration-color: #0087ff\">Dense</span>)                   │ (<span style=\"color: #00d7ff; text-decoration-color: #00d7ff\">None</span>, <span style=\"color: #00af00; text-decoration-color: #00af00\">128</span>)            │       <span style=\"color: #00af00; text-decoration-color: #00af00\">114,816</span> │\n",
       "├─────────────────────────────────┼────────────────────────┼───────────────┤\n",
       "│ dropout_3 (<span style=\"color: #0087ff; text-decoration-color: #0087ff\">Dropout</span>)             │ (<span style=\"color: #00d7ff; text-decoration-color: #00d7ff\">None</span>, <span style=\"color: #00af00; text-decoration-color: #00af00\">128</span>)            │             <span style=\"color: #00af00; text-decoration-color: #00af00\">0</span> │\n",
       "├─────────────────────────────────┼────────────────────────┼───────────────┤\n",
       "│ dense_1 (<span style=\"color: #0087ff; text-decoration-color: #0087ff\">Dense</span>)                 │ (<span style=\"color: #00d7ff; text-decoration-color: #00d7ff\">None</span>, <span style=\"color: #00af00; text-decoration-color: #00af00\">10</span>)             │         <span style=\"color: #00af00; text-decoration-color: #00af00\">1,290</span> │\n",
       "└─────────────────────────────────┴────────────────────────┴───────────────┘\n",
       "</pre>\n"
      ],
      "text/plain": [
       "┏━━━━━━━━━━━━━━━━━━━━━━━━━━━━━━━━━┳━━━━━━━━━━━━━━━━━━━━━━━━┳━━━━━━━━━━━━━━━┓\n",
       "┃\u001b[1m \u001b[0m\u001b[1mLayer (type)                   \u001b[0m\u001b[1m \u001b[0m┃\u001b[1m \u001b[0m\u001b[1mOutput Shape          \u001b[0m\u001b[1m \u001b[0m┃\u001b[1m \u001b[0m\u001b[1m      Param #\u001b[0m\u001b[1m \u001b[0m┃\n",
       "┡━━━━━━━━━━━━━━━━━━━━━━━━━━━━━━━━━╇━━━━━━━━━━━━━━━━━━━━━━━━╇━━━━━━━━━━━━━━━┩\n",
       "│ input_layer (\u001b[38;5;33mInputLayer\u001b[0m)        │ (\u001b[38;5;45mNone\u001b[0m, \u001b[38;5;34m28\u001b[0m, \u001b[38;5;34m28\u001b[0m)         │             \u001b[38;5;34m0\u001b[0m │\n",
       "├─────────────────────────────────┼────────────────────────┼───────────────┤\n",
       "│ conv1d (\u001b[38;5;33mConv1D\u001b[0m)                 │ (\u001b[38;5;45mNone\u001b[0m, \u001b[38;5;34m28\u001b[0m, \u001b[38;5;34m32\u001b[0m)         │         \u001b[38;5;34m2,720\u001b[0m │\n",
       "├─────────────────────────────────┼────────────────────────┼───────────────┤\n",
       "│ batch_normalization             │ (\u001b[38;5;45mNone\u001b[0m, \u001b[38;5;34m28\u001b[0m, \u001b[38;5;34m32\u001b[0m)         │           \u001b[38;5;34m128\u001b[0m │\n",
       "│ (\u001b[38;5;33mBatchNormalization\u001b[0m)            │                        │               │\n",
       "├─────────────────────────────────┼────────────────────────┼───────────────┤\n",
       "│ dropout (\u001b[38;5;33mDropout\u001b[0m)               │ (\u001b[38;5;45mNone\u001b[0m, \u001b[38;5;34m28\u001b[0m, \u001b[38;5;34m32\u001b[0m)         │             \u001b[38;5;34m0\u001b[0m │\n",
       "├─────────────────────────────────┼────────────────────────┼───────────────┤\n",
       "│ conv1d_1 (\u001b[38;5;33mConv1D\u001b[0m)               │ (\u001b[38;5;45mNone\u001b[0m, \u001b[38;5;34m28\u001b[0m, \u001b[38;5;34m32\u001b[0m)         │         \u001b[38;5;34m3,104\u001b[0m │\n",
       "├─────────────────────────────────┼────────────────────────┼───────────────┤\n",
       "│ batch_normalization_1           │ (\u001b[38;5;45mNone\u001b[0m, \u001b[38;5;34m28\u001b[0m, \u001b[38;5;34m32\u001b[0m)         │           \u001b[38;5;34m128\u001b[0m │\n",
       "│ (\u001b[38;5;33mBatchNormalization\u001b[0m)            │                        │               │\n",
       "├─────────────────────────────────┼────────────────────────┼───────────────┤\n",
       "│ dropout_1 (\u001b[38;5;33mDropout\u001b[0m)             │ (\u001b[38;5;45mNone\u001b[0m, \u001b[38;5;34m28\u001b[0m, \u001b[38;5;34m32\u001b[0m)         │             \u001b[38;5;34m0\u001b[0m │\n",
       "├─────────────────────────────────┼────────────────────────┼───────────────┤\n",
       "│ conv1d_2 (\u001b[38;5;33mConv1D\u001b[0m)               │ (\u001b[38;5;45mNone\u001b[0m, \u001b[38;5;34m28\u001b[0m, \u001b[38;5;34m32\u001b[0m)         │         \u001b[38;5;34m3,104\u001b[0m │\n",
       "├─────────────────────────────────┼────────────────────────┼───────────────┤\n",
       "│ batch_normalization_2           │ (\u001b[38;5;45mNone\u001b[0m, \u001b[38;5;34m28\u001b[0m, \u001b[38;5;34m32\u001b[0m)         │           \u001b[38;5;34m128\u001b[0m │\n",
       "│ (\u001b[38;5;33mBatchNormalization\u001b[0m)            │                        │               │\n",
       "├─────────────────────────────────┼────────────────────────┼───────────────┤\n",
       "│ dropout_2 (\u001b[38;5;33mDropout\u001b[0m)             │ (\u001b[38;5;45mNone\u001b[0m, \u001b[38;5;34m28\u001b[0m, \u001b[38;5;34m32\u001b[0m)         │             \u001b[38;5;34m0\u001b[0m │\n",
       "├─────────────────────────────────┼────────────────────────┼───────────────┤\n",
       "│ flatten (\u001b[38;5;33mFlatten\u001b[0m)               │ (\u001b[38;5;45mNone\u001b[0m, \u001b[38;5;34m896\u001b[0m)            │             \u001b[38;5;34m0\u001b[0m │\n",
       "├─────────────────────────────────┼────────────────────────┼───────────────┤\n",
       "│ dense (\u001b[38;5;33mDense\u001b[0m)                   │ (\u001b[38;5;45mNone\u001b[0m, \u001b[38;5;34m128\u001b[0m)            │       \u001b[38;5;34m114,816\u001b[0m │\n",
       "├─────────────────────────────────┼────────────────────────┼───────────────┤\n",
       "│ dropout_3 (\u001b[38;5;33mDropout\u001b[0m)             │ (\u001b[38;5;45mNone\u001b[0m, \u001b[38;5;34m128\u001b[0m)            │             \u001b[38;5;34m0\u001b[0m │\n",
       "├─────────────────────────────────┼────────────────────────┼───────────────┤\n",
       "│ dense_1 (\u001b[38;5;33mDense\u001b[0m)                 │ (\u001b[38;5;45mNone\u001b[0m, \u001b[38;5;34m10\u001b[0m)             │         \u001b[38;5;34m1,290\u001b[0m │\n",
       "└─────────────────────────────────┴────────────────────────┴───────────────┘\n"
      ]
     },
     "metadata": {},
     "output_type": "display_data"
    },
    {
     "data": {
      "text/html": [
       "<pre style=\"white-space:pre;overflow-x:auto;line-height:normal;font-family:Menlo,'DejaVu Sans Mono',consolas,'Courier New',monospace\"><span style=\"font-weight: bold\"> Total params: </span><span style=\"color: #00af00; text-decoration-color: #00af00\">125,418</span> (489.91 KB)\n",
       "</pre>\n"
      ],
      "text/plain": [
       "\u001b[1m Total params: \u001b[0m\u001b[38;5;34m125,418\u001b[0m (489.91 KB)\n"
      ]
     },
     "metadata": {},
     "output_type": "display_data"
    },
    {
     "data": {
      "text/html": [
       "<pre style=\"white-space:pre;overflow-x:auto;line-height:normal;font-family:Menlo,'DejaVu Sans Mono',consolas,'Courier New',monospace\"><span style=\"font-weight: bold\"> Trainable params: </span><span style=\"color: #00af00; text-decoration-color: #00af00\">125,226</span> (489.16 KB)\n",
       "</pre>\n"
      ],
      "text/plain": [
       "\u001b[1m Trainable params: \u001b[0m\u001b[38;5;34m125,226\u001b[0m (489.16 KB)\n"
      ]
     },
     "metadata": {},
     "output_type": "display_data"
    },
    {
     "data": {
      "text/html": [
       "<pre style=\"white-space:pre;overflow-x:auto;line-height:normal;font-family:Menlo,'DejaVu Sans Mono',consolas,'Courier New',monospace\"><span style=\"font-weight: bold\"> Non-trainable params: </span><span style=\"color: #00af00; text-decoration-color: #00af00\">192</span> (768.00 B)\n",
       "</pre>\n"
      ],
      "text/plain": [
       "\u001b[1m Non-trainable params: \u001b[0m\u001b[38;5;34m192\u001b[0m (768.00 B)\n"
      ]
     },
     "metadata": {},
     "output_type": "display_data"
    }
   ],
   "source": [
    "model.compile(optimizer='Adam', loss='categorical_crossentropy', metrics=['accuracy'])\n",
    "model.summary()"
   ]
  },
  {
   "cell_type": "code",
   "execution_count": 10,
   "id": "10c724b2",
   "metadata": {
    "colab": {
     "base_uri": "https://localhost:8080/"
    },
    "executionInfo": {
     "elapsed": 91481,
     "status": "ok",
     "timestamp": 1746431442897,
     "user": {
      "displayName": "Hind Azegrouz",
      "userId": "04469582049561885297"
     },
     "user_tz": -120
    },
    "id": "10c724b2",
    "outputId": "1a2a6f39-c3fb-45ac-97e6-b0779d5ba41b"
   },
   "outputs": [
    {
     "name": "stdout",
     "output_type": "stream",
     "text": [
      "Epoch 1/200\n",
      "48/48 - 7s - 146ms/step - accuracy: 0.6689 - loss: 0.9734 - val_accuracy: 0.8015 - val_loss: 0.5419\n",
      "Epoch 2/200\n",
      "48/48 - 2s - 48ms/step - accuracy: 0.8045 - loss: 0.5441 - val_accuracy: 0.8468 - val_loss: 0.4173\n",
      "Epoch 3/200\n",
      "48/48 - 2s - 46ms/step - accuracy: 0.8299 - loss: 0.4710 - val_accuracy: 0.8597 - val_loss: 0.3825\n",
      "Epoch 4/200\n",
      "48/48 - 2s - 47ms/step - accuracy: 0.8439 - loss: 0.4291 - val_accuracy: 0.8658 - val_loss: 0.3679\n",
      "Epoch 5/200\n",
      "48/48 - 2s - 46ms/step - accuracy: 0.8519 - loss: 0.4036 - val_accuracy: 0.8736 - val_loss: 0.3473\n",
      "Epoch 6/200\n",
      "48/48 - 2s - 46ms/step - accuracy: 0.8612 - loss: 0.3831 - val_accuracy: 0.8790 - val_loss: 0.3358\n",
      "Epoch 7/200\n",
      "48/48 - 2s - 46ms/step - accuracy: 0.8654 - loss: 0.3720 - val_accuracy: 0.8798 - val_loss: 0.3304\n",
      "Epoch 8/200\n",
      "48/48 - 2s - 46ms/step - accuracy: 0.8698 - loss: 0.3584 - val_accuracy: 0.8850 - val_loss: 0.3187\n",
      "Epoch 9/200\n",
      "48/48 - 2s - 47ms/step - accuracy: 0.8731 - loss: 0.3434 - val_accuracy: 0.8834 - val_loss: 0.3185\n",
      "Epoch 10/200\n",
      "48/48 - 4s - 80ms/step - accuracy: 0.8765 - loss: 0.3349 - val_accuracy: 0.8865 - val_loss: 0.3130\n",
      "Epoch 11/200\n",
      "48/48 - 4s - 87ms/step - accuracy: 0.8792 - loss: 0.3277 - val_accuracy: 0.8887 - val_loss: 0.3048\n",
      "Epoch 12/200\n",
      "48/48 - 5s - 101ms/step - accuracy: 0.8828 - loss: 0.3195 - val_accuracy: 0.8892 - val_loss: 0.3036\n",
      "Epoch 13/200\n",
      "48/48 - 4s - 90ms/step - accuracy: 0.8831 - loss: 0.3169 - val_accuracy: 0.8900 - val_loss: 0.2988\n",
      "Epoch 14/200\n",
      "48/48 - 4s - 86ms/step - accuracy: 0.8856 - loss: 0.3090 - val_accuracy: 0.8947 - val_loss: 0.2905\n",
      "Epoch 15/200\n",
      "48/48 - 4s - 81ms/step - accuracy: 0.8862 - loss: 0.3041 - val_accuracy: 0.8919 - val_loss: 0.2948\n",
      "Epoch 16/200\n",
      "48/48 - 4s - 82ms/step - accuracy: 0.8892 - loss: 0.2970 - val_accuracy: 0.8932 - val_loss: 0.2886\n",
      "Epoch 17/200\n",
      "48/48 - 4s - 89ms/step - accuracy: 0.8930 - loss: 0.2901 - val_accuracy: 0.8946 - val_loss: 0.2847\n",
      "Epoch 18/200\n",
      "48/48 - 5s - 94ms/step - accuracy: 0.8935 - loss: 0.2865 - val_accuracy: 0.8959 - val_loss: 0.2797\n",
      "Epoch 19/200\n",
      "48/48 - 4s - 84ms/step - accuracy: 0.8963 - loss: 0.2822 - val_accuracy: 0.8977 - val_loss: 0.2807\n",
      "Epoch 20/200\n",
      "48/48 - 5s - 110ms/step - accuracy: 0.8961 - loss: 0.2786 - val_accuracy: 0.8963 - val_loss: 0.2840\n",
      "Epoch 21/200\n",
      "48/48 - 4s - 89ms/step - accuracy: 0.8982 - loss: 0.2773 - val_accuracy: 0.8968 - val_loss: 0.2802\n",
      "Epoch 22/200\n",
      "48/48 - 5s - 99ms/step - accuracy: 0.8981 - loss: 0.2747 - val_accuracy: 0.8979 - val_loss: 0.2762\n",
      "Epoch 23/200\n",
      "48/48 - 4s - 90ms/step - accuracy: 0.8995 - loss: 0.2698 - val_accuracy: 0.9026 - val_loss: 0.2695\n",
      "Epoch 24/200\n",
      "48/48 - 5s - 101ms/step - accuracy: 0.9012 - loss: 0.2679 - val_accuracy: 0.8992 - val_loss: 0.2750\n",
      "Epoch 25/200\n",
      "48/48 - 5s - 94ms/step - accuracy: 0.9002 - loss: 0.2627 - val_accuracy: 0.9029 - val_loss: 0.2679\n",
      "Epoch 26/200\n",
      "48/48 - 5s - 94ms/step - accuracy: 0.9047 - loss: 0.2581 - val_accuracy: 0.9007 - val_loss: 0.2729\n",
      "Epoch 27/200\n",
      "48/48 - 5s - 95ms/step - accuracy: 0.9042 - loss: 0.2563 - val_accuracy: 0.9032 - val_loss: 0.2684\n",
      "Epoch 28/200\n",
      "48/48 - 5s - 96ms/step - accuracy: 0.9038 - loss: 0.2579 - val_accuracy: 0.9026 - val_loss: 0.2689\n",
      "Epoch 29/200\n",
      "48/48 - 4s - 88ms/step - accuracy: 0.9065 - loss: 0.2502 - val_accuracy: 0.9038 - val_loss: 0.2663\n",
      "Epoch 30/200\n",
      "48/48 - 4s - 93ms/step - accuracy: 0.9068 - loss: 0.2490 - val_accuracy: 0.9013 - val_loss: 0.2737\n",
      "Epoch 31/200\n",
      "48/48 - 4s - 81ms/step - accuracy: 0.9081 - loss: 0.2451 - val_accuracy: 0.9053 - val_loss: 0.2646\n",
      "Epoch 32/200\n",
      "48/48 - 2s - 49ms/step - accuracy: 0.9076 - loss: 0.2442 - val_accuracy: 0.9023 - val_loss: 0.2654\n",
      "Epoch 33/200\n",
      "48/48 - 2s - 51ms/step - accuracy: 0.9076 - loss: 0.2435 - val_accuracy: 0.9032 - val_loss: 0.2637\n",
      "Epoch 34/200\n",
      "48/48 - 2s - 52ms/step - accuracy: 0.9103 - loss: 0.2400 - val_accuracy: 0.9053 - val_loss: 0.2624\n",
      "Epoch 35/200\n",
      "48/48 - 2s - 47ms/step - accuracy: 0.9103 - loss: 0.2383 - val_accuracy: 0.9040 - val_loss: 0.2618\n",
      "Epoch 36/200\n",
      "48/48 - 2s - 48ms/step - accuracy: 0.9112 - loss: 0.2365 - val_accuracy: 0.9048 - val_loss: 0.2644\n",
      "Epoch 37/200\n",
      "48/48 - 2s - 48ms/step - accuracy: 0.9132 - loss: 0.2327 - val_accuracy: 0.9032 - val_loss: 0.2660\n",
      "Epoch 38/200\n",
      "48/48 - 2s - 47ms/step - accuracy: 0.9133 - loss: 0.2299 - val_accuracy: 0.9062 - val_loss: 0.2630\n",
      "Epoch 39/200\n",
      "48/48 - 2s - 48ms/step - accuracy: 0.9147 - loss: 0.2290 - val_accuracy: 0.9032 - val_loss: 0.2644\n",
      "Epoch 40/200\n",
      "48/48 - 2s - 48ms/step - accuracy: 0.9143 - loss: 0.2272 - val_accuracy: 0.9076 - val_loss: 0.2584\n",
      "Epoch 41/200\n",
      "48/48 - 2s - 48ms/step - accuracy: 0.9153 - loss: 0.2239 - val_accuracy: 0.9063 - val_loss: 0.2637\n",
      "Epoch 42/200\n",
      "48/48 - 3s - 59ms/step - accuracy: 0.9143 - loss: 0.2260 - val_accuracy: 0.9041 - val_loss: 0.2644\n",
      "Epoch 43/200\n",
      "48/48 - 3s - 62ms/step - accuracy: 0.9166 - loss: 0.2219 - val_accuracy: 0.9019 - val_loss: 0.2726\n",
      "Epoch 44/200\n",
      "48/48 - 5s - 101ms/step - accuracy: 0.9166 - loss: 0.2210 - val_accuracy: 0.9063 - val_loss: 0.2599\n",
      "Epoch 45/200\n",
      "48/48 - 5s - 101ms/step - accuracy: 0.9174 - loss: 0.2195 - val_accuracy: 0.9079 - val_loss: 0.2584\n",
      "Epoch 46/200\n",
      "48/48 - 4s - 90ms/step - accuracy: 0.9180 - loss: 0.2176 - val_accuracy: 0.9068 - val_loss: 0.2629\n",
      "Epoch 47/200\n",
      "48/48 - 4s - 90ms/step - accuracy: 0.9179 - loss: 0.2151 - val_accuracy: 0.9048 - val_loss: 0.2656\n",
      "Epoch 48/200\n",
      "48/48 - 5s - 101ms/step - accuracy: 0.9200 - loss: 0.2130 - val_accuracy: 0.9096 - val_loss: 0.2588\n",
      "Epoch 49/200\n",
      "48/48 - 7s - 151ms/step - accuracy: 0.9199 - loss: 0.2130 - val_accuracy: 0.9085 - val_loss: 0.2643\n",
      "Epoch 50/200\n",
      "48/48 - 5s - 109ms/step - accuracy: 0.9200 - loss: 0.2093 - val_accuracy: 0.9044 - val_loss: 0.2700\n",
      "Epoch 51/200\n",
      "48/48 - 4s - 91ms/step - accuracy: 0.9205 - loss: 0.2078 - val_accuracy: 0.9081 - val_loss: 0.2625\n",
      "Epoch 52/200\n",
      "48/48 - 5s - 95ms/step - accuracy: 0.9228 - loss: 0.2058 - val_accuracy: 0.9077 - val_loss: 0.2636\n",
      "Epoch 53/200\n",
      "48/48 - 5s - 98ms/step - accuracy: 0.9204 - loss: 0.2082 - val_accuracy: 0.9075 - val_loss: 0.2666\n",
      "Epoch 54/200\n",
      "48/48 - 5s - 106ms/step - accuracy: 0.9226 - loss: 0.2029 - val_accuracy: 0.9062 - val_loss: 0.2601\n",
      "Epoch 55/200\n",
      "48/48 - 5s - 96ms/step - accuracy: 0.9232 - loss: 0.2015 - val_accuracy: 0.9082 - val_loss: 0.2624\n",
      "Epoch 56/200\n",
      "48/48 - 5s - 97ms/step - accuracy: 0.9233 - loss: 0.2067 - val_accuracy: 0.9087 - val_loss: 0.2551\n",
      "Epoch 57/200\n",
      "48/48 - 4s - 87ms/step - accuracy: 0.9253 - loss: 0.1992 - val_accuracy: 0.9092 - val_loss: 0.2640\n",
      "Epoch 58/200\n",
      "48/48 - 5s - 101ms/step - accuracy: 0.9249 - loss: 0.2007 - val_accuracy: 0.9095 - val_loss: 0.2618\n",
      "Epoch 59/200\n",
      "48/48 - 5s - 100ms/step - accuracy: 0.9234 - loss: 0.2001 - val_accuracy: 0.9093 - val_loss: 0.2565\n",
      "Epoch 60/200\n",
      "48/48 - 4s - 92ms/step - accuracy: 0.9265 - loss: 0.1933 - val_accuracy: 0.9082 - val_loss: 0.2617\n",
      "Epoch 61/200\n",
      "48/48 - 4s - 93ms/step - accuracy: 0.9269 - loss: 0.1935 - val_accuracy: 0.9084 - val_loss: 0.2627\n",
      "Epoch 62/200\n",
      "48/48 - 5s - 95ms/step - accuracy: 0.9276 - loss: 0.1913 - val_accuracy: 0.9061 - val_loss: 0.2648\n",
      "Epoch 63/200\n",
      "48/48 - 4s - 92ms/step - accuracy: 0.9270 - loss: 0.1938 - val_accuracy: 0.9091 - val_loss: 0.2657\n",
      "Epoch 64/200\n",
      "48/48 - 4s - 88ms/step - accuracy: 0.9269 - loss: 0.1942 - val_accuracy: 0.9079 - val_loss: 0.2653\n",
      "Epoch 65/200\n",
      "48/48 - 4s - 87ms/step - accuracy: 0.9261 - loss: 0.1899 - val_accuracy: 0.9071 - val_loss: 0.2681\n",
      "Epoch 66/200\n",
      "48/48 - 5s - 94ms/step - accuracy: 0.9283 - loss: 0.1890 - val_accuracy: 0.9084 - val_loss: 0.2646\n",
      "Epoch 67/200\n",
      "48/48 - 4s - 93ms/step - accuracy: 0.9273 - loss: 0.1892 - val_accuracy: 0.9097 - val_loss: 0.2639\n",
      "Epoch 68/200\n",
      "48/48 - 5s - 107ms/step - accuracy: 0.9292 - loss: 0.1871 - val_accuracy: 0.9102 - val_loss: 0.2582\n",
      "Epoch 69/200\n",
      "48/48 - 4s - 93ms/step - accuracy: 0.9287 - loss: 0.1880 - val_accuracy: 0.9078 - val_loss: 0.2658\n",
      "Epoch 70/200\n",
      "48/48 - 3s - 54ms/step - accuracy: 0.9297 - loss: 0.1847 - val_accuracy: 0.9077 - val_loss: 0.2592\n",
      "Epoch 71/200\n",
      "48/48 - 2s - 48ms/step - accuracy: 0.9293 - loss: 0.1846 - val_accuracy: 0.9067 - val_loss: 0.2642\n",
      "Epoch 72/200\n",
      "48/48 - 2s - 47ms/step - accuracy: 0.9280 - loss: 0.1881 - val_accuracy: 0.9087 - val_loss: 0.2636\n",
      "Epoch 73/200\n",
      "48/48 - 2s - 47ms/step - accuracy: 0.9277 - loss: 0.1864 - val_accuracy: 0.9080 - val_loss: 0.2641\n",
      "Epoch 74/200\n",
      "48/48 - 2s - 47ms/step - accuracy: 0.9295 - loss: 0.1822 - val_accuracy: 0.9106 - val_loss: 0.2611\n",
      "Epoch 75/200\n",
      "48/48 - 2s - 46ms/step - accuracy: 0.9307 - loss: 0.1816 - val_accuracy: 0.9103 - val_loss: 0.2639\n",
      "Epoch 76/200\n",
      "48/48 - 2s - 47ms/step - accuracy: 0.9319 - loss: 0.1809 - val_accuracy: 0.9093 - val_loss: 0.2584\n",
      "Epoch 77/200\n",
      "48/48 - 2s - 47ms/step - accuracy: 0.9317 - loss: 0.1801 - val_accuracy: 0.9079 - val_loss: 0.2616\n",
      "Epoch 78/200\n",
      "48/48 - 2s - 47ms/step - accuracy: 0.9316 - loss: 0.1816 - val_accuracy: 0.9103 - val_loss: 0.2620\n",
      "Epoch 79/200\n",
      "48/48 - 2s - 47ms/step - accuracy: 0.9333 - loss: 0.1739 - val_accuracy: 0.9063 - val_loss: 0.2795\n",
      "Epoch 80/200\n",
      "48/48 - 2s - 48ms/step - accuracy: 0.9321 - loss: 0.1755 - val_accuracy: 0.9097 - val_loss: 0.2661\n",
      "Epoch 81/200\n",
      "48/48 - 2s - 49ms/step - accuracy: 0.9341 - loss: 0.1754 - val_accuracy: 0.9106 - val_loss: 0.2630\n",
      "Epoch 82/200\n",
      "48/48 - 3s - 53ms/step - accuracy: 0.9321 - loss: 0.1765 - val_accuracy: 0.9099 - val_loss: 0.2618\n",
      "Epoch 83/200\n",
      "48/48 - 2s - 52ms/step - accuracy: 0.9342 - loss: 0.1731 - val_accuracy: 0.9094 - val_loss: 0.2678\n",
      "Epoch 84/200\n",
      "48/48 - 2s - 49ms/step - accuracy: 0.9340 - loss: 0.1751 - val_accuracy: 0.9081 - val_loss: 0.2742\n",
      "Epoch 85/200\n",
      "48/48 - 2s - 48ms/step - accuracy: 0.9346 - loss: 0.1728 - val_accuracy: 0.9086 - val_loss: 0.2684\n",
      "Epoch 86/200\n",
      "48/48 - 2s - 49ms/step - accuracy: 0.9347 - loss: 0.1741 - val_accuracy: 0.9108 - val_loss: 0.2642\n",
      "Epoch 87/200\n",
      "48/48 - 2s - 48ms/step - accuracy: 0.9338 - loss: 0.1753 - val_accuracy: 0.9080 - val_loss: 0.2722\n",
      "Epoch 88/200\n",
      "48/48 - 2s - 50ms/step - accuracy: 0.9340 - loss: 0.1701 - val_accuracy: 0.9089 - val_loss: 0.2678\n",
      "Epoch 89/200\n",
      "48/48 - 2s - 47ms/step - accuracy: 0.9339 - loss: 0.1739 - val_accuracy: 0.9066 - val_loss: 0.2713\n",
      "Epoch 90/200\n",
      "48/48 - 2s - 50ms/step - accuracy: 0.9342 - loss: 0.1691 - val_accuracy: 0.9096 - val_loss: 0.2724\n",
      "Epoch 91/200\n",
      "48/48 - 3s - 59ms/step - accuracy: 0.9346 - loss: 0.1699 - val_accuracy: 0.9105 - val_loss: 0.2746\n",
      "Epoch 92/200\n",
      "48/48 - 3s - 56ms/step - accuracy: 0.9346 - loss: 0.1700 - val_accuracy: 0.9087 - val_loss: 0.2676\n",
      "Epoch 93/200\n",
      "48/48 - 3s - 67ms/step - accuracy: 0.9359 - loss: 0.1656 - val_accuracy: 0.9100 - val_loss: 0.2692\n",
      "Epoch 94/200\n",
      "48/48 - 5s - 107ms/step - accuracy: 0.9365 - loss: 0.1662 - val_accuracy: 0.9089 - val_loss: 0.2771\n",
      "Epoch 95/200\n",
      "48/48 - 3s - 56ms/step - accuracy: 0.9352 - loss: 0.1699 - val_accuracy: 0.9079 - val_loss: 0.2709\n",
      "Epoch 96/200\n",
      "48/48 - 3s - 54ms/step - accuracy: 0.9366 - loss: 0.1668 - val_accuracy: 0.9093 - val_loss: 0.2680\n",
      "Epoch 97/200\n",
      "48/48 - 3s - 55ms/step - accuracy: 0.9356 - loss: 0.1657 - val_accuracy: 0.9112 - val_loss: 0.2704\n",
      "Epoch 98/200\n",
      "48/48 - 2s - 50ms/step - accuracy: 0.9368 - loss: 0.1642 - val_accuracy: 0.9072 - val_loss: 0.2749\n",
      "Epoch 99/200\n",
      "48/48 - 2s - 51ms/step - accuracy: 0.9371 - loss: 0.1628 - val_accuracy: 0.9107 - val_loss: 0.2784\n",
      "Epoch 100/200\n",
      "48/48 - 2s - 51ms/step - accuracy: 0.9374 - loss: 0.1640 - val_accuracy: 0.9087 - val_loss: 0.2763\n",
      "Epoch 101/200\n",
      "48/48 - 2s - 51ms/step - accuracy: 0.9382 - loss: 0.1628 - val_accuracy: 0.9087 - val_loss: 0.2714\n",
      "Epoch 102/200\n",
      "48/48 - 2s - 50ms/step - accuracy: 0.9379 - loss: 0.1637 - val_accuracy: 0.9097 - val_loss: 0.2706\n",
      "Epoch 103/200\n",
      "48/48 - 3s - 59ms/step - accuracy: 0.9372 - loss: 0.1639 - val_accuracy: 0.9101 - val_loss: 0.2698\n",
      "Epoch 104/200\n",
      "48/48 - 3s - 73ms/step - accuracy: 0.9387 - loss: 0.1597 - val_accuracy: 0.9109 - val_loss: 0.2705\n",
      "Epoch 105/200\n",
      "48/48 - 4s - 93ms/step - accuracy: 0.9374 - loss: 0.1643 - val_accuracy: 0.9082 - val_loss: 0.2757\n",
      "Epoch 106/200\n",
      "48/48 - 2s - 50ms/step - accuracy: 0.9386 - loss: 0.1619 - val_accuracy: 0.9088 - val_loss: 0.2754\n",
      "Epoch 107/200\n",
      "48/48 - 2s - 48ms/step - accuracy: 0.9390 - loss: 0.1594 - val_accuracy: 0.9099 - val_loss: 0.2727\n",
      "Epoch 108/200\n",
      "48/48 - 2s - 50ms/step - accuracy: 0.9390 - loss: 0.1577 - val_accuracy: 0.9087 - val_loss: 0.2803\n",
      "Epoch 109/200\n",
      "48/48 - 2s - 49ms/step - accuracy: 0.9380 - loss: 0.1603 - val_accuracy: 0.9071 - val_loss: 0.2774\n",
      "Epoch 110/200\n",
      "48/48 - 2s - 49ms/step - accuracy: 0.9388 - loss: 0.1580 - val_accuracy: 0.9077 - val_loss: 0.2765\n",
      "Epoch 111/200\n",
      "48/48 - 2s - 48ms/step - accuracy: 0.9390 - loss: 0.1579 - val_accuracy: 0.9108 - val_loss: 0.2743\n",
      "Epoch 112/200\n",
      "48/48 - 3s - 55ms/step - accuracy: 0.9405 - loss: 0.1551 - val_accuracy: 0.9097 - val_loss: 0.2735\n",
      "Epoch 113/200\n",
      "48/48 - 2s - 49ms/step - accuracy: 0.9393 - loss: 0.1584 - val_accuracy: 0.9087 - val_loss: 0.2892\n",
      "Epoch 114/200\n",
      "48/48 - 2s - 48ms/step - accuracy: 0.9398 - loss: 0.1579 - val_accuracy: 0.9099 - val_loss: 0.2773\n",
      "Epoch 115/200\n",
      "48/48 - 2s - 47ms/step - accuracy: 0.9392 - loss: 0.1597 - val_accuracy: 0.9097 - val_loss: 0.2795\n",
      "Epoch 116/200\n",
      "48/48 - 2s - 47ms/step - accuracy: 0.9405 - loss: 0.1555 - val_accuracy: 0.9087 - val_loss: 0.2780\n",
      "Epoch 117/200\n",
      "48/48 - 2s - 48ms/step - accuracy: 0.9409 - loss: 0.1553 - val_accuracy: 0.9106 - val_loss: 0.2776\n",
      "Epoch 118/200\n",
      "48/48 - 2s - 48ms/step - accuracy: 0.9416 - loss: 0.1529 - val_accuracy: 0.9094 - val_loss: 0.2794\n",
      "Epoch 119/200\n",
      "48/48 - 2s - 46ms/step - accuracy: 0.9401 - loss: 0.1532 - val_accuracy: 0.9106 - val_loss: 0.2735\n",
      "Epoch 120/200\n",
      "48/48 - 2s - 48ms/step - accuracy: 0.9408 - loss: 0.1541 - val_accuracy: 0.9101 - val_loss: 0.2730\n",
      "Epoch 121/200\n",
      "48/48 - 2s - 47ms/step - accuracy: 0.9420 - loss: 0.1536 - val_accuracy: 0.9094 - val_loss: 0.2846\n",
      "Epoch 122/200\n",
      "48/48 - 2s - 49ms/step - accuracy: 0.9418 - loss: 0.1543 - val_accuracy: 0.9112 - val_loss: 0.2768\n",
      "Epoch 123/200\n",
      "48/48 - 2s - 48ms/step - accuracy: 0.9420 - loss: 0.1536 - val_accuracy: 0.9120 - val_loss: 0.2750\n",
      "Epoch 124/200\n",
      "48/48 - 2s - 49ms/step - accuracy: 0.9414 - loss: 0.1520 - val_accuracy: 0.9120 - val_loss: 0.2703\n",
      "Epoch 125/200\n",
      "48/48 - 2s - 48ms/step - accuracy: 0.9414 - loss: 0.1547 - val_accuracy: 0.9093 - val_loss: 0.2746\n",
      "Epoch 126/200\n",
      "48/48 - 2s - 47ms/step - accuracy: 0.9420 - loss: 0.1506 - val_accuracy: 0.9092 - val_loss: 0.2786\n",
      "Epoch 127/200\n",
      "48/48 - 2s - 47ms/step - accuracy: 0.9423 - loss: 0.1513 - val_accuracy: 0.9103 - val_loss: 0.2746\n",
      "Epoch 128/200\n",
      "48/48 - 2s - 50ms/step - accuracy: 0.9431 - loss: 0.1497 - val_accuracy: 0.9103 - val_loss: 0.2763\n",
      "Epoch 129/200\n",
      "48/48 - 2s - 48ms/step - accuracy: 0.9416 - loss: 0.1516 - val_accuracy: 0.9092 - val_loss: 0.2795\n",
      "Epoch 130/200\n",
      "48/48 - 2s - 48ms/step - accuracy: 0.9429 - loss: 0.1496 - val_accuracy: 0.9097 - val_loss: 0.2766\n",
      "Epoch 131/200\n",
      "48/48 - 2s - 48ms/step - accuracy: 0.9426 - loss: 0.1472 - val_accuracy: 0.9100 - val_loss: 0.2810\n",
      "Epoch 132/200\n",
      "48/48 - 2s - 47ms/step - accuracy: 0.9428 - loss: 0.1497 - val_accuracy: 0.9090 - val_loss: 0.2768\n",
      "Epoch 133/200\n",
      "48/48 - 2s - 48ms/step - accuracy: 0.9420 - loss: 0.1502 - val_accuracy: 0.9100 - val_loss: 0.2812\n",
      "Epoch 134/200\n",
      "48/48 - 2s - 49ms/step - accuracy: 0.9447 - loss: 0.1461 - val_accuracy: 0.9102 - val_loss: 0.2767\n",
      "Epoch 135/200\n",
      "48/48 - 2s - 48ms/step - accuracy: 0.9422 - loss: 0.1490 - val_accuracy: 0.9086 - val_loss: 0.2788\n",
      "Epoch 136/200\n",
      "48/48 - 2s - 48ms/step - accuracy: 0.9433 - loss: 0.1473 - val_accuracy: 0.9110 - val_loss: 0.2750\n",
      "Epoch 137/200\n",
      "48/48 - 2s - 48ms/step - accuracy: 0.9461 - loss: 0.1468 - val_accuracy: 0.9106 - val_loss: 0.2790\n",
      "Epoch 138/200\n",
      "48/48 - 2s - 47ms/step - accuracy: 0.9457 - loss: 0.1439 - val_accuracy: 0.9088 - val_loss: 0.2801\n",
      "Epoch 139/200\n",
      "48/48 - 2s - 47ms/step - accuracy: 0.9420 - loss: 0.1508 - val_accuracy: 0.9093 - val_loss: 0.2846\n",
      "Epoch 140/200\n",
      "48/48 - 3s - 56ms/step - accuracy: 0.9423 - loss: 0.1497 - val_accuracy: 0.9102 - val_loss: 0.2760\n",
      "Epoch 141/200\n",
      "48/48 - 2s - 47ms/step - accuracy: 0.9442 - loss: 0.1432 - val_accuracy: 0.9093 - val_loss: 0.2790\n",
      "Epoch 142/200\n",
      "48/48 - 2s - 47ms/step - accuracy: 0.9443 - loss: 0.1447 - val_accuracy: 0.9106 - val_loss: 0.2780\n",
      "Epoch 143/200\n",
      "48/48 - 2s - 48ms/step - accuracy: 0.9441 - loss: 0.1471 - val_accuracy: 0.9103 - val_loss: 0.2807\n",
      "Epoch 144/200\n",
      "48/48 - 2s - 47ms/step - accuracy: 0.9461 - loss: 0.1434 - val_accuracy: 0.9081 - val_loss: 0.2880\n",
      "Epoch 145/200\n",
      "48/48 - 2s - 47ms/step - accuracy: 0.9442 - loss: 0.1441 - val_accuracy: 0.9077 - val_loss: 0.2825\n",
      "Epoch 146/200\n",
      "48/48 - 2s - 47ms/step - accuracy: 0.9455 - loss: 0.1423 - val_accuracy: 0.9111 - val_loss: 0.2785\n",
      "Epoch 147/200\n",
      "48/48 - 2s - 48ms/step - accuracy: 0.9443 - loss: 0.1447 - val_accuracy: 0.9112 - val_loss: 0.2743\n",
      "Epoch 148/200\n",
      "48/48 - 2s - 50ms/step - accuracy: 0.9451 - loss: 0.1424 - val_accuracy: 0.9117 - val_loss: 0.2842\n",
      "Epoch 149/200\n",
      "48/48 - 2s - 48ms/step - accuracy: 0.9466 - loss: 0.1414 - val_accuracy: 0.9107 - val_loss: 0.2862\n",
      "Epoch 150/200\n",
      "48/48 - 2s - 48ms/step - accuracy: 0.9441 - loss: 0.1433 - val_accuracy: 0.9101 - val_loss: 0.2901\n",
      "Epoch 151/200\n",
      "48/48 - 2s - 49ms/step - accuracy: 0.9446 - loss: 0.1451 - val_accuracy: 0.9103 - val_loss: 0.2802\n",
      "Epoch 152/200\n",
      "48/48 - 2s - 48ms/step - accuracy: 0.9467 - loss: 0.1402 - val_accuracy: 0.9119 - val_loss: 0.2788\n",
      "Epoch 153/200\n",
      "48/48 - 2s - 48ms/step - accuracy: 0.9464 - loss: 0.1419 - val_accuracy: 0.9112 - val_loss: 0.2884\n",
      "Epoch 154/200\n",
      "48/48 - 2s - 52ms/step - accuracy: 0.9446 - loss: 0.1427 - val_accuracy: 0.9098 - val_loss: 0.2799\n",
      "Epoch 155/200\n",
      "48/48 - 3s - 52ms/step - accuracy: 0.9467 - loss: 0.1432 - val_accuracy: 0.9093 - val_loss: 0.2795\n",
      "Epoch 156/200\n",
      "48/48 - 2s - 49ms/step - accuracy: 0.9458 - loss: 0.1423 - val_accuracy: 0.9094 - val_loss: 0.2870\n",
      "Epoch 157/200\n",
      "48/48 - 2s - 48ms/step - accuracy: 0.9461 - loss: 0.1398 - val_accuracy: 0.9102 - val_loss: 0.2851\n",
      "Epoch 158/200\n",
      "48/48 - 2s - 47ms/step - accuracy: 0.9458 - loss: 0.1413 - val_accuracy: 0.9098 - val_loss: 0.2824\n",
      "Epoch 159/200\n",
      "48/48 - 2s - 48ms/step - accuracy: 0.9472 - loss: 0.1392 - val_accuracy: 0.9088 - val_loss: 0.2871\n",
      "Epoch 160/200\n",
      "48/48 - 2s - 49ms/step - accuracy: 0.9457 - loss: 0.1418 - val_accuracy: 0.9068 - val_loss: 0.2856\n",
      "Epoch 161/200\n",
      "48/48 - 2s - 50ms/step - accuracy: 0.9455 - loss: 0.1434 - val_accuracy: 0.9090 - val_loss: 0.2785\n",
      "Epoch 162/200\n",
      "48/48 - 2s - 51ms/step - accuracy: 0.9476 - loss: 0.1383 - val_accuracy: 0.9094 - val_loss: 0.2869\n",
      "Epoch 163/200\n",
      "48/48 - 2s - 49ms/step - accuracy: 0.9475 - loss: 0.1376 - val_accuracy: 0.9093 - val_loss: 0.2819\n",
      "Epoch 164/200\n",
      "48/48 - 2s - 49ms/step - accuracy: 0.9479 - loss: 0.1376 - val_accuracy: 0.9112 - val_loss: 0.2849\n",
      "Epoch 165/200\n",
      "48/48 - 2s - 48ms/step - accuracy: 0.9459 - loss: 0.1407 - val_accuracy: 0.9093 - val_loss: 0.2803\n",
      "Epoch 166/200\n",
      "48/48 - 3s - 54ms/step - accuracy: 0.9481 - loss: 0.1356 - val_accuracy: 0.9112 - val_loss: 0.2859\n",
      "Epoch 167/200\n",
      "48/48 - 2s - 47ms/step - accuracy: 0.9459 - loss: 0.1397 - val_accuracy: 0.9107 - val_loss: 0.2810\n",
      "Epoch 168/200\n",
      "48/48 - 2s - 49ms/step - accuracy: 0.9482 - loss: 0.1381 - val_accuracy: 0.9116 - val_loss: 0.2815\n",
      "Epoch 169/200\n",
      "48/48 - 2s - 48ms/step - accuracy: 0.9470 - loss: 0.1396 - val_accuracy: 0.9117 - val_loss: 0.2806\n",
      "Epoch 170/200\n",
      "48/48 - 2s - 49ms/step - accuracy: 0.9479 - loss: 0.1382 - val_accuracy: 0.9112 - val_loss: 0.2837\n",
      "Epoch 171/200\n",
      "48/48 - 2s - 50ms/step - accuracy: 0.9478 - loss: 0.1381 - val_accuracy: 0.9081 - val_loss: 0.2899\n",
      "Epoch 172/200\n",
      "48/48 - 2s - 48ms/step - accuracy: 0.9477 - loss: 0.1370 - val_accuracy: 0.9099 - val_loss: 0.2826\n",
      "Epoch 173/200\n",
      "48/48 - 2s - 46ms/step - accuracy: 0.9469 - loss: 0.1380 - val_accuracy: 0.9128 - val_loss: 0.2826\n",
      "Epoch 174/200\n",
      "48/48 - 2s - 48ms/step - accuracy: 0.9490 - loss: 0.1343 - val_accuracy: 0.9103 - val_loss: 0.2846\n",
      "Epoch 175/200\n",
      "48/48 - 2s - 48ms/step - accuracy: 0.9478 - loss: 0.1362 - val_accuracy: 0.9112 - val_loss: 0.2841\n",
      "Epoch 176/200\n",
      "48/48 - 2s - 50ms/step - accuracy: 0.9482 - loss: 0.1350 - val_accuracy: 0.9103 - val_loss: 0.2898\n",
      "Epoch 177/200\n",
      "48/48 - 2s - 49ms/step - accuracy: 0.9476 - loss: 0.1374 - val_accuracy: 0.9112 - val_loss: 0.2826\n",
      "Epoch 178/200\n",
      "48/48 - 2s - 49ms/step - accuracy: 0.9463 - loss: 0.1395 - val_accuracy: 0.9104 - val_loss: 0.2855\n",
      "Epoch 179/200\n",
      "48/48 - 2s - 48ms/step - accuracy: 0.9475 - loss: 0.1354 - val_accuracy: 0.9120 - val_loss: 0.2829\n",
      "Epoch 180/200\n",
      "48/48 - 2s - 49ms/step - accuracy: 0.9490 - loss: 0.1360 - val_accuracy: 0.9093 - val_loss: 0.2855\n",
      "Epoch 181/200\n",
      "48/48 - 2s - 49ms/step - accuracy: 0.9482 - loss: 0.1352 - val_accuracy: 0.9118 - val_loss: 0.2830\n",
      "Epoch 182/200\n",
      "48/48 - 2s - 52ms/step - accuracy: 0.9484 - loss: 0.1346 - val_accuracy: 0.9103 - val_loss: 0.2875\n",
      "Epoch 183/200\n",
      "48/48 - 2s - 47ms/step - accuracy: 0.9491 - loss: 0.1341 - val_accuracy: 0.9112 - val_loss: 0.2884\n",
      "Epoch 184/200\n",
      "48/48 - 2s - 48ms/step - accuracy: 0.9492 - loss: 0.1337 - val_accuracy: 0.9106 - val_loss: 0.2811\n",
      "Epoch 185/200\n",
      "48/48 - 2s - 43ms/step - accuracy: 0.9505 - loss: 0.1321 - val_accuracy: 0.9080 - val_loss: 0.2979\n",
      "Epoch 186/200\n",
      "48/48 - 3s - 57ms/step - accuracy: 0.9491 - loss: 0.1330 - val_accuracy: 0.9093 - val_loss: 0.2872\n",
      "Epoch 187/200\n",
      "48/48 - 2s - 51ms/step - accuracy: 0.9497 - loss: 0.1325 - val_accuracy: 0.9113 - val_loss: 0.2851\n",
      "Epoch 188/200\n",
      "48/48 - 2s - 47ms/step - accuracy: 0.9493 - loss: 0.1321 - val_accuracy: 0.9106 - val_loss: 0.2910\n",
      "Epoch 189/200\n",
      "48/48 - 2s - 45ms/step - accuracy: 0.9491 - loss: 0.1339 - val_accuracy: 0.9084 - val_loss: 0.2948\n",
      "Epoch 190/200\n",
      "48/48 - 2s - 44ms/step - accuracy: 0.9497 - loss: 0.1344 - val_accuracy: 0.9098 - val_loss: 0.2881\n",
      "Epoch 191/200\n",
      "48/48 - 2s - 45ms/step - accuracy: 0.9484 - loss: 0.1331 - val_accuracy: 0.9117 - val_loss: 0.2870\n",
      "Epoch 192/200\n",
      "48/48 - 2s - 44ms/step - accuracy: 0.9499 - loss: 0.1307 - val_accuracy: 0.9110 - val_loss: 0.2891\n",
      "Epoch 193/200\n",
      "48/48 - 2s - 46ms/step - accuracy: 0.9494 - loss: 0.1335 - val_accuracy: 0.9121 - val_loss: 0.2872\n",
      "Epoch 194/200\n",
      "48/48 - 2s - 45ms/step - accuracy: 0.9513 - loss: 0.1303 - val_accuracy: 0.9119 - val_loss: 0.2852\n",
      "Epoch 195/200\n",
      "48/48 - 2s - 45ms/step - accuracy: 0.9488 - loss: 0.1324 - val_accuracy: 0.9108 - val_loss: 0.2847\n",
      "Epoch 196/200\n",
      "48/48 - 2s - 44ms/step - accuracy: 0.9484 - loss: 0.1336 - val_accuracy: 0.9103 - val_loss: 0.2888\n",
      "Epoch 197/200\n",
      "48/48 - 2s - 44ms/step - accuracy: 0.9513 - loss: 0.1288 - val_accuracy: 0.9090 - val_loss: 0.2891\n",
      "Epoch 198/200\n",
      "48/48 - 2s - 43ms/step - accuracy: 0.9502 - loss: 0.1315 - val_accuracy: 0.9097 - val_loss: 0.2920\n",
      "Epoch 199/200\n",
      "48/48 - 2s - 43ms/step - accuracy: 0.9488 - loss: 0.1320 - val_accuracy: 0.9114 - val_loss: 0.2893\n",
      "Epoch 200/200\n",
      "48/48 - 2s - 43ms/step - accuracy: 0.9491 - loss: 0.1308 - val_accuracy: 0.9108 - val_loss: 0.2844\n"
     ]
    },
    {
     "data": {
      "text/plain": [
       "<keras.src.callbacks.history.History at 0x24dd639ea30>"
      ]
     },
     "execution_count": 10,
     "metadata": {},
     "output_type": "execute_result"
    }
   ],
   "source": [
    "model.fit(x_train, y_train, batch_size=1000, epochs=200, validation_split=0.2, verbose=2)"
   ]
  },
  {
   "cell_type": "code",
   "execution_count": 11,
   "id": "dde52ec1",
   "metadata": {
    "colab": {
     "base_uri": "https://localhost:8080/"
    },
    "executionInfo": {
     "elapsed": 1320,
     "status": "ok",
     "timestamp": 1746431444220,
     "user": {
      "displayName": "Hind Azegrouz",
      "userId": "04469582049561885297"
     },
     "user_tz": -120
    },
    "id": "dde52ec1",
    "outputId": "b6806859-0371-4d89-ccba-1f904902da5f"
   },
   "outputs": [
    {
     "name": "stdout",
     "output_type": "stream",
     "text": [
      "\u001b[1m313/313\u001b[0m \u001b[32m━━━━━━━━━━━━━━━━━━━━\u001b[0m\u001b[37m\u001b[0m \u001b[1m1s\u001b[0m 3ms/step\n",
      "[[2.0770669e-18 9.3698718e-17 8.6780833e-18 3.5258773e-15 2.0708802e-18\n",
      "  7.9604909e-08 4.1554937e-17 6.3382540e-06 1.9229987e-12 9.9999356e-01]\n",
      " [2.4885825e-08 1.1192396e-18 9.9999523e-01 3.5552662e-11 3.2710949e-07\n",
      "  4.1776223e-18 4.4346821e-06 4.4878139e-21 1.6899441e-15 2.6024635e-22]\n",
      " [2.2166937e-15 1.0000000e+00 4.5616410e-20 5.1764496e-15 8.1925971e-20\n",
      "  3.7214852e-27 4.4751741e-18 2.3153087e-29 3.7091004e-26 5.4619874e-27]\n",
      " [1.0189112e-14 1.0000000e+00 3.2984990e-20 1.3059188e-11 1.5649914e-22\n",
      "  1.6515151e-24 2.5707597e-17 3.4190789e-28 2.4499426e-23 2.2370202e-24]\n",
      " [5.9800418e-03 6.5994815e-10 1.0601332e-03 2.3636798e-04 4.1197974e-04\n",
      "  1.1424624e-10 9.9231142e-01 1.3639557e-12 2.6723881e-10 1.4369523e-12]]\n",
      "[9 2 1 1 6]\n",
      "[9 2 1 1 6]\n"
     ]
    }
   ],
   "source": [
    "prediction = model.predict(x_test)\n",
    "print(prediction[:5])\n",
    "\n",
    "prediction = np.argmax(prediction, axis=-1)\n",
    "print(prediction[:5])\n",
    "print(y_test[:5])"
   ]
  },
  {
   "cell_type": "code",
   "execution_count": 12,
   "id": "1b8042b0",
   "metadata": {
    "executionInfo": {
     "elapsed": 237,
     "status": "ok",
     "timestamp": 1746431444460,
     "user": {
      "displayName": "Hind Azegrouz",
      "userId": "04469582049561885297"
     },
     "user_tz": -120
    },
    "id": "1b8042b0"
   },
   "outputs": [],
   "source": [
    "from sklearn.metrics import accuracy_score, confusion_matrix"
   ]
  },
  {
   "cell_type": "code",
   "execution_count": 13,
   "id": "5e20f0a5",
   "metadata": {
    "colab": {
     "base_uri": "https://localhost:8080/"
    },
    "executionInfo": {
     "elapsed": 57,
     "status": "ok",
     "timestamp": 1746431444518,
     "user": {
      "displayName": "Hind Azegrouz",
      "userId": "04469582049561885297"
     },
     "user_tz": -120
    },
    "id": "5e20f0a5",
    "outputId": "5f2641ea-e354-4021-ee47-da85cb196703"
   },
   "outputs": [
    {
     "name": "stdout",
     "output_type": "stream",
     "text": [
      "0.91\n",
      "[[843   2  15  25   5   2 100   0   8   0]\n",
      " [  2 983   0  11   1   0   1   0   2   0]\n",
      " [ 13   1 847  12  53   0  73   0   1   0]\n",
      " [ 16   6   8 914  33   0  20   0   3   0]\n",
      " [  0   0  51  21 865   0  62   0   1   0]\n",
      " [  0   0   0   1   0 972   0  17   1   9]\n",
      " [106   4  37  19  60   0 761   0  13   0]\n",
      " [  0   0   0   0   0   7   0 978   0  15]\n",
      " [  1   1   4   2   1   1   2   5 983   0]\n",
      " [  0   0   0   0   0   7   1  38   0 954]]\n"
     ]
    }
   ],
   "source": [
    "ac_score = accuracy_score(y_test, prediction)\n",
    "print(ac_score)\n",
    "\n",
    "conf_matrix = confusion_matrix(y_test, prediction)\n",
    "print(conf_matrix)"
   ]
  },
  {
   "cell_type": "code",
   "execution_count": 14,
   "id": "5c55a646",
   "metadata": {
    "executionInfo": {
     "elapsed": 681,
     "status": "ok",
     "timestamp": 1746431445201,
     "user": {
      "displayName": "Hind Azegrouz",
      "userId": "04469582049561885297"
     },
     "user_tz": -120
    },
    "id": "5c55a646"
   },
   "outputs": [],
   "source": [
    "import seaborn as sns"
   ]
  },
  {
   "cell_type": "code",
   "execution_count": 15,
   "id": "9490baf2",
   "metadata": {
    "colab": {
     "base_uri": "https://localhost:8080/",
     "height": 497
    },
    "executionInfo": {
     "elapsed": 598,
     "status": "ok",
     "timestamp": 1746431445801,
     "user": {
      "displayName": "Hind Azegrouz",
      "userId": "04469582049561885297"
     },
     "user_tz": -120
    },
    "id": "9490baf2",
    "outputId": "64824d45-4fe8-485a-b79d-72cd1d433205"
   },
   "outputs": [
    {
     "data": {
      "text/plain": [
       "Text(50.722222222222214, 0.5, 'actual')"
      ]
     },
     "execution_count": 15,
     "metadata": {},
     "output_type": "execute_result"
    },
    {
     "data": {
      "image/png": "[encoded data removed]",
      "text/plain": [
       "<Figure size 640x480 with 2 Axes>"
      ]
     },
     "metadata": {},
     "output_type": "display_data"
    }
   ],
   "source": [
    "ax = sns.heatmap(conf_matrix, annot=True, fmt='d', cmap='Purples')\n",
    "ax.set_title('confusion matrix for MNIST dataset', fontsize=16)\n",
    "ax.set_xlabel('prediction', fontsize=16)\n",
    "ax.set_ylabel('actual', fontsize=16)"
   ]
  },
  {
   "cell_type": "code",
   "execution_count": 15,
   "id": "f674b32a",
   "metadata": {},
   "outputs": [
    {
     "name": "stdout",
     "output_type": "stream",
     "text": [
      "\u001b[1m1/1\u001b[0m \u001b[32m━━━━━━━━━━━━━━━━━━━━\u001b[0m\u001b[37m\u001b[0m \u001b[1m0s\u001b[0m 47ms/step\n",
      "Predicted digit: 0\n",
      "\u001b[1m1/1\u001b[0m \u001b[32m━━━━━━━━━━━━━━━━━━━━\u001b[0m\u001b[37m\u001b[0m \u001b[1m0s\u001b[0m 24ms/step\n",
      "Predicted digit: 5\n",
      "\u001b[1m1/1\u001b[0m \u001b[32m━━━━━━━━━━━━━━━━━━━━\u001b[0m\u001b[37m\u001b[0m \u001b[1m0s\u001b[0m 41ms/step\n",
      "Predicted digit: 1\n",
      "\u001b[1m1/1\u001b[0m \u001b[32m━━━━━━━━━━━━━━━━━━━━\u001b[0m\u001b[37m\u001b[0m \u001b[1m0s\u001b[0m 37ms/step\n",
      "Predicted digit: 2\n",
      "\u001b[1m1/1\u001b[0m \u001b[32m━━━━━━━━━━━━━━━━━━━━\u001b[0m\u001b[37m\u001b[0m \u001b[1m0s\u001b[0m 38ms/step\n",
      "Predicted digit: 3\n",
      "\u001b[1m1/1\u001b[0m \u001b[32m━━━━━━━━━━━━━━━━━━━━\u001b[0m\u001b[37m\u001b[0m \u001b[1m0s\u001b[0m 39ms/step\n",
      "Predicted digit: 4\n",
      "\u001b[1m1/1\u001b[0m \u001b[32m━━━━━━━━━━━━━━━━━━━━\u001b[0m\u001b[37m\u001b[0m \u001b[1m0s\u001b[0m 42ms/step\n",
      "Predicted digit: 5\n",
      "\u001b[1m1/1\u001b[0m \u001b[32m━━━━━━━━━━━━━━━━━━━━\u001b[0m\u001b[37m\u001b[0m \u001b[1m0s\u001b[0m 37ms/step\n",
      "Predicted digit: 6\n",
      "\u001b[1m1/1\u001b[0m \u001b[32m━━━━━━━━━━━━━━━━━━━━\u001b[0m\u001b[37m\u001b[0m \u001b[1m0s\u001b[0m 32ms/step\n",
      "Predicted digit: 7\n",
      "\u001b[1m1/1\u001b[0m \u001b[32m━━━━━━━━━━━━━━━━━━━━\u001b[0m\u001b[37m\u001b[0m \u001b[1m0s\u001b[0m 50ms/step\n",
      "Predicted digit: 8\n",
      "\u001b[1m1/1\u001b[0m \u001b[32m━━━━━━━━━━━━━━━━━━━━\u001b[0m\u001b[37m\u001b[0m \u001b[1m0s\u001b[0m 41ms/step\n",
      "Predicted digit: 1\n",
      "\u001b[1m1/1\u001b[0m \u001b[32m━━━━━━━━━━━━━━━━━━━━\u001b[0m\u001b[37m\u001b[0m \u001b[1m0s\u001b[0m 46ms/step\n",
      "Predicted digit: 4\n",
      "\u001b[1m1/1\u001b[0m \u001b[32m━━━━━━━━━━━━━━━━━━━━\u001b[0m\u001b[37m\u001b[0m \u001b[1m0s\u001b[0m 39ms/step\n",
      "Predicted digit: 4\n",
      "\u001b[1m1/1\u001b[0m \u001b[32m━━━━━━━━━━━━━━━━━━━━\u001b[0m\u001b[37m\u001b[0m \u001b[1m0s\u001b[0m 40ms/step\n",
      "Predicted digit: 4\n",
      "\u001b[1m1/1\u001b[0m \u001b[32m━━━━━━━━━━━━━━━━━━━━\u001b[0m\u001b[37m\u001b[0m \u001b[1m0s\u001b[0m 41ms/step\n",
      "Predicted digit: 2\n",
      "\u001b[1m1/1\u001b[0m \u001b[32m━━━━━━━━━━━━━━━━━━━━\u001b[0m\u001b[37m\u001b[0m \u001b[1m0s\u001b[0m 41ms/step\n",
      "Predicted digit: 2\n",
      "\u001b[1m1/1\u001b[0m \u001b[32m━━━━━━━━━━━━━━━━━━━━\u001b[0m\u001b[37m\u001b[0m \u001b[1m0s\u001b[0m 47ms/step\n",
      "Predicted digit: 4\n",
      "\u001b[1m1/1\u001b[0m \u001b[32m━━━━━━━━━━━━━━━━━━━━\u001b[0m\u001b[37m\u001b[0m \u001b[1m0s\u001b[0m 37ms/step\n",
      "Predicted digit: 1\n",
      "\u001b[1m1/1\u001b[0m \u001b[32m━━━━━━━━━━━━━━━━━━━━\u001b[0m\u001b[37m\u001b[0m \u001b[1m0s\u001b[0m 45ms/step\n",
      "Predicted digit: 3\n",
      "\u001b[1m1/1\u001b[0m \u001b[32m━━━━━━━━━━━━━━━━━━━━\u001b[0m\u001b[37m\u001b[0m \u001b[1m0s\u001b[0m 49ms/step\n",
      "Predicted digit: 2\n",
      "\u001b[1m1/1\u001b[0m \u001b[32m━━━━━━━━━━━━━━━━━━━━\u001b[0m\u001b[37m\u001b[0m \u001b[1m0s\u001b[0m 38ms/step\n",
      "Predicted digit: 9\n"
     ]
    }
   ],
   "source": [
    "import tkinter as tk\n",
    "from PIL import Image, ImageDraw, ImageOps\n",
    "import numpy as np\n",
    "from tensorflow import keras\n",
    "\n",
    "# Load your trained Keras model\n",
    "#model = keras.models.load_model(\"model.h5\")\n",
    "\n",
    "# Create a Tkinter window\n",
    "class App(tk.Tk):\n",
    "    def __init__(self):\n",
    "        super().__init__()\n",
    "        self.title(\"Draw a Digit\")\n",
    "        self.canvas = tk.Canvas(self, width=280, height=280, bg='white')\n",
    "        self.canvas.pack()\n",
    "        self.button = tk.Button(self, text=\"Predict\", command=self.predict)\n",
    "        self.button.pack()\n",
    "        self.clear_button = tk.Button(self, text=\"Clear\", command=self.clear)\n",
    "        self.clear_button.pack()\n",
    "\n",
    "        self.canvas.bind(\"<B1-Motion>\", self.paint)\n",
    "        self.image1 = Image.new(\"L\", (280, 280), color=255)\n",
    "        self.draw = ImageDraw.Draw(self.image1)\n",
    "\n",
    "    def paint(self, event):\n",
    "        x1, y1 = (event.x - 8), (event.y - 8)\n",
    "        x2, y2 = (event.x + 8), (event.y + 8)\n",
    "        self.canvas.create_oval(x1, y1, x2, y2, fill='black')\n",
    "        self.draw.ellipse([x1, y1, x2, y2], fill=0)\n",
    "\n",
    "    def clear(self):\n",
    "        self.canvas.delete(\"all\")\n",
    "        self.draw.rectangle([0, 0, 280, 280], fill=255)\n",
    "\n",
    "    def predict(self):\n",
    "        img = self.image1.resize((28, 28))\n",
    "        img = ImageOps.invert(img)\n",
    "        img = np.array(img).astype(np.float32) / 255.0\n",
    "        img = np.expand_dims(img, axis=0)  # Keras expects (batch_size, height, width)\n",
    "\n",
    "        output = model.predict(img)\n",
    "        pred = np.argmax(output)\n",
    "\n",
    "        print(f\"Predicted digit: {pred}\")\n",
    "        self.title(f\"Predicted: {pred}\")\n",
    "\n",
    "\n",
    "# Run the app\n",
    "app = App()\n",
    "app.mainloop()"
   ]
  },
  {
   "cell_type": "code",
   "execution_count": 16,
   "id": "c4326eff",
   "metadata": {},
   "outputs": [
    {
     "name": "stderr",
     "output_type": "stream",
     "text": [
      "WARNING:absl:You are saving your model as an HDF5 file via `model.save()` or `keras.saving.save_model(model)`. This file format is considered legacy. We recommend using instead the native Keras format, e.g. `model.save('my_model.keras')` or `keras.saving.save_model(model, 'my_model.keras')`. \n"
     ]
    }
   ],
   "source": [
    "model.save('../models/mnist-fashion-model.h5')"
   ]
  }
 ],
 "metadata": {
  "colab": {
   "provenance": []
  },
  "kernelspec": {
   "display_name": "object_detection",
   "language": "python",
   "name": "python3"
  },
  "language_info": {
   "codemirror_mode": {
    "name": "ipython",
    "version": 3
   },
   "file_extension": ".py",
   "mimetype": "text/x-python",
   "name": "python",
   "nbconvert_exporter": "python",
   "pygments_lexer": "ipython3",
   "version": "3.9.21"
  }
 },
 "nbformat": 4,
 "nbformat_minor": 5
}
