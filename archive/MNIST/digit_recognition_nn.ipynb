{
 "cells": [
  {
   "cell_type": "code",
   "execution_count": 1,
   "metadata": {},
   "outputs": [],
   "source": [
    "import torch # type: ignore\n",
    "import torch.nn as nn  # type: ignore\n",
    "import torch.nn.functional as F  # type: ignore\n",
    "import torch.optim as optim  # type: ignore\n",
    "from torchvision import datasets, transforms # type: ignore"
   ]
  },
  {
   "cell_type": "code",
   "execution_count": 2,
   "metadata": {},
   "outputs": [],
   "source": [
    "# Normalize the train and testing data\n",
    "transform = transforms.Compose([\n",
    "    transforms.ToTensor(),\n",
    "    transforms.Normalize((0.1307,), (0.3081,))\n",
    "])"
   ]
  },
  {
   "cell_type": "code",
   "execution_count": 4,
   "metadata": {},
   "outputs": [],
   "source": [
    "# Load MNIST Dataset\n",
    "train_dataset = datasets.MNIST(root = './data', train = True, download = True, transform = transform)\n",
    "test_dataset = datasets.MNIST(root = './data', train = False, download = True, transform = transform)"
   ]
  },
  {
   "cell_type": "code",
   "execution_count": 5,
   "metadata": {},
   "outputs": [],
   "source": [
    "# Define data loaders\n",
    "train_loader = torch.utils.data.DataLoader(dataset = train_dataset, batch_size = 64, shuffle = True)\n",
    "test_loader = torch.utils.data.DataLoader(dataset = test_dataset, batch_size = 1000, shuffle = False)"
   ]
  },
  {
   "cell_type": "code",
   "execution_count": 6,
   "metadata": {},
   "outputs": [],
   "source": [
    "# Neural Network Model\n",
    "class Net(nn.Module):\n",
    "    def __init__(self):\n",
    "        super(Net, self).__init__()\n",
    "        self.fc1 = nn.Linear(28*28, 128)    # Input layer to hidden layer\n",
    "        self.fc2 = nn.Linear(128, 10)       # Hidden layer to output layer\n",
    "\n",
    "    def forward(self, x):\n",
    "        x = x.view(-1, 28*28)   # Flatten the input\n",
    "        x = F.relu(self.fc1(x))\n",
    "        x = self.fc2(x)\n",
    "        return x\n",
    "\n",
    "model = Net()"
   ]
  },
  {
   "cell_type": "code",
   "execution_count": 7,
   "metadata": {},
   "outputs": [],
   "source": [
    "# Loss Function & Optimizer\n",
    "criterion = nn.CrossEntropyLoss()\n",
    "optimizer = optim.SGD(model.parameters(), lr = 0.01, momentum = 0.9)"
   ]
  },
  {
   "cell_type": "code",
   "execution_count": 8,
   "metadata": {},
   "outputs": [
    {
     "name": "stdout",
     "output_type": "stream",
     "text": [
      "Epoch 1 [0/60000] Loss: 2.289609\n",
      "Epoch 1 [6400/60000] Loss: 0.372935\n",
      "Epoch 1 [12800/60000] Loss: 0.319256\n",
      "Epoch 1 [19200/60000] Loss: 0.342861\n",
      "Epoch 1 [25600/60000] Loss: 0.098823\n",
      "Epoch 1 [32000/60000] Loss: 0.127149\n",
      "Epoch 1 [38400/60000] Loss: 0.225669\n",
      "Epoch 1 [44800/60000] Loss: 0.320658\n",
      "Epoch 1 [51200/60000] Loss: 0.120148\n",
      "Epoch 1 [57600/60000] Loss: 0.082395\n",
      "Epoch 2 [0/60000] Loss: 0.051805\n",
      "Epoch 2 [6400/60000] Loss: 0.139695\n",
      "Epoch 2 [12800/60000] Loss: 0.124839\n",
      "Epoch 2 [19200/60000] Loss: 0.217064\n",
      "Epoch 2 [25600/60000] Loss: 0.136984\n",
      "Epoch 2 [32000/60000] Loss: 0.085872\n",
      "Epoch 2 [38400/60000] Loss: 0.085886\n",
      "Epoch 2 [44800/60000] Loss: 0.117071\n",
      "Epoch 2 [51200/60000] Loss: 0.058490\n",
      "Epoch 2 [57600/60000] Loss: 0.086237\n",
      "Epoch 3 [0/60000] Loss: 0.099329\n",
      "Epoch 3 [6400/60000] Loss: 0.075468\n",
      "Epoch 3 [12800/60000] Loss: 0.074891\n",
      "Epoch 3 [19200/60000] Loss: 0.083175\n",
      "Epoch 3 [25600/60000] Loss: 0.047057\n",
      "Epoch 3 [32000/60000] Loss: 0.041969\n",
      "Epoch 3 [38400/60000] Loss: 0.043347\n",
      "Epoch 3 [44800/60000] Loss: 0.087063\n",
      "Epoch 3 [51200/60000] Loss: 0.051246\n",
      "Epoch 3 [57600/60000] Loss: 0.028870\n",
      "Epoch 4 [0/60000] Loss: 0.065555\n",
      "Epoch 4 [6400/60000] Loss: 0.036636\n",
      "Epoch 4 [12800/60000] Loss: 0.066446\n",
      "Epoch 4 [19200/60000] Loss: 0.107902\n",
      "Epoch 4 [25600/60000] Loss: 0.021261\n",
      "Epoch 4 [32000/60000] Loss: 0.008440\n",
      "Epoch 4 [38400/60000] Loss: 0.095634\n",
      "Epoch 4 [44800/60000] Loss: 0.012941\n",
      "Epoch 4 [51200/60000] Loss: 0.029117\n",
      "Epoch 4 [57600/60000] Loss: 0.040238\n",
      "Epoch 5 [0/60000] Loss: 0.018036\n",
      "Epoch 5 [6400/60000] Loss: 0.024044\n",
      "Epoch 5 [12800/60000] Loss: 0.017711\n",
      "Epoch 5 [19200/60000] Loss: 0.037080\n",
      "Epoch 5 [25600/60000] Loss: 0.012449\n",
      "Epoch 5 [32000/60000] Loss: 0.089554\n",
      "Epoch 5 [38400/60000] Loss: 0.022602\n",
      "Epoch 5 [44800/60000] Loss: 0.012678\n",
      "Epoch 5 [51200/60000] Loss: 0.026327\n",
      "Epoch 5 [57600/60000] Loss: 0.014660\n"
     ]
    }
   ],
   "source": [
    "# Model Training\n",
    "for epoch in range(1, 6):   # 5 epochs\n",
    "    model.train()\n",
    "    for batch_idx, (data, target) in enumerate(train_loader):\n",
    "        optimizer.zero_grad()           # Zero the gradients\n",
    "        output = model(data)            # Forward pass\n",
    "        loss = criterion(output, target)# Compute Loss\n",
    "        loss.backward()                 # Backward Pass\n",
    "        optimizer.step()                # Update weights\n",
    "\n",
    "        if batch_idx % 100 == 0:\n",
    "            print(f'Epoch {epoch} [{batch_idx * len(data)}/{len(train_loader.dataset)}] Loss: {loss.item():.6f}')"
   ]
  },
  {
   "cell_type": "code",
   "execution_count": 9,
   "metadata": {},
   "outputs": [
    {
     "name": "stdout",
     "output_type": "stream",
     "text": [
      "Test Accuracy: 97.69%\n"
     ]
    }
   ],
   "source": [
    "# Evaluate\n",
    "model.eval()\n",
    "correct = 0\n",
    "with torch.no_grad():\n",
    "    for data, target in test_loader:\n",
    "        output = model(data)\n",
    "        pred = output.argmax(dim = 1, keepdim = True)   # Get the index of the max log-probability\n",
    "        correct += pred.eq(target.view_as(pred)).sum().item()\n",
    "\n",
    "print(f'Test Accuracy: {100. * correct / len(test_loader.dataset):.2f}%')"
   ]
  },
  {
   "cell_type": "code",
   "execution_count": 11,
   "metadata": {},
   "outputs": [
    {
     "name": "stdout",
     "output_type": "stream",
     "text": [
      "Predicted digit: 9\n",
      "Predicted digit: 9\n",
      "Predicted digit: 7\n",
      "Predicted digit: 2\n",
      "Predicted digit: 8\n",
      "Predicted digit: 8\n",
      "Predicted digit: 6\n",
      "Predicted digit: 6\n",
      "Predicted digit: 5\n",
      "Predicted digit: 5\n",
      "Predicted digit: 5\n",
      "Predicted digit: 5\n",
      "Predicted digit: 5\n",
      "Predicted digit: 3\n",
      "Predicted digit: 3\n",
      "Predicted digit: 3\n",
      "Predicted digit: 3\n",
      "Predicted digit: 3\n",
      "Predicted digit: 3\n",
      "Predicted digit: 3\n",
      "Predicted digit: 3\n",
      "Predicted digit: 3\n",
      "Predicted digit: 8\n",
      "Predicted digit: 8\n",
      "Predicted digit: 8\n",
      "Predicted digit: 8\n",
      "Predicted digit: 8\n",
      "Predicted digit: 3\n",
      "Predicted digit: 3\n",
      "Predicted digit: 4\n",
      "Predicted digit: 3\n",
      "Predicted digit: 2\n",
      "Predicted digit: 2\n",
      "Predicted digit: 2\n",
      "Predicted digit: 2\n",
      "Predicted digit: 2\n",
      "Predicted digit: 2\n",
      "Predicted digit: 3\n",
      "Predicted digit: 3\n",
      "Predicted digit: 3\n",
      "Predicted digit: 3\n",
      "Predicted digit: 3\n",
      "Predicted digit: 3\n",
      "Predicted digit: 3\n",
      "Predicted digit: 3\n",
      "Predicted digit: 5\n",
      "Predicted digit: 3\n",
      "Predicted digit: 3\n",
      "Predicted digit: 3\n",
      "Predicted digit: 3\n"
     ]
    }
   ],
   "source": [
    "import tkinter as tk\n",
    "from PIL import Image, ImageDraw, ImageOps # type: ignore\n",
    "import torch # type: ignore\n",
    "import cv2 # type: ignore\n",
    "import numpy as np\n",
    "\n",
    "# Load your trained model\n",
    "model.eval()\n",
    "\n",
    "# Create a Tkinter window\n",
    "class App(tk.Tk):\n",
    "    def __init__(self):\n",
    "        super().__init__()\n",
    "        self.title(\"Draw a Digit\")\n",
    "        self.canvas = tk.Canvas(self, width=280, height=280, bg='white')\n",
    "        self.canvas.pack()\n",
    "        self.button = tk.Button(self, text=\"Predict\", command=self.predict)\n",
    "        self.button.pack()\n",
    "        self.clear_button = tk.Button(self, text=\"Clear\", command=self.clear)\n",
    "        self.clear_button.pack()\n",
    "\n",
    "        self.canvas.bind(\"<B1-Motion>\", self.paint)\n",
    "        self.image1 = Image.new(\"L\", (280, 280), color=255)\n",
    "        self.draw = ImageDraw.Draw(self.image1)\n",
    "\n",
    "    def paint(self, event):\n",
    "        x1, y1 = (event.x - 8), (event.y - 8)\n",
    "        x2, y2 = (event.x + 8), (event.y + 8)\n",
    "        self.canvas.create_oval(x1, y1, x2, y2, fill='black')\n",
    "        self.draw.ellipse([x1, y1, x2, y2], fill=0)\n",
    "\n",
    "    def clear(self):\n",
    "        self.canvas.delete(\"all\")\n",
    "        self.draw.rectangle([0, 0, 280, 280], fill=255)\n",
    "\n",
    "    def predict(self):\n",
    "        # Resize and normalize the image to 28x28\n",
    "        img = self.image1.resize((28, 28))\n",
    "        img = ImageOps.invert(img)\n",
    "        img = np.array(img).astype(np.float32) / 255.0\n",
    "        img = torch.tensor(img).unsqueeze(0).unsqueeze(0)  # shape (1, 1, 28, 28)\n",
    "\n",
    "        # Predict\n",
    "        with torch.no_grad():\n",
    "            output = model(img)\n",
    "            pred = output.argmax(dim=1).item()\n",
    "            print(f\"Predicted digit: {pred}\")\n",
    "            self.title(f\"Predicted: {pred}\")\n",
    "\n",
    "# Run the app\n",
    "app = App()\n",
    "app.mainloop()"
   ]
  }
 ],
 "metadata": {
  "kernelspec": {
   "display_name": "object_detect_env",
   "language": "python",
   "name": "python3"
  },
  "language_info": {
   "codemirror_mode": {
    "name": "ipython",
    "version": 3
   },
   "file_extension": ".py",
   "mimetype": "text/x-python",
   "name": "python",
   "nbconvert_exporter": "python",
   "pygments_lexer": "ipython3",
   "version": "3.9.21"
  }
 },
 "nbformat": 4,
 "nbformat_minor": 2
}
