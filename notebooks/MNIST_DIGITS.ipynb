{
 "cells": [
  {
   "cell_type": "code",
   "execution_count": 1,
   "id": "71d4bda9",
   "metadata": {
    "executionInfo": {
     "elapsed": 13837,
     "status": "ok",
     "timestamp": 1746431348525,
     "user": {
      "displayName": "Hind Azegrouz",
      "userId": "04469582049561885297"
     },
     "user_tz": -120
    },
    "id": "71d4bda9"
   },
   "outputs": [],
   "source": [
    "import numpy as np\n",
    "from tensorflow import keras\n",
    "from keras.datasets import mnist"
   ]
  },
  {
   "cell_type": "code",
   "execution_count": 2,
   "id": "e484a5b3",
   "metadata": {
    "colab": {
     "base_uri": "https://localhost:8080/"
    },
    "executionInfo": {
     "elapsed": 1128,
     "status": "ok",
     "timestamp": 1746431349667,
     "user": {
      "displayName": "Hind Azegrouz",
      "userId": "04469582049561885297"
     },
     "user_tz": -120
    },
    "id": "e484a5b3",
    "outputId": "3a17c5ee-1f22-499f-e9fc-e7826ec0683e"
   },
   "outputs": [
    {
     "name": "stdout",
     "output_type": "stream",
     "text": [
      "Downloading data from https://storage.googleapis.com/tensorflow/tf-keras-datasets/mnist.npz\n",
      "\u001b[1m11490434/11490434\u001b[0m \u001b[32m━━━━━━━━━━━━━━━━━━━━\u001b[0m\u001b[37m\u001b[0m \u001b[1m2s\u001b[0m 0us/step\n"
     ]
    }
   ],
   "source": [
    "(x_train, y_train), (x_test, y_test) = mnist.load_data()"
   ]
  },
  {
   "cell_type": "code",
   "execution_count": 3,
   "id": "7fd2576b",
   "metadata": {
    "colab": {
     "base_uri": "https://localhost:8080/"
    },
    "executionInfo": {
     "elapsed": 36,
     "status": "ok",
     "timestamp": 1746431349708,
     "user": {
      "displayName": "Hind Azegrouz",
      "userId": "04469582049561885297"
     },
     "user_tz": -120
    },
    "id": "7fd2576b",
    "outputId": "c74767b2-d662-4c75-deb4-9879de883709"
   },
   "outputs": [
    {
     "name": "stdout",
     "output_type": "stream",
     "text": [
      "(60000, 28, 28) (60000,)\n",
      "(10000, 28, 28) (10000,)\n"
     ]
    }
   ],
   "source": [
    "print(x_train.shape, y_train.shape)\n",
    "print(x_test.shape, y_test.shape)"
   ]
  },
  {
   "cell_type": "code",
   "execution_count": 4,
   "id": "f8079421",
   "metadata": {
    "colab": {
     "base_uri": "https://localhost:8080/"
    },
    "collapsed": true,
    "executionInfo": {
     "elapsed": 627,
     "status": "ok",
     "timestamp": 1746431350337,
     "user": {
      "displayName": "Hind Azegrouz",
      "userId": "04469582049561885297"
     },
     "user_tz": -120
    },
    "id": "f8079421",
    "outputId": "5da645e8-2b82-4e45-f4e4-93e385a642a5"
   },
   "outputs": [
    {
     "name": "stdout",
     "output_type": "stream",
     "text": [
      "[[[  0   0   0   0   0   0   0   0   0   0   0   0   0   0   0   0   0\n",
      "     0   0   0   0   0   0   0   0   0   0   0]\n",
      "  [  0   0   0   0   0   0   0   0   0   0   0   0   0   0   0   0   0\n",
      "     0   0   0   0   0   0   0   0   0   0   0]\n",
      "  [  0   0   0   0   0   0   0   0   0   0   0   0   0   0   0   0   0\n",
      "     0   0   0   0   0   0   0   0   0   0   0]\n",
      "  [  0   0   0   0   0   0   0   0   0   0   0   0   0   0   0   0   0\n",
      "     0   0   0   0   0   0   0   0   0   0   0]\n",
      "  [  0   0   0   0   0   0   0   0   0   0   0   0   0   0   0   0   0\n",
      "     0   0   0   0   0   0   0   0   0   0   0]\n",
      "  [  0   0   0   0   0   0   0   0   0   0   0   0   3  18  18  18 126\n",
      "   136 175  26 166 255 247 127   0   0   0   0]\n",
      "  [  0   0   0   0   0   0   0   0  30  36  94 154 170 253 253 253 253\n",
      "   253 225 172 253 242 195  64   0   0   0   0]\n",
      "  [  0   0   0   0   0   0   0  49 238 253 253 253 253 253 253 253 253\n",
      "   251  93  82  82  56  39   0   0   0   0   0]\n",
      "  [  0   0   0   0   0   0   0  18 219 253 253 253 253 253 198 182 247\n",
      "   241   0   0   0   0   0   0   0   0   0   0]\n",
      "  [  0   0   0   0   0   0   0   0  80 156 107 253 253 205  11   0  43\n",
      "   154   0   0   0   0   0   0   0   0   0   0]\n",
      "  [  0   0   0   0   0   0   0   0   0  14   1 154 253  90   0   0   0\n",
      "     0   0   0   0   0   0   0   0   0   0   0]\n",
      "  [  0   0   0   0   0   0   0   0   0   0   0 139 253 190   2   0   0\n",
      "     0   0   0   0   0   0   0   0   0   0   0]\n",
      "  [  0   0   0   0   0   0   0   0   0   0   0  11 190 253  70   0   0\n",
      "     0   0   0   0   0   0   0   0   0   0   0]\n",
      "  [  0   0   0   0   0   0   0   0   0   0   0   0  35 241 225 160 108\n",
      "     1   0   0   0   0   0   0   0   0   0   0]\n",
      "  [  0   0   0   0   0   0   0   0   0   0   0   0   0  81 240 253 253\n",
      "   119  25   0   0   0   0   0   0   0   0   0]\n",
      "  [  0   0   0   0   0   0   0   0   0   0   0   0   0   0  45 186 253\n",
      "   253 150  27   0   0   0   0   0   0   0   0]\n",
      "  [  0   0   0   0   0   0   0   0   0   0   0   0   0   0   0  16  93\n",
      "   252 253 187   0   0   0   0   0   0   0   0]\n",
      "  [  0   0   0   0   0   0   0   0   0   0   0   0   0   0   0   0   0\n",
      "   249 253 249  64   0   0   0   0   0   0   0]\n",
      "  [  0   0   0   0   0   0   0   0   0   0   0   0   0   0  46 130 183\n",
      "   253 253 207   2   0   0   0   0   0   0   0]\n",
      "  [  0   0   0   0   0   0   0   0   0   0   0   0  39 148 229 253 253\n",
      "   253 250 182   0   0   0   0   0   0   0   0]\n",
      "  [  0   0   0   0   0   0   0   0   0   0  24 114 221 253 253 253 253\n",
      "   201  78   0   0   0   0   0   0   0   0   0]\n",
      "  [  0   0   0   0   0   0   0   0  23  66 213 253 253 253 253 198  81\n",
      "     2   0   0   0   0   0   0   0   0   0   0]\n",
      "  [  0   0   0   0   0   0  18 171 219 253 253 253 253 195  80   9   0\n",
      "     0   0   0   0   0   0   0   0   0   0   0]\n",
      "  [  0   0   0   0  55 172 226 253 253 253 253 244 133  11   0   0   0\n",
      "     0   0   0   0   0   0   0   0   0   0   0]\n",
      "  [  0   0   0   0 136 253 253 253 212 135 132  16   0   0   0   0   0\n",
      "     0   0   0   0   0   0   0   0   0   0   0]\n",
      "  [  0   0   0   0   0   0   0   0   0   0   0   0   0   0   0   0   0\n",
      "     0   0   0   0   0   0   0   0   0   0   0]\n",
      "  [  0   0   0   0   0   0   0   0   0   0   0   0   0   0   0   0   0\n",
      "     0   0   0   0   0   0   0   0   0   0   0]\n",
      "  [  0   0   0   0   0   0   0   0   0   0   0   0   0   0   0   0   0\n",
      "     0   0   0   0   0   0   0   0   0   0   0]]]\n",
      "[[[0.         0.         0.         0.         0.         0.\n",
      "   0.         0.         0.         0.         0.         0.\n",
      "   0.         0.         0.         0.         0.         0.\n",
      "   0.         0.         0.         0.         0.         0.\n",
      "   0.         0.         0.         0.        ]\n",
      "  [0.         0.         0.         0.         0.         0.\n",
      "   0.         0.         0.         0.         0.         0.\n",
      "   0.         0.         0.         0.         0.         0.\n",
      "   0.         0.         0.         0.         0.         0.\n",
      "   0.         0.         0.         0.        ]\n",
      "  [0.         0.         0.         0.         0.         0.\n",
      "   0.         0.         0.         0.         0.         0.\n",
      "   0.         0.         0.         0.         0.         0.\n",
      "   0.         0.         0.         0.         0.         0.\n",
      "   0.         0.         0.         0.        ]\n",
      "  [0.         0.         0.         0.         0.         0.\n",
      "   0.         0.         0.         0.         0.         0.\n",
      "   0.         0.         0.         0.         0.         0.\n",
      "   0.         0.         0.         0.         0.         0.\n",
      "   0.         0.         0.         0.        ]\n",
      "  [0.         0.         0.         0.         0.         0.\n",
      "   0.         0.         0.         0.         0.         0.\n",
      "   0.         0.         0.         0.         0.         0.\n",
      "   0.         0.         0.         0.         0.         0.\n",
      "   0.         0.         0.         0.        ]\n",
      "  [0.         0.         0.         0.         0.         0.\n",
      "   0.         0.         0.         0.         0.         0.\n",
      "   0.01176471 0.07058824 0.07058824 0.07058824 0.49411765 0.53333333\n",
      "   0.68627451 0.10196078 0.65098039 1.         0.96862745 0.49803922\n",
      "   0.         0.         0.         0.        ]\n",
      "  [0.         0.         0.         0.         0.         0.\n",
      "   0.         0.         0.11764706 0.14117647 0.36862745 0.60392157\n",
      "   0.66666667 0.99215686 0.99215686 0.99215686 0.99215686 0.99215686\n",
      "   0.88235294 0.6745098  0.99215686 0.94901961 0.76470588 0.25098039\n",
      "   0.         0.         0.         0.        ]\n",
      "  [0.         0.         0.         0.         0.         0.\n",
      "   0.         0.19215686 0.93333333 0.99215686 0.99215686 0.99215686\n",
      "   0.99215686 0.99215686 0.99215686 0.99215686 0.99215686 0.98431373\n",
      "   0.36470588 0.32156863 0.32156863 0.21960784 0.15294118 0.\n",
      "   0.         0.         0.         0.        ]\n",
      "  [0.         0.         0.         0.         0.         0.\n",
      "   0.         0.07058824 0.85882353 0.99215686 0.99215686 0.99215686\n",
      "   0.99215686 0.99215686 0.77647059 0.71372549 0.96862745 0.94509804\n",
      "   0.         0.         0.         0.         0.         0.\n",
      "   0.         0.         0.         0.        ]\n",
      "  [0.         0.         0.         0.         0.         0.\n",
      "   0.         0.         0.31372549 0.61176471 0.41960784 0.99215686\n",
      "   0.99215686 0.80392157 0.04313725 0.         0.16862745 0.60392157\n",
      "   0.         0.         0.         0.         0.         0.\n",
      "   0.         0.         0.         0.        ]\n",
      "  [0.         0.         0.         0.         0.         0.\n",
      "   0.         0.         0.         0.05490196 0.00392157 0.60392157\n",
      "   0.99215686 0.35294118 0.         0.         0.         0.\n",
      "   0.         0.         0.         0.         0.         0.\n",
      "   0.         0.         0.         0.        ]\n",
      "  [0.         0.         0.         0.         0.         0.\n",
      "   0.         0.         0.         0.         0.         0.54509804\n",
      "   0.99215686 0.74509804 0.00784314 0.         0.         0.\n",
      "   0.         0.         0.         0.         0.         0.\n",
      "   0.         0.         0.         0.        ]\n",
      "  [0.         0.         0.         0.         0.         0.\n",
      "   0.         0.         0.         0.         0.         0.04313725\n",
      "   0.74509804 0.99215686 0.2745098  0.         0.         0.\n",
      "   0.         0.         0.         0.         0.         0.\n",
      "   0.         0.         0.         0.        ]\n",
      "  [0.         0.         0.         0.         0.         0.\n",
      "   0.         0.         0.         0.         0.         0.\n",
      "   0.1372549  0.94509804 0.88235294 0.62745098 0.42352941 0.00392157\n",
      "   0.         0.         0.         0.         0.         0.\n",
      "   0.         0.         0.         0.        ]\n",
      "  [0.         0.         0.         0.         0.         0.\n",
      "   0.         0.         0.         0.         0.         0.\n",
      "   0.         0.31764706 0.94117647 0.99215686 0.99215686 0.46666667\n",
      "   0.09803922 0.         0.         0.         0.         0.\n",
      "   0.         0.         0.         0.        ]\n",
      "  [0.         0.         0.         0.         0.         0.\n",
      "   0.         0.         0.         0.         0.         0.\n",
      "   0.         0.         0.17647059 0.72941176 0.99215686 0.99215686\n",
      "   0.58823529 0.10588235 0.         0.         0.         0.\n",
      "   0.         0.         0.         0.        ]\n",
      "  [0.         0.         0.         0.         0.         0.\n",
      "   0.         0.         0.         0.         0.         0.\n",
      "   0.         0.         0.         0.0627451  0.36470588 0.98823529\n",
      "   0.99215686 0.73333333 0.         0.         0.         0.\n",
      "   0.         0.         0.         0.        ]\n",
      "  [0.         0.         0.         0.         0.         0.\n",
      "   0.         0.         0.         0.         0.         0.\n",
      "   0.         0.         0.         0.         0.         0.97647059\n",
      "   0.99215686 0.97647059 0.25098039 0.         0.         0.\n",
      "   0.         0.         0.         0.        ]\n",
      "  [0.         0.         0.         0.         0.         0.\n",
      "   0.         0.         0.         0.         0.         0.\n",
      "   0.         0.         0.18039216 0.50980392 0.71764706 0.99215686\n",
      "   0.99215686 0.81176471 0.00784314 0.         0.         0.\n",
      "   0.         0.         0.         0.        ]\n",
      "  [0.         0.         0.         0.         0.         0.\n",
      "   0.         0.         0.         0.         0.         0.\n",
      "   0.15294118 0.58039216 0.89803922 0.99215686 0.99215686 0.99215686\n",
      "   0.98039216 0.71372549 0.         0.         0.         0.\n",
      "   0.         0.         0.         0.        ]\n",
      "  [0.         0.         0.         0.         0.         0.\n",
      "   0.         0.         0.         0.         0.09411765 0.44705882\n",
      "   0.86666667 0.99215686 0.99215686 0.99215686 0.99215686 0.78823529\n",
      "   0.30588235 0.         0.         0.         0.         0.\n",
      "   0.         0.         0.         0.        ]\n",
      "  [0.         0.         0.         0.         0.         0.\n",
      "   0.         0.         0.09019608 0.25882353 0.83529412 0.99215686\n",
      "   0.99215686 0.99215686 0.99215686 0.77647059 0.31764706 0.00784314\n",
      "   0.         0.         0.         0.         0.         0.\n",
      "   0.         0.         0.         0.        ]\n",
      "  [0.         0.         0.         0.         0.         0.\n",
      "   0.07058824 0.67058824 0.85882353 0.99215686 0.99215686 0.99215686\n",
      "   0.99215686 0.76470588 0.31372549 0.03529412 0.         0.\n",
      "   0.         0.         0.         0.         0.         0.\n",
      "   0.         0.         0.         0.        ]\n",
      "  [0.         0.         0.         0.         0.21568627 0.6745098\n",
      "   0.88627451 0.99215686 0.99215686 0.99215686 0.99215686 0.95686275\n",
      "   0.52156863 0.04313725 0.         0.         0.         0.\n",
      "   0.         0.         0.         0.         0.         0.\n",
      "   0.         0.         0.         0.        ]\n",
      "  [0.         0.         0.         0.         0.53333333 0.99215686\n",
      "   0.99215686 0.99215686 0.83137255 0.52941176 0.51764706 0.0627451\n",
      "   0.         0.         0.         0.         0.         0.\n",
      "   0.         0.         0.         0.         0.         0.\n",
      "   0.         0.         0.         0.        ]\n",
      "  [0.         0.         0.         0.         0.         0.\n",
      "   0.         0.         0.         0.         0.         0.\n",
      "   0.         0.         0.         0.         0.         0.\n",
      "   0.         0.         0.         0.         0.         0.\n",
      "   0.         0.         0.         0.        ]\n",
      "  [0.         0.         0.         0.         0.         0.\n",
      "   0.         0.         0.         0.         0.         0.\n",
      "   0.         0.         0.         0.         0.         0.\n",
      "   0.         0.         0.         0.         0.         0.\n",
      "   0.         0.         0.         0.        ]\n",
      "  [0.         0.         0.         0.         0.         0.\n",
      "   0.         0.         0.         0.         0.         0.\n",
      "   0.         0.         0.         0.         0.         0.\n",
      "   0.         0.         0.         0.         0.         0.\n",
      "   0.         0.         0.         0.        ]]]\n"
     ]
    }
   ],
   "source": [
    "print(x_train[:1])\n",
    "\n",
    "x_train = x_train/255\n",
    "print(x_train[:1])\n",
    "\n",
    "x_test = x_test/255"
   ]
  },
  {
   "cell_type": "code",
   "execution_count": 5,
   "id": "4a052995",
   "metadata": {
    "colab": {
     "base_uri": "https://localhost:8080/"
    },
    "executionInfo": {
     "elapsed": 220,
     "status": "ok",
     "timestamp": 1746431350553,
     "user": {
      "displayName": "Hind Azegrouz",
      "userId": "04469582049561885297"
     },
     "user_tz": -120
    },
    "id": "4a052995",
    "outputId": "729a1624-22f8-4501-bbdd-ee45b34e7c04"
   },
   "outputs": [
    {
     "name": "stdout",
     "output_type": "stream",
     "text": [
      "[5 0 4 1 9]\n",
      "[[0. 0. 0. 0. 0. 1. 0. 0. 0. 0.]\n",
      " [1. 0. 0. 0. 0. 0. 0. 0. 0. 0.]\n",
      " [0. 0. 0. 0. 1. 0. 0. 0. 0. 0.]\n",
      " [0. 1. 0. 0. 0. 0. 0. 0. 0. 0.]\n",
      " [0. 0. 0. 0. 0. 0. 0. 0. 0. 1.]]\n"
     ]
    }
   ],
   "source": [
    "print(y_train[:5])\n",
    "\n",
    "y_train = keras.utils.to_categorical(y_train, num_classes=10)\n",
    "print(y_train[:5])\n"
   ]
  },
  {
   "cell_type": "code",
   "execution_count": 6,
   "id": "a5c39694",
   "metadata": {
    "executionInfo": {
     "elapsed": 23,
     "status": "ok",
     "timestamp": 1746431350577,
     "user": {
      "displayName": "Hind Azegrouz",
      "userId": "04469582049561885297"
     },
     "user_tz": -120
    },
    "id": "a5c39694"
   },
   "outputs": [],
   "source": [
    "from keras.models import Model\n",
    "from keras import Sequential\n",
    "from keras.layers import Conv1D, BatchNormalization, Dense, Flatten, Dropout\n",
    "from keras import Input"
   ]
  },
  {
   "cell_type": "code",
   "execution_count": 7,
   "id": "315b0093",
   "metadata": {
    "executionInfo": {
     "elapsed": 572,
     "status": "ok",
     "timestamp": 1746431351153,
     "user": {
      "displayName": "Hind Azegrouz",
      "userId": "04469582049561885297"
     },
     "user_tz": -120
    },
    "id": "315b0093"
   },
   "outputs": [],
   "source": [
    "i_layer = Input(shape=(28,28))\n",
    "\n",
    "x = Conv1D(filters=32, kernel_size=3, strides=1, padding='same', activation='relu')(i_layer)\n",
    "x = BatchNormalization(momentum=0.9)(x)\n",
    "x = Dropout(0.2)(x)\n",
    "\n",
    "x = Conv1D(filters=32, kernel_size=3, strides=1, padding='same', activation='relu')(x)\n",
    "x = BatchNormalization(momentum=0.9)(x)\n",
    "x = Dropout(0.2)(x)\n",
    "\n",
    "x = Conv1D(filters=32, kernel_size=3, strides=1, padding='same', activation='relu')(x)\n",
    "x = BatchNormalization(momentum=0.9)(x)\n",
    "x = Dropout(0.2)(x)\n",
    "\n",
    "# Additional\n",
    "# x = Conv1D(filters = 32, kernel_size = 3, strides = 1, padding = 'same', activation = 'relu')(x)\n",
    "# x = BatchNormalization(momentum = 0.9)(x)\n",
    "# x = Dropout(0.2)(x)\n",
    "\n",
    "x = Flatten()(x)\n",
    "x = Dense(units=128, activation='relu')(x)\n",
    "x = Dropout(0.2)(x)\n",
    "\n",
    "o_layer = Dense(units=10, activation='softmax')(x)\n",
    "\n",
    "model = Model(i_layer, o_layer)"
   ]
  },
  {
   "cell_type": "code",
   "execution_count": 8,
   "id": "349449ec",
   "metadata": {
    "colab": {
     "base_uri": "https://localhost:8080/",
     "height": 625
    },
    "executionInfo": {
     "elapsed": 255,
     "status": "ok",
     "timestamp": 1746431351412,
     "user": {
      "displayName": "Hind Azegrouz",
      "userId": "04469582049561885297"
     },
     "user_tz": -120
    },
    "id": "349449ec",
    "outputId": "e99abed5-101f-4c5d-c13e-0e53769adc15"
   },
   "outputs": [
    {
     "data": {
      "text/html": [
       "<pre style=\"white-space:pre;overflow-x:auto;line-height:normal;font-family:Menlo,'DejaVu Sans Mono',consolas,'Courier New',monospace\"><span style=\"font-weight: bold\">Model: \"functional\"</span>\n",
       "</pre>\n"
      ],
      "text/plain": [
       "\u001b[1mModel: \"functional\"\u001b[0m\n"
      ]
     },
     "metadata": {},
     "output_type": "display_data"
    },
    {
     "data": {
      "text/html": [
       "<pre style=\"white-space:pre;overflow-x:auto;line-height:normal;font-family:Menlo,'DejaVu Sans Mono',consolas,'Courier New',monospace\">┏━━━━━━━━━━━━━━━━━━━━━━━━━━━━━━━━━┳━━━━━━━━━━━━━━━━━━━━━━━━┳━━━━━━━━━━━━━━━┓\n",
       "┃<span style=\"font-weight: bold\"> Layer (type)                    </span>┃<span style=\"font-weight: bold\"> Output Shape           </span>┃<span style=\"font-weight: bold\">       Param # </span>┃\n",
       "┡━━━━━━━━━━━━━━━━━━━━━━━━━━━━━━━━━╇━━━━━━━━━━━━━━━━━━━━━━━━╇━━━━━━━━━━━━━━━┩\n",
       "│ input_layer (<span style=\"color: #0087ff; text-decoration-color: #0087ff\">InputLayer</span>)        │ (<span style=\"color: #00d7ff; text-decoration-color: #00d7ff\">None</span>, <span style=\"color: #00af00; text-decoration-color: #00af00\">28</span>, <span style=\"color: #00af00; text-decoration-color: #00af00\">28</span>)         │             <span style=\"color: #00af00; text-decoration-color: #00af00\">0</span> │\n",
       "├─────────────────────────────────┼────────────────────────┼───────────────┤\n",
       "│ conv1d (<span style=\"color: #0087ff; text-decoration-color: #0087ff\">Conv1D</span>)                 │ (<span style=\"color: #00d7ff; text-decoration-color: #00d7ff\">None</span>, <span style=\"color: #00af00; text-decoration-color: #00af00\">28</span>, <span style=\"color: #00af00; text-decoration-color: #00af00\">32</span>)         │         <span style=\"color: #00af00; text-decoration-color: #00af00\">2,720</span> │\n",
       "├─────────────────────────────────┼────────────────────────┼───────────────┤\n",
       "│ batch_normalization             │ (<span style=\"color: #00d7ff; text-decoration-color: #00d7ff\">None</span>, <span style=\"color: #00af00; text-decoration-color: #00af00\">28</span>, <span style=\"color: #00af00; text-decoration-color: #00af00\">32</span>)         │           <span style=\"color: #00af00; text-decoration-color: #00af00\">128</span> │\n",
       "│ (<span style=\"color: #0087ff; text-decoration-color: #0087ff\">BatchNormalization</span>)            │                        │               │\n",
       "├─────────────────────────────────┼────────────────────────┼───────────────┤\n",
       "│ dropout (<span style=\"color: #0087ff; text-decoration-color: #0087ff\">Dropout</span>)               │ (<span style=\"color: #00d7ff; text-decoration-color: #00d7ff\">None</span>, <span style=\"color: #00af00; text-decoration-color: #00af00\">28</span>, <span style=\"color: #00af00; text-decoration-color: #00af00\">32</span>)         │             <span style=\"color: #00af00; text-decoration-color: #00af00\">0</span> │\n",
       "├─────────────────────────────────┼────────────────────────┼───────────────┤\n",
       "│ conv1d_1 (<span style=\"color: #0087ff; text-decoration-color: #0087ff\">Conv1D</span>)               │ (<span style=\"color: #00d7ff; text-decoration-color: #00d7ff\">None</span>, <span style=\"color: #00af00; text-decoration-color: #00af00\">28</span>, <span style=\"color: #00af00; text-decoration-color: #00af00\">32</span>)         │         <span style=\"color: #00af00; text-decoration-color: #00af00\">3,104</span> │\n",
       "├─────────────────────────────────┼────────────────────────┼───────────────┤\n",
       "│ batch_normalization_1           │ (<span style=\"color: #00d7ff; text-decoration-color: #00d7ff\">None</span>, <span style=\"color: #00af00; text-decoration-color: #00af00\">28</span>, <span style=\"color: #00af00; text-decoration-color: #00af00\">32</span>)         │           <span style=\"color: #00af00; text-decoration-color: #00af00\">128</span> │\n",
       "│ (<span style=\"color: #0087ff; text-decoration-color: #0087ff\">BatchNormalization</span>)            │                        │               │\n",
       "├─────────────────────────────────┼────────────────────────┼───────────────┤\n",
       "│ dropout_1 (<span style=\"color: #0087ff; text-decoration-color: #0087ff\">Dropout</span>)             │ (<span style=\"color: #00d7ff; text-decoration-color: #00d7ff\">None</span>, <span style=\"color: #00af00; text-decoration-color: #00af00\">28</span>, <span style=\"color: #00af00; text-decoration-color: #00af00\">32</span>)         │             <span style=\"color: #00af00; text-decoration-color: #00af00\">0</span> │\n",
       "├─────────────────────────────────┼────────────────────────┼───────────────┤\n",
       "│ conv1d_2 (<span style=\"color: #0087ff; text-decoration-color: #0087ff\">Conv1D</span>)               │ (<span style=\"color: #00d7ff; text-decoration-color: #00d7ff\">None</span>, <span style=\"color: #00af00; text-decoration-color: #00af00\">28</span>, <span style=\"color: #00af00; text-decoration-color: #00af00\">32</span>)         │         <span style=\"color: #00af00; text-decoration-color: #00af00\">3,104</span> │\n",
       "├─────────────────────────────────┼────────────────────────┼───────────────┤\n",
       "│ batch_normalization_2           │ (<span style=\"color: #00d7ff; text-decoration-color: #00d7ff\">None</span>, <span style=\"color: #00af00; text-decoration-color: #00af00\">28</span>, <span style=\"color: #00af00; text-decoration-color: #00af00\">32</span>)         │           <span style=\"color: #00af00; text-decoration-color: #00af00\">128</span> │\n",
       "│ (<span style=\"color: #0087ff; text-decoration-color: #0087ff\">BatchNormalization</span>)            │                        │               │\n",
       "├─────────────────────────────────┼────────────────────────┼───────────────┤\n",
       "│ dropout_2 (<span style=\"color: #0087ff; text-decoration-color: #0087ff\">Dropout</span>)             │ (<span style=\"color: #00d7ff; text-decoration-color: #00d7ff\">None</span>, <span style=\"color: #00af00; text-decoration-color: #00af00\">28</span>, <span style=\"color: #00af00; text-decoration-color: #00af00\">32</span>)         │             <span style=\"color: #00af00; text-decoration-color: #00af00\">0</span> │\n",
       "├─────────────────────────────────┼────────────────────────┼───────────────┤\n",
       "│ flatten (<span style=\"color: #0087ff; text-decoration-color: #0087ff\">Flatten</span>)               │ (<span style=\"color: #00d7ff; text-decoration-color: #00d7ff\">None</span>, <span style=\"color: #00af00; text-decoration-color: #00af00\">896</span>)            │             <span style=\"color: #00af00; text-decoration-color: #00af00\">0</span> │\n",
       "├─────────────────────────────────┼────────────────────────┼───────────────┤\n",
       "│ dense (<span style=\"color: #0087ff; text-decoration-color: #0087ff\">Dense</span>)                   │ (<span style=\"color: #00d7ff; text-decoration-color: #00d7ff\">None</span>, <span style=\"color: #00af00; text-decoration-color: #00af00\">128</span>)            │       <span style=\"color: #00af00; text-decoration-color: #00af00\">114,816</span> │\n",
       "├─────────────────────────────────┼────────────────────────┼───────────────┤\n",
       "│ dropout_3 (<span style=\"color: #0087ff; text-decoration-color: #0087ff\">Dropout</span>)             │ (<span style=\"color: #00d7ff; text-decoration-color: #00d7ff\">None</span>, <span style=\"color: #00af00; text-decoration-color: #00af00\">128</span>)            │             <span style=\"color: #00af00; text-decoration-color: #00af00\">0</span> │\n",
       "├─────────────────────────────────┼────────────────────────┼───────────────┤\n",
       "│ dense_1 (<span style=\"color: #0087ff; text-decoration-color: #0087ff\">Dense</span>)                 │ (<span style=\"color: #00d7ff; text-decoration-color: #00d7ff\">None</span>, <span style=\"color: #00af00; text-decoration-color: #00af00\">10</span>)             │         <span style=\"color: #00af00; text-decoration-color: #00af00\">1,290</span> │\n",
       "└─────────────────────────────────┴────────────────────────┴───────────────┘\n",
       "</pre>\n"
      ],
      "text/plain": [
       "┏━━━━━━━━━━━━━━━━━━━━━━━━━━━━━━━━━┳━━━━━━━━━━━━━━━━━━━━━━━━┳━━━━━━━━━━━━━━━┓\n",
       "┃\u001b[1m \u001b[0m\u001b[1mLayer (type)                   \u001b[0m\u001b[1m \u001b[0m┃\u001b[1m \u001b[0m\u001b[1mOutput Shape          \u001b[0m\u001b[1m \u001b[0m┃\u001b[1m \u001b[0m\u001b[1m      Param #\u001b[0m\u001b[1m \u001b[0m┃\n",
       "┡━━━━━━━━━━━━━━━━━━━━━━━━━━━━━━━━━╇━━━━━━━━━━━━━━━━━━━━━━━━╇━━━━━━━━━━━━━━━┩\n",
       "│ input_layer (\u001b[38;5;33mInputLayer\u001b[0m)        │ (\u001b[38;5;45mNone\u001b[0m, \u001b[38;5;34m28\u001b[0m, \u001b[38;5;34m28\u001b[0m)         │             \u001b[38;5;34m0\u001b[0m │\n",
       "├─────────────────────────────────┼────────────────────────┼───────────────┤\n",
       "│ conv1d (\u001b[38;5;33mConv1D\u001b[0m)                 │ (\u001b[38;5;45mNone\u001b[0m, \u001b[38;5;34m28\u001b[0m, \u001b[38;5;34m32\u001b[0m)         │         \u001b[38;5;34m2,720\u001b[0m │\n",
       "├─────────────────────────────────┼────────────────────────┼───────────────┤\n",
       "│ batch_normalization             │ (\u001b[38;5;45mNone\u001b[0m, \u001b[38;5;34m28\u001b[0m, \u001b[38;5;34m32\u001b[0m)         │           \u001b[38;5;34m128\u001b[0m │\n",
       "│ (\u001b[38;5;33mBatchNormalization\u001b[0m)            │                        │               │\n",
       "├─────────────────────────────────┼────────────────────────┼───────────────┤\n",
       "│ dropout (\u001b[38;5;33mDropout\u001b[0m)               │ (\u001b[38;5;45mNone\u001b[0m, \u001b[38;5;34m28\u001b[0m, \u001b[38;5;34m32\u001b[0m)         │             \u001b[38;5;34m0\u001b[0m │\n",
       "├─────────────────────────────────┼────────────────────────┼───────────────┤\n",
       "│ conv1d_1 (\u001b[38;5;33mConv1D\u001b[0m)               │ (\u001b[38;5;45mNone\u001b[0m, \u001b[38;5;34m28\u001b[0m, \u001b[38;5;34m32\u001b[0m)         │         \u001b[38;5;34m3,104\u001b[0m │\n",
       "├─────────────────────────────────┼────────────────────────┼───────────────┤\n",
       "│ batch_normalization_1           │ (\u001b[38;5;45mNone\u001b[0m, \u001b[38;5;34m28\u001b[0m, \u001b[38;5;34m32\u001b[0m)         │           \u001b[38;5;34m128\u001b[0m │\n",
       "│ (\u001b[38;5;33mBatchNormalization\u001b[0m)            │                        │               │\n",
       "├─────────────────────────────────┼────────────────────────┼───────────────┤\n",
       "│ dropout_1 (\u001b[38;5;33mDropout\u001b[0m)             │ (\u001b[38;5;45mNone\u001b[0m, \u001b[38;5;34m28\u001b[0m, \u001b[38;5;34m32\u001b[0m)         │             \u001b[38;5;34m0\u001b[0m │\n",
       "├─────────────────────────────────┼────────────────────────┼───────────────┤\n",
       "│ conv1d_2 (\u001b[38;5;33mConv1D\u001b[0m)               │ (\u001b[38;5;45mNone\u001b[0m, \u001b[38;5;34m28\u001b[0m, \u001b[38;5;34m32\u001b[0m)         │         \u001b[38;5;34m3,104\u001b[0m │\n",
       "├─────────────────────────────────┼────────────────────────┼───────────────┤\n",
       "│ batch_normalization_2           │ (\u001b[38;5;45mNone\u001b[0m, \u001b[38;5;34m28\u001b[0m, \u001b[38;5;34m32\u001b[0m)         │           \u001b[38;5;34m128\u001b[0m │\n",
       "│ (\u001b[38;5;33mBatchNormalization\u001b[0m)            │                        │               │\n",
       "├─────────────────────────────────┼────────────────────────┼───────────────┤\n",
       "│ dropout_2 (\u001b[38;5;33mDropout\u001b[0m)             │ (\u001b[38;5;45mNone\u001b[0m, \u001b[38;5;34m28\u001b[0m, \u001b[38;5;34m32\u001b[0m)         │             \u001b[38;5;34m0\u001b[0m │\n",
       "├─────────────────────────────────┼────────────────────────┼───────────────┤\n",
       "│ flatten (\u001b[38;5;33mFlatten\u001b[0m)               │ (\u001b[38;5;45mNone\u001b[0m, \u001b[38;5;34m896\u001b[0m)            │             \u001b[38;5;34m0\u001b[0m │\n",
       "├─────────────────────────────────┼────────────────────────┼───────────────┤\n",
       "│ dense (\u001b[38;5;33mDense\u001b[0m)                   │ (\u001b[38;5;45mNone\u001b[0m, \u001b[38;5;34m128\u001b[0m)            │       \u001b[38;5;34m114,816\u001b[0m │\n",
       "├─────────────────────────────────┼────────────────────────┼───────────────┤\n",
       "│ dropout_3 (\u001b[38;5;33mDropout\u001b[0m)             │ (\u001b[38;5;45mNone\u001b[0m, \u001b[38;5;34m128\u001b[0m)            │             \u001b[38;5;34m0\u001b[0m │\n",
       "├─────────────────────────────────┼────────────────────────┼───────────────┤\n",
       "│ dense_1 (\u001b[38;5;33mDense\u001b[0m)                 │ (\u001b[38;5;45mNone\u001b[0m, \u001b[38;5;34m10\u001b[0m)             │         \u001b[38;5;34m1,290\u001b[0m │\n",
       "└─────────────────────────────────┴────────────────────────┴───────────────┘\n"
      ]
     },
     "metadata": {},
     "output_type": "display_data"
    },
    {
     "data": {
      "text/html": [
       "<pre style=\"white-space:pre;overflow-x:auto;line-height:normal;font-family:Menlo,'DejaVu Sans Mono',consolas,'Courier New',monospace\"><span style=\"font-weight: bold\"> Total params: </span><span style=\"color: #00af00; text-decoration-color: #00af00\">125,418</span> (489.91 KB)\n",
       "</pre>\n"
      ],
      "text/plain": [
       "\u001b[1m Total params: \u001b[0m\u001b[38;5;34m125,418\u001b[0m (489.91 KB)\n"
      ]
     },
     "metadata": {},
     "output_type": "display_data"
    },
    {
     "data": {
      "text/html": [
       "<pre style=\"white-space:pre;overflow-x:auto;line-height:normal;font-family:Menlo,'DejaVu Sans Mono',consolas,'Courier New',monospace\"><span style=\"font-weight: bold\"> Trainable params: </span><span style=\"color: #00af00; text-decoration-color: #00af00\">125,226</span> (489.16 KB)\n",
       "</pre>\n"
      ],
      "text/plain": [
       "\u001b[1m Trainable params: \u001b[0m\u001b[38;5;34m125,226\u001b[0m (489.16 KB)\n"
      ]
     },
     "metadata": {},
     "output_type": "display_data"
    },
    {
     "data": {
      "text/html": [
       "<pre style=\"white-space:pre;overflow-x:auto;line-height:normal;font-family:Menlo,'DejaVu Sans Mono',consolas,'Courier New',monospace\"><span style=\"font-weight: bold\"> Non-trainable params: </span><span style=\"color: #00af00; text-decoration-color: #00af00\">192</span> (768.00 B)\n",
       "</pre>\n"
      ],
      "text/plain": [
       "\u001b[1m Non-trainable params: \u001b[0m\u001b[38;5;34m192\u001b[0m (768.00 B)\n"
      ]
     },
     "metadata": {},
     "output_type": "display_data"
    }
   ],
   "source": [
    "model.compile(optimizer='Adam', loss='categorical_crossentropy', metrics=['accuracy'])\n",
    "model.summary()"
   ]
  },
  {
   "cell_type": "code",
   "execution_count": 9,
   "id": "10c724b2",
   "metadata": {
    "colab": {
     "base_uri": "https://localhost:8080/"
    },
    "executionInfo": {
     "elapsed": 91481,
     "status": "ok",
     "timestamp": 1746431442897,
     "user": {
      "displayName": "Hind Azegrouz",
      "userId": "04469582049561885297"
     },
     "user_tz": -120
    },
    "id": "10c724b2",
    "outputId": "1a2a6f39-c3fb-45ac-97e6-b0779d5ba41b"
   },
   "outputs": [
    {
     "name": "stdout",
     "output_type": "stream",
     "text": [
      "Epoch 1/200\n",
      "48/48 - 4s - 90ms/step - accuracy: 0.6974 - loss: 0.9672 - val_accuracy: 0.9252 - val_loss: 0.2504\n",
      "Epoch 2/200\n",
      "48/48 - 2s - 36ms/step - accuracy: 0.9079 - loss: 0.2976 - val_accuracy: 0.9562 - val_loss: 0.1457\n",
      "Epoch 3/200\n",
      "48/48 - 2s - 35ms/step - accuracy: 0.9352 - loss: 0.2095 - val_accuracy: 0.9666 - val_loss: 0.1139\n",
      "Epoch 4/200\n",
      "48/48 - 2s - 34ms/step - accuracy: 0.9476 - loss: 0.1683 - val_accuracy: 0.9711 - val_loss: 0.0972\n",
      "Epoch 5/200\n",
      "48/48 - 2s - 40ms/step - accuracy: 0.9566 - loss: 0.1402 - val_accuracy: 0.9731 - val_loss: 0.0846\n",
      "Epoch 6/200\n",
      "48/48 - 2s - 34ms/step - accuracy: 0.9618 - loss: 0.1231 - val_accuracy: 0.9760 - val_loss: 0.0778\n",
      "Epoch 7/200\n",
      "48/48 - 2s - 35ms/step - accuracy: 0.9656 - loss: 0.1117 - val_accuracy: 0.9770 - val_loss: 0.0738\n",
      "Epoch 8/200\n",
      "48/48 - 2s - 35ms/step - accuracy: 0.9685 - loss: 0.1012 - val_accuracy: 0.9768 - val_loss: 0.0742\n",
      "Epoch 9/200\n",
      "48/48 - 2s - 41ms/step - accuracy: 0.9712 - loss: 0.0929 - val_accuracy: 0.9789 - val_loss: 0.0669\n",
      "Epoch 10/200\n",
      "48/48 - 2s - 47ms/step - accuracy: 0.9729 - loss: 0.0870 - val_accuracy: 0.9808 - val_loss: 0.0625\n",
      "Epoch 11/200\n",
      "48/48 - 2s - 41ms/step - accuracy: 0.9751 - loss: 0.0794 - val_accuracy: 0.9815 - val_loss: 0.0605\n",
      "Epoch 12/200\n",
      "48/48 - 2s - 35ms/step - accuracy: 0.9759 - loss: 0.0758 - val_accuracy: 0.9817 - val_loss: 0.0583\n",
      "Epoch 13/200\n",
      "48/48 - 2s - 35ms/step - accuracy: 0.9769 - loss: 0.0721 - val_accuracy: 0.9830 - val_loss: 0.0567\n",
      "Epoch 14/200\n",
      "48/48 - 2s - 40ms/step - accuracy: 0.9787 - loss: 0.0675 - val_accuracy: 0.9838 - val_loss: 0.0528\n",
      "Epoch 15/200\n",
      "48/48 - 2s - 35ms/step - accuracy: 0.9795 - loss: 0.0649 - val_accuracy: 0.9843 - val_loss: 0.0519\n",
      "Epoch 16/200\n",
      "48/48 - 2s - 37ms/step - accuracy: 0.9804 - loss: 0.0604 - val_accuracy: 0.9852 - val_loss: 0.0489\n",
      "Epoch 17/200\n",
      "48/48 - 2s - 42ms/step - accuracy: 0.9822 - loss: 0.0555 - val_accuracy: 0.9860 - val_loss: 0.0476\n",
      "Epoch 18/200\n",
      "48/48 - 2s - 43ms/step - accuracy: 0.9830 - loss: 0.0555 - val_accuracy: 0.9868 - val_loss: 0.0457\n",
      "Epoch 19/200\n",
      "48/48 - 2s - 41ms/step - accuracy: 0.9829 - loss: 0.0532 - val_accuracy: 0.9868 - val_loss: 0.0483\n",
      "Epoch 20/200\n",
      "48/48 - 2s - 47ms/step - accuracy: 0.9835 - loss: 0.0510 - val_accuracy: 0.9867 - val_loss: 0.0455\n",
      "Epoch 21/200\n",
      "48/48 - 3s - 55ms/step - accuracy: 0.9852 - loss: 0.0474 - val_accuracy: 0.9867 - val_loss: 0.0450\n",
      "Epoch 22/200\n",
      "48/48 - 2s - 50ms/step - accuracy: 0.9858 - loss: 0.0447 - val_accuracy: 0.9881 - val_loss: 0.0436\n",
      "Epoch 23/200\n",
      "48/48 - 2s - 45ms/step - accuracy: 0.9851 - loss: 0.0458 - val_accuracy: 0.9881 - val_loss: 0.0446\n",
      "Epoch 24/200\n",
      "48/48 - 2s - 46ms/step - accuracy: 0.9862 - loss: 0.0428 - val_accuracy: 0.9868 - val_loss: 0.0447\n",
      "Epoch 25/200\n",
      "48/48 - 2s - 51ms/step - accuracy: 0.9861 - loss: 0.0424 - val_accuracy: 0.9890 - val_loss: 0.0413\n",
      "Epoch 26/200\n",
      "48/48 - 2s - 43ms/step - accuracy: 0.9873 - loss: 0.0392 - val_accuracy: 0.9870 - val_loss: 0.0423\n",
      "Epoch 27/200\n",
      "48/48 - 2s - 40ms/step - accuracy: 0.9878 - loss: 0.0386 - val_accuracy: 0.9882 - val_loss: 0.0410\n",
      "Epoch 28/200\n",
      "48/48 - 2s - 35ms/step - accuracy: 0.9874 - loss: 0.0380 - val_accuracy: 0.9872 - val_loss: 0.0448\n",
      "Epoch 29/200\n",
      "48/48 - 2s - 47ms/step - accuracy: 0.9878 - loss: 0.0358 - val_accuracy: 0.9885 - val_loss: 0.0433\n",
      "Epoch 30/200\n",
      "48/48 - 3s - 53ms/step - accuracy: 0.9878 - loss: 0.0366 - val_accuracy: 0.9872 - val_loss: 0.0414\n",
      "Epoch 31/200\n",
      "48/48 - 3s - 52ms/step - accuracy: 0.9879 - loss: 0.0352 - val_accuracy: 0.9883 - val_loss: 0.0412\n",
      "Epoch 32/200\n",
      "48/48 - 2s - 50ms/step - accuracy: 0.9887 - loss: 0.0331 - val_accuracy: 0.9887 - val_loss: 0.0416\n",
      "Epoch 33/200\n",
      "48/48 - 2s - 50ms/step - accuracy: 0.9881 - loss: 0.0342 - val_accuracy: 0.9887 - val_loss: 0.0412\n",
      "Epoch 34/200\n",
      "48/48 - 2s - 51ms/step - accuracy: 0.9899 - loss: 0.0312 - val_accuracy: 0.9880 - val_loss: 0.0423\n",
      "Epoch 35/200\n",
      "48/48 - 3s - 53ms/step - accuracy: 0.9887 - loss: 0.0323 - val_accuracy: 0.9891 - val_loss: 0.0407\n",
      "Epoch 36/200\n",
      "48/48 - 3s - 53ms/step - accuracy: 0.9898 - loss: 0.0299 - val_accuracy: 0.9893 - val_loss: 0.0394\n",
      "Epoch 37/200\n",
      "48/48 - 2s - 44ms/step - accuracy: 0.9893 - loss: 0.0308 - val_accuracy: 0.9887 - val_loss: 0.0404\n",
      "Epoch 38/200\n",
      "48/48 - 2s - 43ms/step - accuracy: 0.9904 - loss: 0.0285 - val_accuracy: 0.9885 - val_loss: 0.0409\n",
      "Epoch 39/200\n",
      "48/48 - 2s - 44ms/step - accuracy: 0.9897 - loss: 0.0298 - val_accuracy: 0.9894 - val_loss: 0.0383\n",
      "Epoch 40/200\n",
      "48/48 - 2s - 45ms/step - accuracy: 0.9898 - loss: 0.0282 - val_accuracy: 0.9891 - val_loss: 0.0397\n",
      "Epoch 41/200\n",
      "48/48 - 2s - 44ms/step - accuracy: 0.9909 - loss: 0.0267 - val_accuracy: 0.9894 - val_loss: 0.0407\n",
      "Epoch 42/200\n",
      "48/48 - 2s - 47ms/step - accuracy: 0.9906 - loss: 0.0283 - val_accuracy: 0.9880 - val_loss: 0.0411\n",
      "Epoch 43/200\n",
      "48/48 - 2s - 45ms/step - accuracy: 0.9911 - loss: 0.0271 - val_accuracy: 0.9893 - val_loss: 0.0405\n",
      "Epoch 44/200\n",
      "48/48 - 2s - 43ms/step - accuracy: 0.9909 - loss: 0.0268 - val_accuracy: 0.9885 - val_loss: 0.0397\n",
      "Epoch 45/200\n",
      "48/48 - 2s - 42ms/step - accuracy: 0.9914 - loss: 0.0260 - val_accuracy: 0.9891 - val_loss: 0.0395\n",
      "Epoch 46/200\n",
      "48/48 - 2s - 45ms/step - accuracy: 0.9915 - loss: 0.0256 - val_accuracy: 0.9890 - val_loss: 0.0400\n",
      "Epoch 47/200\n",
      "48/48 - 2s - 41ms/step - accuracy: 0.9918 - loss: 0.0235 - val_accuracy: 0.9891 - val_loss: 0.0388\n",
      "Epoch 48/200\n",
      "48/48 - 2s - 38ms/step - accuracy: 0.9911 - loss: 0.0253 - val_accuracy: 0.9902 - val_loss: 0.0382\n",
      "Epoch 49/200\n",
      "48/48 - 2s - 43ms/step - accuracy: 0.9914 - loss: 0.0241 - val_accuracy: 0.9894 - val_loss: 0.0399\n",
      "Epoch 50/200\n",
      "48/48 - 2s - 50ms/step - accuracy: 0.9920 - loss: 0.0230 - val_accuracy: 0.9894 - val_loss: 0.0391\n",
      "Epoch 51/200\n",
      "48/48 - 2s - 42ms/step - accuracy: 0.9924 - loss: 0.0229 - val_accuracy: 0.9888 - val_loss: 0.0409\n",
      "Epoch 52/200\n",
      "48/48 - 2s - 38ms/step - accuracy: 0.9921 - loss: 0.0237 - val_accuracy: 0.9891 - val_loss: 0.0390\n",
      "Epoch 53/200\n",
      "48/48 - 2s - 46ms/step - accuracy: 0.9926 - loss: 0.0217 - val_accuracy: 0.9899 - val_loss: 0.0401\n",
      "Epoch 54/200\n",
      "48/48 - 3s - 52ms/step - accuracy: 0.9923 - loss: 0.0229 - val_accuracy: 0.9886 - val_loss: 0.0388\n",
      "Epoch 55/200\n",
      "48/48 - 2s - 44ms/step - accuracy: 0.9924 - loss: 0.0219 - val_accuracy: 0.9893 - val_loss: 0.0390\n",
      "Epoch 56/200\n",
      "48/48 - 2s - 41ms/step - accuracy: 0.9928 - loss: 0.0209 - val_accuracy: 0.9901 - val_loss: 0.0389\n",
      "Epoch 57/200\n",
      "48/48 - 2s - 42ms/step - accuracy: 0.9929 - loss: 0.0204 - val_accuracy: 0.9908 - val_loss: 0.0385\n",
      "Epoch 58/200\n",
      "48/48 - 2s - 39ms/step - accuracy: 0.9932 - loss: 0.0203 - val_accuracy: 0.9894 - val_loss: 0.0428\n",
      "Epoch 59/200\n",
      "48/48 - 2s - 37ms/step - accuracy: 0.9923 - loss: 0.0224 - val_accuracy: 0.9901 - val_loss: 0.0391\n",
      "Epoch 60/200\n",
      "48/48 - 3s - 52ms/step - accuracy: 0.9932 - loss: 0.0204 - val_accuracy: 0.9902 - val_loss: 0.0379\n",
      "Epoch 61/200\n",
      "48/48 - 2s - 35ms/step - accuracy: 0.9931 - loss: 0.0193 - val_accuracy: 0.9897 - val_loss: 0.0377\n",
      "Epoch 62/200\n",
      "48/48 - 2s - 38ms/step - accuracy: 0.9928 - loss: 0.0203 - val_accuracy: 0.9887 - val_loss: 0.0402\n",
      "Epoch 63/200\n",
      "48/48 - 2s - 38ms/step - accuracy: 0.9938 - loss: 0.0196 - val_accuracy: 0.9897 - val_loss: 0.0406\n",
      "Epoch 64/200\n",
      "48/48 - 2s - 39ms/step - accuracy: 0.9935 - loss: 0.0187 - val_accuracy: 0.9890 - val_loss: 0.0437\n",
      "Epoch 65/200\n",
      "48/48 - 2s - 44ms/step - accuracy: 0.9940 - loss: 0.0182 - val_accuracy: 0.9898 - val_loss: 0.0404\n",
      "Epoch 66/200\n",
      "48/48 - 2s - 48ms/step - accuracy: 0.9939 - loss: 0.0181 - val_accuracy: 0.9898 - val_loss: 0.0396\n",
      "Epoch 67/200\n",
      "48/48 - 2s - 46ms/step - accuracy: 0.9941 - loss: 0.0177 - val_accuracy: 0.9895 - val_loss: 0.0404\n",
      "Epoch 68/200\n",
      "48/48 - 2s - 50ms/step - accuracy: 0.9940 - loss: 0.0183 - val_accuracy: 0.9899 - val_loss: 0.0388\n",
      "Epoch 69/200\n",
      "48/48 - 2s - 46ms/step - accuracy: 0.9936 - loss: 0.0187 - val_accuracy: 0.9902 - val_loss: 0.0391\n",
      "Epoch 70/200\n",
      "48/48 - 2s - 48ms/step - accuracy: 0.9938 - loss: 0.0182 - val_accuracy: 0.9904 - val_loss: 0.0396\n",
      "Epoch 71/200\n",
      "48/48 - 2s - 42ms/step - accuracy: 0.9946 - loss: 0.0162 - val_accuracy: 0.9898 - val_loss: 0.0411\n",
      "Epoch 72/200\n",
      "48/48 - 2s - 40ms/step - accuracy: 0.9943 - loss: 0.0168 - val_accuracy: 0.9896 - val_loss: 0.0410\n",
      "Epoch 73/200\n",
      "48/48 - 2s - 39ms/step - accuracy: 0.9942 - loss: 0.0163 - val_accuracy: 0.9892 - val_loss: 0.0426\n",
      "Epoch 74/200\n",
      "48/48 - 2s - 37ms/step - accuracy: 0.9942 - loss: 0.0168 - val_accuracy: 0.9902 - val_loss: 0.0390\n",
      "Epoch 75/200\n",
      "48/48 - 2s - 36ms/step - accuracy: 0.9946 - loss: 0.0163 - val_accuracy: 0.9902 - val_loss: 0.0401\n",
      "Epoch 76/200\n",
      "48/48 - 2s - 38ms/step - accuracy: 0.9940 - loss: 0.0177 - val_accuracy: 0.9905 - val_loss: 0.0407\n",
      "Epoch 77/200\n",
      "48/48 - 2s - 38ms/step - accuracy: 0.9942 - loss: 0.0160 - val_accuracy: 0.9908 - val_loss: 0.0396\n",
      "Epoch 78/200\n",
      "48/48 - 2s - 37ms/step - accuracy: 0.9945 - loss: 0.0148 - val_accuracy: 0.9898 - val_loss: 0.0403\n",
      "Epoch 79/200\n",
      "48/48 - 2s - 37ms/step - accuracy: 0.9950 - loss: 0.0139 - val_accuracy: 0.9901 - val_loss: 0.0423\n",
      "Epoch 80/200\n",
      "48/48 - 2s - 37ms/step - accuracy: 0.9948 - loss: 0.0153 - val_accuracy: 0.9914 - val_loss: 0.0388\n",
      "Epoch 81/200\n",
      "48/48 - 2s - 39ms/step - accuracy: 0.9942 - loss: 0.0175 - val_accuracy: 0.9905 - val_loss: 0.0399\n",
      "Epoch 82/200\n",
      "48/48 - 2s - 37ms/step - accuracy: 0.9950 - loss: 0.0141 - val_accuracy: 0.9908 - val_loss: 0.0405\n",
      "Epoch 83/200\n",
      "48/48 - 2s - 36ms/step - accuracy: 0.9944 - loss: 0.0153 - val_accuracy: 0.9898 - val_loss: 0.0422\n",
      "Epoch 84/200\n",
      "48/48 - 2s - 37ms/step - accuracy: 0.9945 - loss: 0.0157 - val_accuracy: 0.9898 - val_loss: 0.0407\n",
      "Epoch 85/200\n",
      "48/48 - 2s - 38ms/step - accuracy: 0.9950 - loss: 0.0146 - val_accuracy: 0.9900 - val_loss: 0.0409\n",
      "Epoch 86/200\n",
      "48/48 - 2s - 37ms/step - accuracy: 0.9947 - loss: 0.0153 - val_accuracy: 0.9903 - val_loss: 0.0403\n",
      "Epoch 87/200\n",
      "48/48 - 2s - 42ms/step - accuracy: 0.9947 - loss: 0.0158 - val_accuracy: 0.9908 - val_loss: 0.0421\n",
      "Epoch 88/200\n",
      "48/48 - 2s - 42ms/step - accuracy: 0.9948 - loss: 0.0140 - val_accuracy: 0.9905 - val_loss: 0.0407\n",
      "Epoch 89/200\n",
      "48/48 - 2s - 38ms/step - accuracy: 0.9951 - loss: 0.0133 - val_accuracy: 0.9908 - val_loss: 0.0403\n",
      "Epoch 90/200\n",
      "48/48 - 2s - 38ms/step - accuracy: 0.9952 - loss: 0.0149 - val_accuracy: 0.9902 - val_loss: 0.0431\n",
      "Epoch 91/200\n",
      "48/48 - 2s - 37ms/step - accuracy: 0.9953 - loss: 0.0143 - val_accuracy: 0.9904 - val_loss: 0.0397\n",
      "Epoch 92/200\n",
      "48/48 - 2s - 39ms/step - accuracy: 0.9952 - loss: 0.0141 - val_accuracy: 0.9899 - val_loss: 0.0410\n",
      "Epoch 93/200\n",
      "48/48 - 2s - 37ms/step - accuracy: 0.9949 - loss: 0.0156 - val_accuracy: 0.9902 - val_loss: 0.0404\n",
      "Epoch 94/200\n",
      "48/48 - 2s - 38ms/step - accuracy: 0.9953 - loss: 0.0140 - val_accuracy: 0.9901 - val_loss: 0.0414\n",
      "Epoch 95/200\n",
      "48/48 - 2s - 37ms/step - accuracy: 0.9959 - loss: 0.0121 - val_accuracy: 0.9907 - val_loss: 0.0421\n",
      "Epoch 96/200\n",
      "48/48 - 2s - 37ms/step - accuracy: 0.9945 - loss: 0.0139 - val_accuracy: 0.9897 - val_loss: 0.0443\n",
      "Epoch 97/200\n",
      "48/48 - 2s - 38ms/step - accuracy: 0.9958 - loss: 0.0131 - val_accuracy: 0.9907 - val_loss: 0.0418\n",
      "Epoch 98/200\n",
      "48/48 - 2s - 38ms/step - accuracy: 0.9946 - loss: 0.0142 - val_accuracy: 0.9900 - val_loss: 0.0437\n",
      "Epoch 99/200\n",
      "48/48 - 2s - 37ms/step - accuracy: 0.9953 - loss: 0.0133 - val_accuracy: 0.9901 - val_loss: 0.0434\n",
      "Epoch 100/200\n",
      "48/48 - 2s - 38ms/step - accuracy: 0.9948 - loss: 0.0145 - val_accuracy: 0.9901 - val_loss: 0.0404\n",
      "Epoch 101/200\n",
      "48/48 - 2s - 38ms/step - accuracy: 0.9961 - loss: 0.0120 - val_accuracy: 0.9907 - val_loss: 0.0399\n",
      "Epoch 102/200\n",
      "48/48 - 2s - 38ms/step - accuracy: 0.9947 - loss: 0.0142 - val_accuracy: 0.9909 - val_loss: 0.0396\n",
      "Epoch 103/200\n",
      "48/48 - 2s - 40ms/step - accuracy: 0.9951 - loss: 0.0142 - val_accuracy: 0.9902 - val_loss: 0.0447\n",
      "Epoch 104/200\n",
      "48/48 - 2s - 38ms/step - accuracy: 0.9952 - loss: 0.0141 - val_accuracy: 0.9907 - val_loss: 0.0437\n",
      "Epoch 105/200\n",
      "48/48 - 2s - 37ms/step - accuracy: 0.9960 - loss: 0.0122 - val_accuracy: 0.9908 - val_loss: 0.0432\n",
      "Epoch 106/200\n",
      "48/48 - 2s - 38ms/step - accuracy: 0.9954 - loss: 0.0136 - val_accuracy: 0.9903 - val_loss: 0.0431\n",
      "Epoch 107/200\n",
      "48/48 - 2s - 38ms/step - accuracy: 0.9955 - loss: 0.0131 - val_accuracy: 0.9902 - val_loss: 0.0425\n",
      "Epoch 108/200\n",
      "48/48 - 2s - 40ms/step - accuracy: 0.9955 - loss: 0.0123 - val_accuracy: 0.9902 - val_loss: 0.0407\n",
      "Epoch 109/200\n",
      "48/48 - 2s - 43ms/step - accuracy: 0.9959 - loss: 0.0124 - val_accuracy: 0.9910 - val_loss: 0.0395\n",
      "Epoch 110/200\n",
      "48/48 - 2s - 41ms/step - accuracy: 0.9961 - loss: 0.0115 - val_accuracy: 0.9898 - val_loss: 0.0416\n",
      "Epoch 111/200\n",
      "48/48 - 2s - 52ms/step - accuracy: 0.9959 - loss: 0.0116 - val_accuracy: 0.9910 - val_loss: 0.0408\n",
      "Epoch 112/200\n",
      "48/48 - 2s - 42ms/step - accuracy: 0.9954 - loss: 0.0131 - val_accuracy: 0.9908 - val_loss: 0.0399\n",
      "Epoch 113/200\n",
      "48/48 - 2s - 47ms/step - accuracy: 0.9959 - loss: 0.0119 - val_accuracy: 0.9911 - val_loss: 0.0403\n",
      "Epoch 114/200\n",
      "48/48 - 2s - 48ms/step - accuracy: 0.9958 - loss: 0.0116 - val_accuracy: 0.9909 - val_loss: 0.0408\n",
      "Epoch 115/200\n",
      "48/48 - 2s - 46ms/step - accuracy: 0.9958 - loss: 0.0123 - val_accuracy: 0.9911 - val_loss: 0.0425\n",
      "Epoch 116/200\n",
      "48/48 - 2s - 43ms/step - accuracy: 0.9957 - loss: 0.0119 - val_accuracy: 0.9907 - val_loss: 0.0448\n",
      "Epoch 117/200\n",
      "48/48 - 2s - 47ms/step - accuracy: 0.9959 - loss: 0.0128 - val_accuracy: 0.9910 - val_loss: 0.0418\n",
      "Epoch 118/200\n",
      "48/48 - 2s - 46ms/step - accuracy: 0.9956 - loss: 0.0120 - val_accuracy: 0.9912 - val_loss: 0.0408\n",
      "Epoch 119/200\n",
      "48/48 - 2s - 45ms/step - accuracy: 0.9963 - loss: 0.0106 - val_accuracy: 0.9910 - val_loss: 0.0412\n",
      "Epoch 120/200\n",
      "48/48 - 2s - 46ms/step - accuracy: 0.9966 - loss: 0.0105 - val_accuracy: 0.9909 - val_loss: 0.0429\n",
      "Epoch 121/200\n",
      "48/48 - 2s - 43ms/step - accuracy: 0.9960 - loss: 0.0114 - val_accuracy: 0.9911 - val_loss: 0.0436\n",
      "Epoch 122/200\n",
      "48/48 - 2s - 45ms/step - accuracy: 0.9957 - loss: 0.0119 - val_accuracy: 0.9908 - val_loss: 0.0402\n",
      "Epoch 123/200\n",
      "48/48 - 2s - 47ms/step - accuracy: 0.9960 - loss: 0.0119 - val_accuracy: 0.9910 - val_loss: 0.0411\n",
      "Epoch 124/200\n",
      "48/48 - 3s - 53ms/step - accuracy: 0.9958 - loss: 0.0123 - val_accuracy: 0.9906 - val_loss: 0.0418\n",
      "Epoch 125/200\n",
      "48/48 - 2s - 50ms/step - accuracy: 0.9962 - loss: 0.0114 - val_accuracy: 0.9906 - val_loss: 0.0432\n",
      "Epoch 126/200\n",
      "48/48 - 2s - 44ms/step - accuracy: 0.9959 - loss: 0.0123 - val_accuracy: 0.9902 - val_loss: 0.0432\n",
      "Epoch 127/200\n",
      "48/48 - 2s - 43ms/step - accuracy: 0.9958 - loss: 0.0118 - val_accuracy: 0.9904 - val_loss: 0.0426\n",
      "Epoch 128/200\n",
      "48/48 - 2s - 44ms/step - accuracy: 0.9957 - loss: 0.0124 - val_accuracy: 0.9902 - val_loss: 0.0407\n",
      "Epoch 129/200\n",
      "48/48 - 2s - 47ms/step - accuracy: 0.9959 - loss: 0.0116 - val_accuracy: 0.9903 - val_loss: 0.0397\n",
      "Epoch 130/200\n",
      "48/48 - 2s - 46ms/step - accuracy: 0.9966 - loss: 0.0111 - val_accuracy: 0.9905 - val_loss: 0.0413\n",
      "Epoch 131/200\n",
      "48/48 - 2s - 45ms/step - accuracy: 0.9960 - loss: 0.0120 - val_accuracy: 0.9906 - val_loss: 0.0432\n",
      "Epoch 132/200\n",
      "48/48 - 2s - 48ms/step - accuracy: 0.9966 - loss: 0.0103 - val_accuracy: 0.9905 - val_loss: 0.0421\n",
      "Epoch 133/200\n",
      "48/48 - 2s - 45ms/step - accuracy: 0.9962 - loss: 0.0111 - val_accuracy: 0.9905 - val_loss: 0.0407\n",
      "Epoch 134/200\n",
      "48/48 - 2s - 44ms/step - accuracy: 0.9967 - loss: 0.0092 - val_accuracy: 0.9902 - val_loss: 0.0438\n",
      "Epoch 135/200\n",
      "48/48 - 2s - 42ms/step - accuracy: 0.9962 - loss: 0.0105 - val_accuracy: 0.9902 - val_loss: 0.0459\n",
      "Epoch 136/200\n",
      "48/48 - 2s - 39ms/step - accuracy: 0.9968 - loss: 0.0093 - val_accuracy: 0.9900 - val_loss: 0.0431\n",
      "Epoch 137/200\n",
      "48/48 - 2s - 42ms/step - accuracy: 0.9963 - loss: 0.0109 - val_accuracy: 0.9902 - val_loss: 0.0447\n",
      "Epoch 138/200\n",
      "48/48 - 2s - 40ms/step - accuracy: 0.9962 - loss: 0.0107 - val_accuracy: 0.9903 - val_loss: 0.0450\n",
      "Epoch 139/200\n",
      "48/48 - 2s - 40ms/step - accuracy: 0.9964 - loss: 0.0108 - val_accuracy: 0.9912 - val_loss: 0.0437\n",
      "Epoch 140/200\n",
      "48/48 - 2s - 39ms/step - accuracy: 0.9964 - loss: 0.0101 - val_accuracy: 0.9913 - val_loss: 0.0440\n",
      "Epoch 141/200\n",
      "48/48 - 2s - 39ms/step - accuracy: 0.9970 - loss: 0.0088 - val_accuracy: 0.9907 - val_loss: 0.0437\n",
      "Epoch 142/200\n",
      "48/48 - 2s - 41ms/step - accuracy: 0.9966 - loss: 0.0113 - val_accuracy: 0.9914 - val_loss: 0.0436\n",
      "Epoch 143/200\n",
      "48/48 - 2s - 43ms/step - accuracy: 0.9968 - loss: 0.0105 - val_accuracy: 0.9910 - val_loss: 0.0439\n",
      "Epoch 144/200\n",
      "48/48 - 2s - 41ms/step - accuracy: 0.9966 - loss: 0.0101 - val_accuracy: 0.9910 - val_loss: 0.0444\n",
      "Epoch 145/200\n",
      "48/48 - 2s - 40ms/step - accuracy: 0.9963 - loss: 0.0111 - val_accuracy: 0.9911 - val_loss: 0.0422\n",
      "Epoch 146/200\n",
      "48/48 - 2s - 40ms/step - accuracy: 0.9962 - loss: 0.0104 - val_accuracy: 0.9908 - val_loss: 0.0447\n",
      "Epoch 147/200\n",
      "48/48 - 2s - 39ms/step - accuracy: 0.9963 - loss: 0.0102 - val_accuracy: 0.9912 - val_loss: 0.0456\n",
      "Epoch 148/200\n",
      "48/48 - 2s - 44ms/step - accuracy: 0.9966 - loss: 0.0104 - val_accuracy: 0.9902 - val_loss: 0.0456\n",
      "Epoch 149/200\n",
      "48/48 - 2s - 46ms/step - accuracy: 0.9962 - loss: 0.0111 - val_accuracy: 0.9909 - val_loss: 0.0428\n",
      "Epoch 150/200\n",
      "48/48 - 3s - 54ms/step - accuracy: 0.9964 - loss: 0.0096 - val_accuracy: 0.9905 - val_loss: 0.0425\n",
      "Epoch 151/200\n",
      "48/48 - 2s - 42ms/step - accuracy: 0.9968 - loss: 0.0091 - val_accuracy: 0.9908 - val_loss: 0.0421\n",
      "Epoch 152/200\n",
      "48/48 - 3s - 59ms/step - accuracy: 0.9970 - loss: 0.0091 - val_accuracy: 0.9909 - val_loss: 0.0429\n",
      "Epoch 153/200\n",
      "48/48 - 5s - 99ms/step - accuracy: 0.9965 - loss: 0.0102 - val_accuracy: 0.9906 - val_loss: 0.0452\n",
      "Epoch 154/200\n",
      "48/48 - 2s - 40ms/step - accuracy: 0.9970 - loss: 0.0091 - val_accuracy: 0.9909 - val_loss: 0.0457\n",
      "Epoch 155/200\n",
      "48/48 - 2s - 39ms/step - accuracy: 0.9968 - loss: 0.0094 - val_accuracy: 0.9912 - val_loss: 0.0438\n",
      "Epoch 156/200\n",
      "48/48 - 2s - 40ms/step - accuracy: 0.9966 - loss: 0.0092 - val_accuracy: 0.9914 - val_loss: 0.0428\n",
      "Epoch 157/200\n",
      "48/48 - 2s - 41ms/step - accuracy: 0.9963 - loss: 0.0109 - val_accuracy: 0.9906 - val_loss: 0.0461\n",
      "Epoch 158/200\n",
      "48/48 - 2s - 38ms/step - accuracy: 0.9968 - loss: 0.0098 - val_accuracy: 0.9913 - val_loss: 0.0438\n",
      "Epoch 159/200\n",
      "48/48 - 2s - 37ms/step - accuracy: 0.9970 - loss: 0.0091 - val_accuracy: 0.9906 - val_loss: 0.0472\n",
      "Epoch 160/200\n",
      "48/48 - 2s - 39ms/step - accuracy: 0.9965 - loss: 0.0106 - val_accuracy: 0.9909 - val_loss: 0.0435\n",
      "Epoch 161/200\n",
      "48/48 - 2s - 37ms/step - accuracy: 0.9961 - loss: 0.0099 - val_accuracy: 0.9912 - val_loss: 0.0423\n",
      "Epoch 162/200\n",
      "48/48 - 2s - 38ms/step - accuracy: 0.9967 - loss: 0.0103 - val_accuracy: 0.9901 - val_loss: 0.0460\n",
      "Epoch 163/200\n",
      "48/48 - 2s - 38ms/step - accuracy: 0.9966 - loss: 0.0103 - val_accuracy: 0.9912 - val_loss: 0.0430\n",
      "Epoch 164/200\n",
      "48/48 - 2s - 40ms/step - accuracy: 0.9971 - loss: 0.0093 - val_accuracy: 0.9903 - val_loss: 0.0454\n",
      "Epoch 165/200\n",
      "48/48 - 2s - 37ms/step - accuracy: 0.9970 - loss: 0.0091 - val_accuracy: 0.9906 - val_loss: 0.0459\n",
      "Epoch 166/200\n",
      "48/48 - 2s - 38ms/step - accuracy: 0.9966 - loss: 0.0098 - val_accuracy: 0.9913 - val_loss: 0.0437\n",
      "Epoch 167/200\n",
      "48/48 - 2s - 37ms/step - accuracy: 0.9968 - loss: 0.0096 - val_accuracy: 0.9907 - val_loss: 0.0458\n",
      "Epoch 168/200\n",
      "48/48 - 2s - 37ms/step - accuracy: 0.9965 - loss: 0.0094 - val_accuracy: 0.9912 - val_loss: 0.0422\n",
      "Epoch 169/200\n",
      "48/48 - 2s - 38ms/step - accuracy: 0.9968 - loss: 0.0089 - val_accuracy: 0.9912 - val_loss: 0.0439\n",
      "Epoch 170/200\n",
      "48/48 - 2s - 37ms/step - accuracy: 0.9968 - loss: 0.0091 - val_accuracy: 0.9906 - val_loss: 0.0438\n",
      "Epoch 171/200\n",
      "48/48 - 2s - 36ms/step - accuracy: 0.9968 - loss: 0.0090 - val_accuracy: 0.9904 - val_loss: 0.0496\n",
      "Epoch 172/200\n",
      "48/48 - 2s - 38ms/step - accuracy: 0.9963 - loss: 0.0098 - val_accuracy: 0.9911 - val_loss: 0.0438\n",
      "Epoch 173/200\n",
      "48/48 - 2s - 37ms/step - accuracy: 0.9971 - loss: 0.0091 - val_accuracy: 0.9908 - val_loss: 0.0421\n",
      "Epoch 174/200\n",
      "48/48 - 2s - 37ms/step - accuracy: 0.9967 - loss: 0.0094 - val_accuracy: 0.9904 - val_loss: 0.0437\n",
      "Epoch 175/200\n",
      "48/48 - 2s - 37ms/step - accuracy: 0.9969 - loss: 0.0089 - val_accuracy: 0.9912 - val_loss: 0.0440\n",
      "Epoch 176/200\n",
      "48/48 - 2s - 40ms/step - accuracy: 0.9971 - loss: 0.0088 - val_accuracy: 0.9916 - val_loss: 0.0425\n",
      "Epoch 177/200\n",
      "48/48 - 2s - 38ms/step - accuracy: 0.9968 - loss: 0.0090 - val_accuracy: 0.9912 - val_loss: 0.0422\n",
      "Epoch 178/200\n",
      "48/48 - 2s - 41ms/step - accuracy: 0.9971 - loss: 0.0089 - val_accuracy: 0.9916 - val_loss: 0.0450\n",
      "Epoch 179/200\n",
      "48/48 - 2s - 37ms/step - accuracy: 0.9972 - loss: 0.0083 - val_accuracy: 0.9912 - val_loss: 0.0479\n",
      "Epoch 180/200\n",
      "48/48 - 2s - 38ms/step - accuracy: 0.9967 - loss: 0.0089 - val_accuracy: 0.9907 - val_loss: 0.0450\n",
      "Epoch 181/200\n",
      "48/48 - 2s - 38ms/step - accuracy: 0.9975 - loss: 0.0076 - val_accuracy: 0.9911 - val_loss: 0.0481\n",
      "Epoch 182/200\n",
      "48/48 - 2s - 36ms/step - accuracy: 0.9969 - loss: 0.0088 - val_accuracy: 0.9915 - val_loss: 0.0458\n",
      "Epoch 183/200\n",
      "48/48 - 2s - 37ms/step - accuracy: 0.9968 - loss: 0.0093 - val_accuracy: 0.9914 - val_loss: 0.0475\n",
      "Epoch 184/200\n",
      "48/48 - 2s - 38ms/step - accuracy: 0.9965 - loss: 0.0105 - val_accuracy: 0.9908 - val_loss: 0.0488\n",
      "Epoch 185/200\n",
      "48/48 - 2s - 37ms/step - accuracy: 0.9969 - loss: 0.0094 - val_accuracy: 0.9906 - val_loss: 0.0500\n",
      "Epoch 186/200\n",
      "48/48 - 2s - 36ms/step - accuracy: 0.9972 - loss: 0.0081 - val_accuracy: 0.9911 - val_loss: 0.0481\n",
      "Epoch 187/200\n",
      "48/48 - 2s - 40ms/step - accuracy: 0.9969 - loss: 0.0093 - val_accuracy: 0.9908 - val_loss: 0.0484\n",
      "Epoch 188/200\n",
      "48/48 - 2s - 39ms/step - accuracy: 0.9970 - loss: 0.0091 - val_accuracy: 0.9917 - val_loss: 0.0459\n",
      "Epoch 189/200\n",
      "48/48 - 2s - 37ms/step - accuracy: 0.9974 - loss: 0.0081 - val_accuracy: 0.9906 - val_loss: 0.0492\n",
      "Epoch 190/200\n",
      "48/48 - 2s - 39ms/step - accuracy: 0.9972 - loss: 0.0083 - val_accuracy: 0.9906 - val_loss: 0.0469\n",
      "Epoch 191/200\n",
      "48/48 - 2s - 37ms/step - accuracy: 0.9968 - loss: 0.0090 - val_accuracy: 0.9908 - val_loss: 0.0440\n",
      "Epoch 192/200\n",
      "48/48 - 2s - 37ms/step - accuracy: 0.9971 - loss: 0.0086 - val_accuracy: 0.9904 - val_loss: 0.0494\n",
      "Epoch 193/200\n",
      "48/48 - 2s - 40ms/step - accuracy: 0.9975 - loss: 0.0080 - val_accuracy: 0.9908 - val_loss: 0.0483\n",
      "Epoch 194/200\n",
      "48/48 - 2s - 41ms/step - accuracy: 0.9965 - loss: 0.0093 - val_accuracy: 0.9908 - val_loss: 0.0484\n",
      "Epoch 195/200\n",
      "48/48 - 2s - 42ms/step - accuracy: 0.9970 - loss: 0.0081 - val_accuracy: 0.9906 - val_loss: 0.0490\n",
      "Epoch 196/200\n",
      "48/48 - 2s - 40ms/step - accuracy: 0.9972 - loss: 0.0084 - val_accuracy: 0.9908 - val_loss: 0.0463\n",
      "Epoch 197/200\n",
      "48/48 - 2s - 39ms/step - accuracy: 0.9975 - loss: 0.0079 - val_accuracy: 0.9914 - val_loss: 0.0497\n",
      "Epoch 198/200\n",
      "48/48 - 2s - 36ms/step - accuracy: 0.9970 - loss: 0.0082 - val_accuracy: 0.9920 - val_loss: 0.0480\n",
      "Epoch 199/200\n",
      "48/48 - 2s - 38ms/step - accuracy: 0.9970 - loss: 0.0088 - val_accuracy: 0.9912 - val_loss: 0.0492\n",
      "Epoch 200/200\n",
      "48/48 - 2s - 38ms/step - accuracy: 0.9970 - loss: 0.0084 - val_accuracy: 0.9908 - val_loss: 0.0491\n"
     ]
    },
    {
     "data": {
      "text/plain": [
       "<keras.src.callbacks.history.History at 0x1baf3dfb880>"
      ]
     },
     "execution_count": 9,
     "metadata": {},
     "output_type": "execute_result"
    }
   ],
   "source": [
    "model.fit(x_train, y_train, batch_size=1000, epochs=200, validation_split=0.2, verbose=2)"
   ]
  },
  {
   "cell_type": "code",
   "execution_count": 10,
   "id": "dde52ec1",
   "metadata": {
    "colab": {
     "base_uri": "https://localhost:8080/"
    },
    "executionInfo": {
     "elapsed": 1320,
     "status": "ok",
     "timestamp": 1746431444220,
     "user": {
      "displayName": "Hind Azegrouz",
      "userId": "04469582049561885297"
     },
     "user_tz": -120
    },
    "id": "dde52ec1",
    "outputId": "b6806859-0371-4d89-ccba-1f904902da5f"
   },
   "outputs": [
    {
     "name": "stdout",
     "output_type": "stream",
     "text": [
      "\u001b[1m313/313\u001b[0m \u001b[32m━━━━━━━━━━━━━━━━━━━━\u001b[0m\u001b[37m\u001b[0m \u001b[1m1s\u001b[0m 3ms/step\n",
      "[[2.83399353e-23 2.20292689e-16 4.69489119e-14 1.32663845e-11\n",
      "  3.28392712e-25 4.87069303e-16 2.83366348e-27 1.00000000e+00\n",
      "  3.76217931e-20 3.60471765e-12]\n",
      " [1.49516509e-16 7.23592741e-09 1.00000000e+00 2.40777776e-15\n",
      "  1.70644194e-19 9.41418716e-23 4.16765240e-15 5.51730263e-16\n",
      "  2.19101106e-22 9.68630078e-25]\n",
      " [6.71512911e-20 1.00000000e+00 3.26664260e-13 5.16363878e-19\n",
      "  8.85133122e-09 1.50163028e-15 6.54938580e-16 2.41835579e-10\n",
      "  7.63687345e-14 2.96411011e-18]\n",
      " [9.99999762e-01 9.49181481e-17 4.14427146e-13 3.58987877e-14\n",
      "  3.84370948e-14 1.33924117e-14 2.25536667e-07 1.69070707e-14\n",
      "  1.80387758e-12 6.62781868e-14]\n",
      " [3.07906815e-21 2.67893973e-21 3.21558001e-21 1.61630153e-23\n",
      "  1.00000000e+00 1.20977095e-20 2.04303156e-17 3.51026335e-16\n",
      "  7.70863119e-20 1.30769102e-11]]\n",
      "[7 2 1 0 4]\n",
      "[7 2 1 0 4]\n"
     ]
    }
   ],
   "source": [
    "prediction = model.predict(x_test)\n",
    "print(prediction[:5])\n",
    "\n",
    "prediction = np.argmax(prediction, axis=-1)\n",
    "print(prediction[:5])\n",
    "print(y_test[:5])"
   ]
  },
  {
   "cell_type": "code",
   "execution_count": 11,
   "id": "1b8042b0",
   "metadata": {
    "executionInfo": {
     "elapsed": 237,
     "status": "ok",
     "timestamp": 1746431444460,
     "user": {
      "displayName": "Hind Azegrouz",
      "userId": "04469582049561885297"
     },
     "user_tz": -120
    },
    "id": "1b8042b0"
   },
   "outputs": [],
   "source": [
    "from sklearn.metrics import accuracy_score, confusion_matrix"
   ]
  },
  {
   "cell_type": "code",
   "execution_count": 12,
   "id": "5e20f0a5",
   "metadata": {
    "colab": {
     "base_uri": "https://localhost:8080/"
    },
    "executionInfo": {
     "elapsed": 57,
     "status": "ok",
     "timestamp": 1746431444518,
     "user": {
      "displayName": "Hind Azegrouz",
      "userId": "04469582049561885297"
     },
     "user_tz": -120
    },
    "id": "5e20f0a5",
    "outputId": "5f2641ea-e354-4021-ee47-da85cb196703"
   },
   "outputs": [
    {
     "name": "stdout",
     "output_type": "stream",
     "text": [
      "0.9914\n",
      "[[ 977    0    0    0    1    0    1    1    0    0]\n",
      " [   0 1132    1    0    0    0    2    0    0    0]\n",
      " [   1    1 1025    1    0    0    1    2    1    0]\n",
      " [   0    0    1 1001    0    5    0    1    1    1]\n",
      " [   0    0    0    0  972    0    4    0    1    5]\n",
      " [   1    0    0    5    0  883    3    0    0    0]\n",
      " [   1    2    0    0    1    2  951    0    1    0]\n",
      " [   0    1    8    0    0    0    0 1017    0    2]\n",
      " [   3    0    1    1    0    2    0    3  961    3]\n",
      " [   1    0    1    0    3    2    0    5    2  995]]\n"
     ]
    }
   ],
   "source": [
    "ac_score = accuracy_score(y_test, prediction)\n",
    "print(ac_score)\n",
    "\n",
    "conf_matrix = confusion_matrix(y_test, prediction)\n",
    "print(conf_matrix)"
   ]
  },
  {
   "cell_type": "code",
   "execution_count": 13,
   "id": "5c55a646",
   "metadata": {
    "executionInfo": {
     "elapsed": 681,
     "status": "ok",
     "timestamp": 1746431445201,
     "user": {
      "displayName": "Hind Azegrouz",
      "userId": "04469582049561885297"
     },
     "user_tz": -120
    },
    "id": "5c55a646"
   },
   "outputs": [],
   "source": [
    "import seaborn as sns"
   ]
  },
  {
   "cell_type": "code",
   "execution_count": 14,
   "id": "9490baf2",
   "metadata": {
    "colab": {
     "base_uri": "https://localhost:8080/",
     "height": 497
    },
    "executionInfo": {
     "elapsed": 598,
     "status": "ok",
     "timestamp": 1746431445801,
     "user": {
      "displayName": "Hind Azegrouz",
      "userId": "04469582049561885297"
     },
     "user_tz": -120
    },
    "id": "9490baf2",
    "outputId": "64824d45-4fe8-485a-b79d-72cd1d433205"
   },
   "outputs": [
    {
     "data": {
      "text/plain": [
       "Text(50.722222222222214, 0.5, 'actual')"
      ]
     },
     "execution_count": 14,
     "metadata": {},
     "output_type": "execute_result"
    },
    {
     "data": {
      "image/png": "[encoded data removed]",
      "text/plain": [
       "<Figure size 640x480 with 2 Axes>"
      ]
     },
     "metadata": {},
     "output_type": "display_data"
    }
   ],
   "source": [
    "ax = sns.heatmap(conf_matrix, annot=True, fmt='d', cmap='Purples')\n",
    "ax.set_title('confusion matrix for MNIST dataset', fontsize=16)\n",
    "ax.set_xlabel('prediction', fontsize=16)\n",
    "ax.set_ylabel('actual', fontsize=16)"
   ]
  },
  {
   "cell_type": "code",
   "execution_count": 15,
   "id": "f674b32a",
   "metadata": {},
   "outputs": [
    {
     "name": "stdout",
     "output_type": "stream",
     "text": [
      "\u001b[1m1/1\u001b[0m \u001b[32m━━━━━━━━━━━━━━━━━━━━\u001b[0m\u001b[37m\u001b[0m \u001b[1m0s\u001b[0m 47ms/step\n",
      "Predicted digit: 0\n",
      "\u001b[1m1/1\u001b[0m \u001b[32m━━━━━━━━━━━━━━━━━━━━\u001b[0m\u001b[37m\u001b[0m \u001b[1m0s\u001b[0m 24ms/step\n",
      "Predicted digit: 5\n",
      "\u001b[1m1/1\u001b[0m \u001b[32m━━━━━━━━━━━━━━━━━━━━\u001b[0m\u001b[37m\u001b[0m \u001b[1m0s\u001b[0m 41ms/step\n",
      "Predicted digit: 1\n",
      "\u001b[1m1/1\u001b[0m \u001b[32m━━━━━━━━━━━━━━━━━━━━\u001b[0m\u001b[37m\u001b[0m \u001b[1m0s\u001b[0m 37ms/step\n",
      "Predicted digit: 2\n",
      "\u001b[1m1/1\u001b[0m \u001b[32m━━━━━━━━━━━━━━━━━━━━\u001b[0m\u001b[37m\u001b[0m \u001b[1m0s\u001b[0m 38ms/step\n",
      "Predicted digit: 3\n",
      "\u001b[1m1/1\u001b[0m \u001b[32m━━━━━━━━━━━━━━━━━━━━\u001b[0m\u001b[37m\u001b[0m \u001b[1m0s\u001b[0m 39ms/step\n",
      "Predicted digit: 4\n",
      "\u001b[1m1/1\u001b[0m \u001b[32m━━━━━━━━━━━━━━━━━━━━\u001b[0m\u001b[37m\u001b[0m \u001b[1m0s\u001b[0m 42ms/step\n",
      "Predicted digit: 5\n",
      "\u001b[1m1/1\u001b[0m \u001b[32m━━━━━━━━━━━━━━━━━━━━\u001b[0m\u001b[37m\u001b[0m \u001b[1m0s\u001b[0m 37ms/step\n",
      "Predicted digit: 6\n",
      "\u001b[1m1/1\u001b[0m \u001b[32m━━━━━━━━━━━━━━━━━━━━\u001b[0m\u001b[37m\u001b[0m \u001b[1m0s\u001b[0m 32ms/step\n",
      "Predicted digit: 7\n",
      "\u001b[1m1/1\u001b[0m \u001b[32m━━━━━━━━━━━━━━━━━━━━\u001b[0m\u001b[37m\u001b[0m \u001b[1m0s\u001b[0m 50ms/step\n",
      "Predicted digit: 8\n",
      "\u001b[1m1/1\u001b[0m \u001b[32m━━━━━━━━━━━━━━━━━━━━\u001b[0m\u001b[37m\u001b[0m \u001b[1m0s\u001b[0m 41ms/step\n",
      "Predicted digit: 1\n",
      "\u001b[1m1/1\u001b[0m \u001b[32m━━━━━━━━━━━━━━━━━━━━\u001b[0m\u001b[37m\u001b[0m \u001b[1m0s\u001b[0m 46ms/step\n",
      "Predicted digit: 4\n",
      "\u001b[1m1/1\u001b[0m \u001b[32m━━━━━━━━━━━━━━━━━━━━\u001b[0m\u001b[37m\u001b[0m \u001b[1m0s\u001b[0m 39ms/step\n",
      "Predicted digit: 4\n",
      "\u001b[1m1/1\u001b[0m \u001b[32m━━━━━━━━━━━━━━━━━━━━\u001b[0m\u001b[37m\u001b[0m \u001b[1m0s\u001b[0m 40ms/step\n",
      "Predicted digit: 4\n",
      "\u001b[1m1/1\u001b[0m \u001b[32m━━━━━━━━━━━━━━━━━━━━\u001b[0m\u001b[37m\u001b[0m \u001b[1m0s\u001b[0m 41ms/step\n",
      "Predicted digit: 2\n",
      "\u001b[1m1/1\u001b[0m \u001b[32m━━━━━━━━━━━━━━━━━━━━\u001b[0m\u001b[37m\u001b[0m \u001b[1m0s\u001b[0m 41ms/step\n",
      "Predicted digit: 2\n",
      "\u001b[1m1/1\u001b[0m \u001b[32m━━━━━━━━━━━━━━━━━━━━\u001b[0m\u001b[37m\u001b[0m \u001b[1m0s\u001b[0m 47ms/step\n",
      "Predicted digit: 4\n",
      "\u001b[1m1/1\u001b[0m \u001b[32m━━━━━━━━━━━━━━━━━━━━\u001b[0m\u001b[37m\u001b[0m \u001b[1m0s\u001b[0m 37ms/step\n",
      "Predicted digit: 1\n",
      "\u001b[1m1/1\u001b[0m \u001b[32m━━━━━━━━━━━━━━━━━━━━\u001b[0m\u001b[37m\u001b[0m \u001b[1m0s\u001b[0m 45ms/step\n",
      "Predicted digit: 3\n",
      "\u001b[1m1/1\u001b[0m \u001b[32m━━━━━━━━━━━━━━━━━━━━\u001b[0m\u001b[37m\u001b[0m \u001b[1m0s\u001b[0m 49ms/step\n",
      "Predicted digit: 2\n",
      "\u001b[1m1/1\u001b[0m \u001b[32m━━━━━━━━━━━━━━━━━━━━\u001b[0m\u001b[37m\u001b[0m \u001b[1m0s\u001b[0m 38ms/step\n",
      "Predicted digit: 9\n"
     ]
    }
   ],
   "source": [
    "import tkinter as tk\n",
    "from PIL import Image, ImageDraw, ImageOps\n",
    "import numpy as np\n",
    "from tensorflow import keras\n",
    "\n",
    "# Load your trained Keras model\n",
    "#model = keras.models.load_model(\"model.h5\")\n",
    "\n",
    "# Create a Tkinter window\n",
    "class App(tk.Tk):\n",
    "    def __init__(self):\n",
    "        super().__init__()\n",
    "        self.title(\"Draw a Digit\")\n",
    "        self.canvas = tk.Canvas(self, width=280, height=280, bg='white')\n",
    "        self.canvas.pack()\n",
    "        self.button = tk.Button(self, text=\"Predict\", command=self.predict)\n",
    "        self.button.pack()\n",
    "        self.clear_button = tk.Button(self, text=\"Clear\", command=self.clear)\n",
    "        self.clear_button.pack()\n",
    "\n",
    "        self.canvas.bind(\"<B1-Motion>\", self.paint)\n",
    "        self.image1 = Image.new(\"L\", (280, 280), color=255)\n",
    "        self.draw = ImageDraw.Draw(self.image1)\n",
    "\n",
    "    def paint(self, event):\n",
    "        x1, y1 = (event.x - 8), (event.y - 8)\n",
    "        x2, y2 = (event.x + 8), (event.y + 8)\n",
    "        self.canvas.create_oval(x1, y1, x2, y2, fill='black')\n",
    "        self.draw.ellipse([x1, y1, x2, y2], fill=0)\n",
    "\n",
    "    def clear(self):\n",
    "        self.canvas.delete(\"all\")\n",
    "        self.draw.rectangle([0, 0, 280, 280], fill=255)\n",
    "\n",
    "    def predict(self):\n",
    "        img = self.image1.resize((28, 28))\n",
    "        img = ImageOps.invert(img)\n",
    "        img = np.array(img).astype(np.float32) / 255.0\n",
    "        img = np.expand_dims(img, axis=0)  # Keras expects (batch_size, height, width)\n",
    "\n",
    "        output = model.predict(img)\n",
    "        pred = np.argmax(output)\n",
    "\n",
    "        print(f\"Predicted digit: {pred}\")\n",
    "        self.title(f\"Predicted: {pred}\")\n",
    "\n",
    "\n",
    "# Run the app\n",
    "app = App()\n",
    "app.mainloop()"
   ]
  },
  {
   "cell_type": "code",
   "execution_count": 16,
   "id": "c4326eff",
   "metadata": {},
   "outputs": [
    {
     "name": "stderr",
     "output_type": "stream",
     "text": [
      "WARNING:absl:You are saving your model as an HDF5 file via `model.save()` or `keras.saving.save_model(model)`. This file format is considered legacy. We recommend using instead the native Keras format, e.g. `model.save('my_model.keras')` or `keras.saving.save_model(model, 'my_model.keras')`. \n"
     ]
    }
   ],
   "source": [
    "model.save('../models/mnist-model-2.h5')"
   ]
  }
 ],
 "metadata": {
  "colab": {
   "provenance": []
  },
  "kernelspec": {
   "display_name": "base",
   "language": "python",
   "name": "python3"
  },
  "language_info": {
   "codemirror_mode": {
    "name": "ipython",
    "version": 3
   },
   "file_extension": ".py",
   "mimetype": "text/x-python",
   "name": "python",
   "nbconvert_exporter": "python",
   "pygments_lexer": "ipython3",
   "version": "3.12.4"
  }
 },
 "nbformat": 4,
 "nbformat_minor": 5
}
